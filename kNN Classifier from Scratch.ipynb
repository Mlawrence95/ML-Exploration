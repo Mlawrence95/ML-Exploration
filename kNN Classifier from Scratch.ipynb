{
 "cells": [
  {
   "cell_type": "code",
   "execution_count": 7,
   "metadata": {},
   "outputs": [],
   "source": [
    "import numpy as np\n",
    "import pandas as pd\n",
    "import scipy \n",
    "\n",
    "import matplotlib.pyplot as plt\n",
    "import seaborn as sns\n",
    "\n",
    "from sklearn.neighbors import KNeighborsClassifier\n",
    "from sklearn.datasets.samples_generator import make_blobs\n",
    "\n",
    "%matplotlib inline"
   ]
  },
  {
   "cell_type": "markdown",
   "metadata": {},
   "source": [
    "When confronted with data that has discrete categories, it is often valuable to consider the problem in which one must sort unseen data into these categories based on some set of attributes common to both the old data and the new, unsorted data. This is formally referred to as a classification problem in machine learning. \n",
    "\n",
    "One solution to this problem is called k-Nearest Neighbors, or kNN. This is a supervised method, which means it's a useful approach when the \"old\" data, or training set, it already labelled. In this notebook we will explore what some clustered data might look like, as well as how to build a kNN classifier from scratch. \n",
    "\n",
    "The prerequisite knowledge to understanding kNN is really only geometry -- knowing the pythagorean theorem. To apply it, you should be familiar with a programming language of your choice, as well as proper data etiquette, meaning respecting the boundary between training data and the data of testing and validation."
   ]
  },
  {
   "cell_type": "code",
   "execution_count": 333,
   "metadata": {},
   "outputs": [],
   "source": [
    "numberOfSamples = 500\n",
    "spread = 5\n",
    "\n",
    "dataSeed = 10"
   ]
  },
  {
   "cell_type": "markdown",
   "metadata": {},
   "source": [
    "Here we call upon Sci-kit Learn to build some blobs for us to play with. Play around with these parameters and see how your results change. Be aware that the data generating process we use here automatically creates a balanced number of classes, which will not generally be the case. You must be careful with this in application."
   ]
  },
  {
   "cell_type": "code",
   "execution_count": 334,
   "metadata": {},
   "outputs": [],
   "source": [
    "# data generation paramaterized by the inputs above. make_blobs is from sci-kit learn.\n",
    "\n",
    "# There are items below dependent on the number of clusters.\n",
    "numberOfClusters = 5\n",
    "\n",
    "points, labels = make_blobs(n_samples=numberOfSamples,centers=numberOfClusters,\n",
    "                            cluster_std=spread,random_state=dataSeed)"
   ]
  },
  {
   "cell_type": "code",
   "execution_count": 322,
   "metadata": {
    "scrolled": true
   },
   "outputs": [],
   "source": [
    "# cleaning up the generated data.\n",
    "# .T is the transpose operation\n",
    "\n",
    "data = {'x':points.T[0],\n",
    "       'y':points.T[1],\n",
    "       'Class':labels}\n",
    "\n",
    "assert(sum([points[i][0] for i in range(10)] == points.T[0][:10]) == 10)"
   ]
  },
  {
   "cell_type": "markdown",
   "metadata": {},
   "source": [
    "Suppose we have some data on categories and their descriptive data. "
   ]
  },
  {
   "cell_type": "code",
   "execution_count": 323,
   "metadata": {
    "scrolled": true
   },
   "outputs": [
    {
     "data": {
      "text/html": [
       "<div>\n",
       "<style scoped>\n",
       "    .dataframe tbody tr th:only-of-type {\n",
       "        vertical-align: middle;\n",
       "    }\n",
       "\n",
       "    .dataframe tbody tr th {\n",
       "        vertical-align: top;\n",
       "    }\n",
       "\n",
       "    .dataframe thead th {\n",
       "        text-align: right;\n",
       "    }\n",
       "</style>\n",
       "<table border=\"1\" class=\"dataframe\">\n",
       "  <thead>\n",
       "    <tr style=\"text-align: right;\">\n",
       "      <th></th>\n",
       "      <th>x</th>\n",
       "      <th>y</th>\n",
       "      <th>Class</th>\n",
       "    </tr>\n",
       "  </thead>\n",
       "  <tbody>\n",
       "    <tr>\n",
       "      <th>0</th>\n",
       "      <td>-12.484366</td>\n",
       "      <td>0.339616</td>\n",
       "      <td>3</td>\n",
       "    </tr>\n",
       "    <tr>\n",
       "      <th>1</th>\n",
       "      <td>-5.063562</td>\n",
       "      <td>11.700110</td>\n",
       "      <td>1</td>\n",
       "    </tr>\n",
       "    <tr>\n",
       "      <th>2</th>\n",
       "      <td>-2.342555</td>\n",
       "      <td>-4.411273</td>\n",
       "      <td>2</td>\n",
       "    </tr>\n",
       "    <tr>\n",
       "      <th>3</th>\n",
       "      <td>-11.466636</td>\n",
       "      <td>9.969344</td>\n",
       "      <td>3</td>\n",
       "    </tr>\n",
       "    <tr>\n",
       "      <th>4</th>\n",
       "      <td>1.242955</td>\n",
       "      <td>0.662286</td>\n",
       "      <td>1</td>\n",
       "    </tr>\n",
       "  </tbody>\n",
       "</table>\n",
       "</div>"
      ],
      "text/plain": [
       "           x          y  Class\n",
       "0 -12.484366   0.339616      3\n",
       "1  -5.063562  11.700110      1\n",
       "2  -2.342555  -4.411273      2\n",
       "3 -11.466636   9.969344      3\n",
       "4   1.242955   0.662286      1"
      ]
     },
     "execution_count": 323,
     "metadata": {},
     "output_type": "execute_result"
    }
   ],
   "source": [
    "clusterData = pd.DataFrame(data)\n",
    "clusterData.head()"
   ]
  },
  {
   "cell_type": "markdown",
   "metadata": {},
   "source": [
    "None of these classes are particularly rare or excessively common. Our understanding of them is relatively equal."
   ]
  },
  {
   "cell_type": "code",
   "execution_count": 324,
   "metadata": {},
   "outputs": [
    {
     "data": {
      "image/png": "[encoded data removed]",
      "text/plain": [
       "<Figure size 432x288 with 1 Axes>"
      ]
     },
     "metadata": {},
     "output_type": "display_data"
    }
   ],
   "source": [
    "# verifying that the classes are balanced\n",
    "\n",
    "clusterData['Class'].value_counts().plot(kind='bar');\n",
    "plt.xlabel('Category');\n",
    "plt.ylabel('Count');\n",
    "plt.title('Class Balance from Generated Data');"
   ]
  },
  {
   "cell_type": "markdown",
   "metadata": {},
   "source": [
    "Let's call these categories the genre of music associated with an artist. We can describe the artist's genre with data points x and y, but these sound more interesting as \"Fan Intensity\" and \"Track Pace\". \n",
    "\n",
    "We could add many more of these descriptive variables to narrow down the data, but the same principles apply with 2 variables. Let's proceed."
   ]
  },
  {
   "cell_type": "code",
   "execution_count": 340,
   "metadata": {},
   "outputs": [],
   "source": [
    "# Fabricating some interesting labels for our classes\n",
    "\n",
    "classLabels = {0:'Psychedelic Rock',\n",
    "            1:'Doom Metal',\n",
    "            2:'Rap',\n",
    "            3:'Reggae',\n",
    "            4:'Drum and Bass'\n",
    "            }\n",
    "\n",
    "musicLabel = {'Class':classLabels}\n",
    "newColumnNames = {'x':'Fan Intensity',\n",
    "                 'y':'Track Pace',\n",
    "                 'Class':'Genre'}"
   ]
  },
  {
   "cell_type": "code",
   "execution_count": 341,
   "metadata": {
    "scrolled": true
   },
   "outputs": [
    {
     "data": {
      "text/html": [
       "<div>\n",
       "<style scoped>\n",
       "    .dataframe tbody tr th:only-of-type {\n",
       "        vertical-align: middle;\n",
       "    }\n",
       "\n",
       "    .dataframe tbody tr th {\n",
       "        vertical-align: top;\n",
       "    }\n",
       "\n",
       "    .dataframe thead th {\n",
       "        text-align: right;\n",
       "    }\n",
       "</style>\n",
       "<table border=\"1\" class=\"dataframe\">\n",
       "  <thead>\n",
       "    <tr style=\"text-align: right;\">\n",
       "      <th></th>\n",
       "      <th>Fan Intensity</th>\n",
       "      <th>Track Pace</th>\n",
       "      <th>Genre</th>\n",
       "    </tr>\n",
       "  </thead>\n",
       "  <tbody>\n",
       "    <tr>\n",
       "      <th>0</th>\n",
       "      <td>-12.484366</td>\n",
       "      <td>0.339616</td>\n",
       "      <td>Reggae</td>\n",
       "    </tr>\n",
       "    <tr>\n",
       "      <th>1</th>\n",
       "      <td>-5.063562</td>\n",
       "      <td>11.700110</td>\n",
       "      <td>Doom Metal</td>\n",
       "    </tr>\n",
       "    <tr>\n",
       "      <th>2</th>\n",
       "      <td>-2.342555</td>\n",
       "      <td>-4.411273</td>\n",
       "      <td>Rap</td>\n",
       "    </tr>\n",
       "    <tr>\n",
       "      <th>3</th>\n",
       "      <td>-11.466636</td>\n",
       "      <td>9.969344</td>\n",
       "      <td>Reggae</td>\n",
       "    </tr>\n",
       "    <tr>\n",
       "      <th>4</th>\n",
       "      <td>1.242955</td>\n",
       "      <td>0.662286</td>\n",
       "      <td>Doom Metal</td>\n",
       "    </tr>\n",
       "  </tbody>\n",
       "</table>\n",
       "</div>"
      ],
      "text/plain": [
       "   Fan Intensity  Track Pace       Genre\n",
       "0     -12.484366    0.339616      Reggae\n",
       "1      -5.063562   11.700110  Doom Metal\n",
       "2      -2.342555   -4.411273         Rap\n",
       "3     -11.466636    9.969344      Reggae\n",
       "4       1.242955    0.662286  Doom Metal"
      ]
     },
     "execution_count": 341,
     "metadata": {},
     "output_type": "execute_result"
    }
   ],
   "source": [
    "# Swapping out the old labels for the ones above.\n",
    "# Feel free to create whichever categories you like\n",
    "\n",
    "musicData = clusterData.replace(musicLabel)\n",
    "musicData = musicData.rename(index=str,columns=newColumnNames)\n",
    "musicData.head()"
   ]
  },
  {
   "cell_type": "markdown",
   "metadata": {},
   "source": [
    "With this data in hand, we aim to *classify* a new datapoint that is given to us by a friend. Our friend says that this artist has -10 of Fan Intensity, and -5 of Track Pace. What genre do you think this artist is best described by?"
   ]
  },
  {
   "cell_type": "code",
   "execution_count": 342,
   "metadata": {},
   "outputs": [],
   "source": [
    "unknownArtist = [-10,-5]"
   ]
  },
  {
   "cell_type": "markdown",
   "metadata": {},
   "source": [
    "A natural way to approach this problem is to think about the artists we know and what genre they fall into, then decide where this unknown artist fits with respect to them and their genre classification."
   ]
  },
  {
   "cell_type": "code",
   "execution_count": 343,
   "metadata": {},
   "outputs": [
    {
     "data": {
      "image/png": "[encoded data removed]",
      "text/plain": [
       "<Figure size 576x432 with 1 Axes>"
      ]
     },
     "metadata": {},
     "output_type": "display_data"
    }
   ],
   "source": [
    "plt.figure(figsize=(8,6))\n",
    "\n",
    "sns.scatterplot(x='Fan Intensity',y='Track Pace',hue='Genre',\n",
    "               data=musicData, legend='full')\n",
    "\n",
    "plt.scatter(unknownArtist[0],unknownArtist[1],\n",
    "            color='black',marker='*',s=100,label='Unknown')\n",
    "\n",
    "plt.title('Musical Artists in Track vs Intensity Space');\n",
    "plt.legend(loc='center left', bbox_to_anchor=(1, 0.5));"
   ]
  },
  {
   "cell_type": "markdown",
   "metadata": {},
   "source": [
    "Plotting the traits of the artist our friend gave us versus the other artists we are familiar with, it seems like our data suggests that the unknown artist's genre is something similar to drum and bass, rap, and/or reggae. \n",
    "\n",
    "How can we make a decision? Let's turn our intuition into an algorithm with some math. In particular, let's look at the distance between each point and our unknown point on this plot and check the genre of the artists that are the closest to our unknown artist. If all of the closest point are rap, for example, it would make sense that our new artist is a rapper too.\n",
    "\n",
    "First, let's build a helper function -- a function that allows us to hide some code down the line and does a simple job for us. You may remember that the distance between two coordinates (vectors) is found by using the pythagorean theorem. \n",
    "\n",
    "You may also realize that this distance formula isn't restricted to 2 dimension. \n",
    "\n",
    "Hint: we can build this for as many descriptive dimensions as want,\n",
    "such as x, y, z ,a , b ,c..."
   ]
  },
  {
   "cell_type": "code",
   "execution_count": 344,
   "metadata": {},
   "outputs": [],
   "source": [
    "def distance(point1, point2):\n",
    "    \"\"\"\n",
    "    Returns the Euclidean distance between two points\n",
    "    \n",
    "    point1: [x1,y1]\n",
    "    point2: [x2,y2]\n",
    "    returns: sqrt( (x1-x2)**2 + (y1-y2)**2 )\n",
    "    \n",
    "    >>>p1 = [0,3]\n",
    "    >>>p2 = [4,0]\n",
    "    >>>distance(p1,p2)\n",
    "    5.0\n",
    "    \"\"\"\n",
    "    x1,y1 = point1[0],point1[1]\n",
    "    x2,y2 = point2[0],point2[1]\n",
    "    \n",
    "    return np.sqrt( (x1-x2)**2 + (y1-y2)**2 )"
   ]
  },
  {
   "cell_type": "code",
   "execution_count": 345,
   "metadata": {},
   "outputs": [],
   "source": [
    "assert(distance([0,3],[4,0]) == 5.0)\n",
    "assert(distance([0,3],[0,1]) == 2.0)"
   ]
  },
  {
   "cell_type": "markdown",
   "metadata": {},
   "source": [
    "Now we have a way to define distance between different artists, and we've tested that it worked the way we think it should with testing. Since this function takes in coordinates as arguments, and the unknown artist was given to us as a coordinate, let's make a new column in the music data table called \"Location\" that creates a coordinate."
   ]
  },
  {
   "cell_type": "code",
   "execution_count": 346,
   "metadata": {
    "scrolled": true
   },
   "outputs": [],
   "source": [
    "musicData['Location'] = [[musicData['Fan Intensity'][i],musicData['Track Pace'][i]] for i in musicData.index]"
   ]
  },
  {
   "cell_type": "code",
   "execution_count": 347,
   "metadata": {},
   "outputs": [
    {
     "data": {
      "text/html": [
       "<div>\n",
       "<style scoped>\n",
       "    .dataframe tbody tr th:only-of-type {\n",
       "        vertical-align: middle;\n",
       "    }\n",
       "\n",
       "    .dataframe tbody tr th {\n",
       "        vertical-align: top;\n",
       "    }\n",
       "\n",
       "    .dataframe thead th {\n",
       "        text-align: right;\n",
       "    }\n",
       "</style>\n",
       "<table border=\"1\" class=\"dataframe\">\n",
       "  <thead>\n",
       "    <tr style=\"text-align: right;\">\n",
       "      <th></th>\n",
       "      <th>Fan Intensity</th>\n",
       "      <th>Track Pace</th>\n",
       "      <th>Genre</th>\n",
       "      <th>Location</th>\n",
       "    </tr>\n",
       "  </thead>\n",
       "  <tbody>\n",
       "    <tr>\n",
       "      <th>0</th>\n",
       "      <td>-12.484366</td>\n",
       "      <td>0.339616</td>\n",
       "      <td>Reggae</td>\n",
       "      <td>[-12.484366211276262, 0.339616282688489]</td>\n",
       "    </tr>\n",
       "    <tr>\n",
       "      <th>1</th>\n",
       "      <td>-5.063562</td>\n",
       "      <td>11.700110</td>\n",
       "      <td>Doom Metal</td>\n",
       "      <td>[-5.063562256062138, 11.700110203913388]</td>\n",
       "    </tr>\n",
       "    <tr>\n",
       "      <th>2</th>\n",
       "      <td>-2.342555</td>\n",
       "      <td>-4.411273</td>\n",
       "      <td>Rap</td>\n",
       "      <td>[-2.3425553402160975, -4.411272929674191]</td>\n",
       "    </tr>\n",
       "    <tr>\n",
       "      <th>3</th>\n",
       "      <td>-11.466636</td>\n",
       "      <td>9.969344</td>\n",
       "      <td>Reggae</td>\n",
       "      <td>[-11.4666358971729, 9.9693440645541]</td>\n",
       "    </tr>\n",
       "    <tr>\n",
       "      <th>4</th>\n",
       "      <td>1.242955</td>\n",
       "      <td>0.662286</td>\n",
       "      <td>Doom Metal</td>\n",
       "      <td>[1.2429546602272374, 0.6622861537871856]</td>\n",
       "    </tr>\n",
       "  </tbody>\n",
       "</table>\n",
       "</div>"
      ],
      "text/plain": [
       "   Fan Intensity  Track Pace       Genre  \\\n",
       "0     -12.484366    0.339616      Reggae   \n",
       "1      -5.063562   11.700110  Doom Metal   \n",
       "2      -2.342555   -4.411273         Rap   \n",
       "3     -11.466636    9.969344      Reggae   \n",
       "4       1.242955    0.662286  Doom Metal   \n",
       "\n",
       "                                    Location  \n",
       "0   [-12.484366211276262, 0.339616282688489]  \n",
       "1   [-5.063562256062138, 11.700110203913388]  \n",
       "2  [-2.3425553402160975, -4.411272929674191]  \n",
       "3       [-11.4666358971729, 9.9693440645541]  \n",
       "4   [1.2429546602272374, 0.6622861537871856]  "
      ]
     },
     "execution_count": 347,
     "metadata": {},
     "output_type": "execute_result"
    }
   ],
   "source": [
    "musicData.head()"
   ]
  },
  {
   "cell_type": "code",
   "execution_count": null,
   "metadata": {},
   "outputs": [],
   "source": []
  },
  {
   "cell_type": "code",
   "execution_count": 266,
   "metadata": {},
   "outputs": [],
   "source": [
    "musicData['Distance from Unknown Artist'] = musicData['Location'].apply(lambda loc: distance(unknownArtist,loc))"
   ]
  },
  {
   "cell_type": "code",
   "execution_count": 275,
   "metadata": {
    "scrolled": true
   },
   "outputs": [
    {
     "data": {
      "text/html": [
       "<div>\n",
       "<style scoped>\n",
       "    .dataframe tbody tr th:only-of-type {\n",
       "        vertical-align: middle;\n",
       "    }\n",
       "\n",
       "    .dataframe tbody tr th {\n",
       "        vertical-align: top;\n",
       "    }\n",
       "\n",
       "    .dataframe thead th {\n",
       "        text-align: right;\n",
       "    }\n",
       "</style>\n",
       "<table border=\"1\" class=\"dataframe\">\n",
       "  <thead>\n",
       "    <tr style=\"text-align: right;\">\n",
       "      <th></th>\n",
       "      <th>x</th>\n",
       "      <th>y</th>\n",
       "      <th>Class</th>\n",
       "      <th>Location</th>\n",
       "      <th>Distance from Unknown Artist</th>\n",
       "    </tr>\n",
       "  </thead>\n",
       "  <tbody>\n",
       "    <tr>\n",
       "      <th>228</th>\n",
       "      <td>-9.750933</td>\n",
       "      <td>-5.149687</td>\n",
       "      <td>Drum and Bass</td>\n",
       "      <td>[-9.750932708593782, -5.149686930052425]</td>\n",
       "      <td>0.290587</td>\n",
       "    </tr>\n",
       "    <tr>\n",
       "      <th>374</th>\n",
       "      <td>-9.524751</td>\n",
       "      <td>-5.640692</td>\n",
       "      <td>Drum and Bass</td>\n",
       "      <td>[-9.524751021035561, -5.640692071615826]</td>\n",
       "      <td>0.797714</td>\n",
       "    </tr>\n",
       "    <tr>\n",
       "      <th>371</th>\n",
       "      <td>-9.793279</td>\n",
       "      <td>-4.102809</td>\n",
       "      <td>Drum and Bass</td>\n",
       "      <td>[-9.79327873189903, -4.10280869085086]</td>\n",
       "      <td>0.920699</td>\n",
       "    </tr>\n",
       "    <tr>\n",
       "      <th>427</th>\n",
       "      <td>-9.719171</td>\n",
       "      <td>-6.193068</td>\n",
       "      <td>Drum and Bass</td>\n",
       "      <td>[-9.719171471272038, -6.193068122555626]</td>\n",
       "      <td>1.225674</td>\n",
       "    </tr>\n",
       "    <tr>\n",
       "      <th>482</th>\n",
       "      <td>-10.600551</td>\n",
       "      <td>-3.718144</td>\n",
       "      <td>Drum and Bass</td>\n",
       "      <td>[-10.600550749002863, -3.7181439338680544]</td>\n",
       "      <td>1.415562</td>\n",
       "    </tr>\n",
       "  </tbody>\n",
       "</table>\n",
       "</div>"
      ],
      "text/plain": [
       "             x         y          Class  \\\n",
       "228  -9.750933 -5.149687  Drum and Bass   \n",
       "374  -9.524751 -5.640692  Drum and Bass   \n",
       "371  -9.793279 -4.102809  Drum and Bass   \n",
       "427  -9.719171 -6.193068  Drum and Bass   \n",
       "482 -10.600551 -3.718144  Drum and Bass   \n",
       "\n",
       "                                       Location  Distance from Unknown Artist  \n",
       "228    [-9.750932708593782, -5.149686930052425]                      0.290587  \n",
       "374    [-9.524751021035561, -5.640692071615826]                      0.797714  \n",
       "371      [-9.79327873189903, -4.10280869085086]                      0.920699  \n",
       "427    [-9.719171471272038, -6.193068122555626]                      1.225674  \n",
       "482  [-10.600550749002863, -3.7181439338680544]                      1.415562  "
      ]
     },
     "execution_count": 275,
     "metadata": {},
     "output_type": "execute_result"
    }
   ],
   "source": [
    "sortedDistance = musicData.sort_values('Distance from Unknown Artist')\n",
    "sortedDistance.head()"
   ]
  },
  {
   "cell_type": "code",
   "execution_count": 288,
   "metadata": {},
   "outputs": [],
   "source": [
    "k = 15"
   ]
  },
  {
   "cell_type": "code",
   "execution_count": 289,
   "metadata": {
    "scrolled": true
   },
   "outputs": [
    {
     "data": {
      "text/html": [
       "<div>\n",
       "<style scoped>\n",
       "    .dataframe tbody tr th:only-of-type {\n",
       "        vertical-align: middle;\n",
       "    }\n",
       "\n",
       "    .dataframe tbody tr th {\n",
       "        vertical-align: top;\n",
       "    }\n",
       "\n",
       "    .dataframe thead th {\n",
       "        text-align: right;\n",
       "    }\n",
       "</style>\n",
       "<table border=\"1\" class=\"dataframe\">\n",
       "  <thead>\n",
       "    <tr style=\"text-align: right;\">\n",
       "      <th></th>\n",
       "      <th>x</th>\n",
       "      <th>y</th>\n",
       "      <th>Class</th>\n",
       "      <th>Location</th>\n",
       "      <th>Distance from Unknown Artist</th>\n",
       "    </tr>\n",
       "  </thead>\n",
       "  <tbody>\n",
       "    <tr>\n",
       "      <th>228</th>\n",
       "      <td>-9.750933</td>\n",
       "      <td>-5.149687</td>\n",
       "      <td>Drum and Bass</td>\n",
       "      <td>[-9.750932708593782, -5.149686930052425]</td>\n",
       "      <td>0.290587</td>\n",
       "    </tr>\n",
       "    <tr>\n",
       "      <th>374</th>\n",
       "      <td>-9.524751</td>\n",
       "      <td>-5.640692</td>\n",
       "      <td>Drum and Bass</td>\n",
       "      <td>[-9.524751021035561, -5.640692071615826]</td>\n",
       "      <td>0.797714</td>\n",
       "    </tr>\n",
       "    <tr>\n",
       "      <th>371</th>\n",
       "      <td>-9.793279</td>\n",
       "      <td>-4.102809</td>\n",
       "      <td>Drum and Bass</td>\n",
       "      <td>[-9.79327873189903, -4.10280869085086]</td>\n",
       "      <td>0.920699</td>\n",
       "    </tr>\n",
       "    <tr>\n",
       "      <th>427</th>\n",
       "      <td>-9.719171</td>\n",
       "      <td>-6.193068</td>\n",
       "      <td>Drum and Bass</td>\n",
       "      <td>[-9.719171471272038, -6.193068122555626]</td>\n",
       "      <td>1.225674</td>\n",
       "    </tr>\n",
       "    <tr>\n",
       "      <th>482</th>\n",
       "      <td>-10.600551</td>\n",
       "      <td>-3.718144</td>\n",
       "      <td>Drum and Bass</td>\n",
       "      <td>[-10.600550749002863, -3.7181439338680544]</td>\n",
       "      <td>1.415562</td>\n",
       "    </tr>\n",
       "    <tr>\n",
       "      <th>422</th>\n",
       "      <td>-8.732516</td>\n",
       "      <td>-5.647126</td>\n",
       "      <td>Drum and Bass</td>\n",
       "      <td>[-8.732515949170619, -5.647126168808717]</td>\n",
       "      <td>1.423126</td>\n",
       "    </tr>\n",
       "    <tr>\n",
       "      <th>302</th>\n",
       "      <td>-8.842251</td>\n",
       "      <td>-5.851980</td>\n",
       "      <td>Drum and Bass</td>\n",
       "      <td>[-8.842250973388118, -5.851979971855005]</td>\n",
       "      <td>1.437447</td>\n",
       "    </tr>\n",
       "    <tr>\n",
       "      <th>37</th>\n",
       "      <td>-8.477863</td>\n",
       "      <td>-5.175434</td>\n",
       "      <td>Rap</td>\n",
       "      <td>[-8.477863405401221, -5.175433810427677]</td>\n",
       "      <td>1.532213</td>\n",
       "    </tr>\n",
       "    <tr>\n",
       "      <th>16</th>\n",
       "      <td>-9.668331</td>\n",
       "      <td>-6.776404</td>\n",
       "      <td>Drum and Bass</td>\n",
       "      <td>[-9.66833104641803, -6.776404405353625]</td>\n",
       "      <td>1.807102</td>\n",
       "    </tr>\n",
       "    <tr>\n",
       "      <th>498</th>\n",
       "      <td>-11.226969</td>\n",
       "      <td>-6.330757</td>\n",
       "      <td>Drum and Bass</td>\n",
       "      <td>[-11.226968895065182, -6.330756522179856]</td>\n",
       "      <td>1.810073</td>\n",
       "    </tr>\n",
       "    <tr>\n",
       "      <th>435</th>\n",
       "      <td>-10.440288</td>\n",
       "      <td>-6.756700</td>\n",
       "      <td>Drum and Bass</td>\n",
       "      <td>[-10.44028848912394, -6.756700469475655]</td>\n",
       "      <td>1.811036</td>\n",
       "    </tr>\n",
       "    <tr>\n",
       "      <th>297</th>\n",
       "      <td>-10.554957</td>\n",
       "      <td>-6.747158</td>\n",
       "      <td>Drum and Bass</td>\n",
       "      <td>[-10.55495748868147, -6.7471581942640615]</td>\n",
       "      <td>1.833177</td>\n",
       "    </tr>\n",
       "    <tr>\n",
       "      <th>194</th>\n",
       "      <td>-8.274489</td>\n",
       "      <td>-5.720293</td>\n",
       "      <td>Drum and Bass</td>\n",
       "      <td>[-8.274489098482928, -5.720292955212393]</td>\n",
       "      <td>1.869815</td>\n",
       "    </tr>\n",
       "    <tr>\n",
       "      <th>196</th>\n",
       "      <td>-11.132864</td>\n",
       "      <td>-6.801767</td>\n",
       "      <td>Drum and Bass</td>\n",
       "      <td>[-11.13286351181418, -6.801766770948271]</td>\n",
       "      <td>2.128319</td>\n",
       "    </tr>\n",
       "    <tr>\n",
       "      <th>103</th>\n",
       "      <td>-8.207791</td>\n",
       "      <td>-6.266413</td>\n",
       "      <td>Drum and Bass</td>\n",
       "      <td>[-8.20779096154017, -6.2664127436348345]</td>\n",
       "      <td>2.194496</td>\n",
       "    </tr>\n",
       "  </tbody>\n",
       "</table>\n",
       "</div>"
      ],
      "text/plain": [
       "             x         y          Class  \\\n",
       "228  -9.750933 -5.149687  Drum and Bass   \n",
       "374  -9.524751 -5.640692  Drum and Bass   \n",
       "371  -9.793279 -4.102809  Drum and Bass   \n",
       "427  -9.719171 -6.193068  Drum and Bass   \n",
       "482 -10.600551 -3.718144  Drum and Bass   \n",
       "422  -8.732516 -5.647126  Drum and Bass   \n",
       "302  -8.842251 -5.851980  Drum and Bass   \n",
       "37   -8.477863 -5.175434            Rap   \n",
       "16   -9.668331 -6.776404  Drum and Bass   \n",
       "498 -11.226969 -6.330757  Drum and Bass   \n",
       "435 -10.440288 -6.756700  Drum and Bass   \n",
       "297 -10.554957 -6.747158  Drum and Bass   \n",
       "194  -8.274489 -5.720293  Drum and Bass   \n",
       "196 -11.132864 -6.801767  Drum and Bass   \n",
       "103  -8.207791 -6.266413  Drum and Bass   \n",
       "\n",
       "                                       Location  Distance from Unknown Artist  \n",
       "228    [-9.750932708593782, -5.149686930052425]                      0.290587  \n",
       "374    [-9.524751021035561, -5.640692071615826]                      0.797714  \n",
       "371      [-9.79327873189903, -4.10280869085086]                      0.920699  \n",
       "427    [-9.719171471272038, -6.193068122555626]                      1.225674  \n",
       "482  [-10.600550749002863, -3.7181439338680544]                      1.415562  \n",
       "422    [-8.732515949170619, -5.647126168808717]                      1.423126  \n",
       "302    [-8.842250973388118, -5.851979971855005]                      1.437447  \n",
       "37     [-8.477863405401221, -5.175433810427677]                      1.532213  \n",
       "16      [-9.66833104641803, -6.776404405353625]                      1.807102  \n",
       "498   [-11.226968895065182, -6.330756522179856]                      1.810073  \n",
       "435    [-10.44028848912394, -6.756700469475655]                      1.811036  \n",
       "297   [-10.55495748868147, -6.7471581942640615]                      1.833177  \n",
       "194    [-8.274489098482928, -5.720292955212393]                      1.869815  \n",
       "196    [-11.13286351181418, -6.801766770948271]                      2.128319  \n",
       "103    [-8.20779096154017, -6.2664127436348345]                      2.194496  "
      ]
     },
     "execution_count": 289,
     "metadata": {},
     "output_type": "execute_result"
    }
   ],
   "source": [
    "sortedDistance.iloc[:k,:]"
   ]
  },
  {
   "cell_type": "code",
   "execution_count": 290,
   "metadata": {},
   "outputs": [
    {
     "data": {
      "text/plain": [
       "Drum and Bass    14\n",
       "Rap               1\n",
       "Name: Class, dtype: int64"
      ]
     },
     "execution_count": 290,
     "metadata": {},
     "output_type": "execute_result"
    }
   ],
   "source": [
    "classVotes = sortedDistance.iloc[:k,:]['Class'].value_counts()\n",
    "classVotes"
   ]
  },
  {
   "cell_type": "code",
   "execution_count": null,
   "metadata": {},
   "outputs": [],
   "source": []
  },
  {
   "cell_type": "code",
   "execution_count": null,
   "metadata": {},
   "outputs": [],
   "source": []
  }
 ],
 "metadata": {
  "kernelspec": {
   "display_name": "Python 3",
   "language": "python",
   "name": "python3"
  },
  "language_info": {
   "codemirror_mode": {
    "name": "ipython",
    "version": 3
   },
   "file_extension": ".py",
   "mimetype": "text/x-python",
   "name": "python",
   "nbconvert_exporter": "python",
   "pygments_lexer": "ipython3",
   "version": "3.6.4"
  }
 },
 "nbformat": 4,
 "nbformat_minor": 2
}
