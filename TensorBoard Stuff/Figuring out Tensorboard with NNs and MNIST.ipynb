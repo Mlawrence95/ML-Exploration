{
 "cells": [
  {
   "cell_type": "code",
   "execution_count": 734,
   "metadata": {},
   "outputs": [],
   "source": [
    "import numpy as np\n",
    "import matplotlib.pyplot as plt\n",
    "import pandas as pd\n",
    "import sklearn\n",
    "from sklearn.preprocessing import OneHotEncoder\n",
    "\n",
    "import os\n",
    "import tensorflow as tf\n",
    "\n",
    "import warnings\n",
    "warnings.filterwarnings('ignore')\n",
    "\n",
    "from datetime import datetime\n",
    "import os\n",
    "import pathlib\n",
    "import codecs"
   ]
  },
  {
   "cell_type": "markdown",
   "metadata": {},
   "source": [
    "Check which versions of Tensorflow and Sci-kit learn are in use so that documentation is easier to use when we get stuck."
   ]
  },
  {
   "cell_type": "code",
   "execution_count": 735,
   "metadata": {},
   "outputs": [
    {
     "data": {
      "text/plain": [
       "('1.11.0', '0.19.1')"
      ]
     },
     "execution_count": 735,
     "metadata": {},
     "output_type": "execute_result"
    }
   ],
   "source": [
    "tf.__version__, sklearn.__version__"
   ]
  },
  {
   "cell_type": "markdown",
   "metadata": {},
   "source": [
    "Grab MNIST data using tensorflow (this may take a minute)."
   ]
  },
  {
   "cell_type": "code",
   "execution_count": 736,
   "metadata": {},
   "outputs": [],
   "source": [
    "mnist = tf.keras.datasets.mnist\n",
    "\n",
    "(x_train, y_train),(x_test, y_test) = mnist.load_data()\n",
    "x_train, x_test = x_train / 255.0, x_test / 255.0"
   ]
  },
  {
   "cell_type": "markdown",
   "metadata": {},
   "source": [
    "Check out the size of each dataset. It looks like the train:test ratio is 6:1, with the test data being one column."
   ]
  },
  {
   "cell_type": "code",
   "execution_count": 737,
   "metadata": {},
   "outputs": [
    {
     "data": {
      "text/plain": [
       "((60000, 28, 28), (10000, 28, 28), (60000,))"
      ]
     },
     "execution_count": 737,
     "metadata": {},
     "output_type": "execute_result"
    }
   ],
   "source": [
    "x_train.shape, x_test.shape, y_train.shape"
   ]
  },
  {
   "cell_type": "code",
   "execution_count": 738,
   "metadata": {},
   "outputs": [
    {
     "data": {
      "text/plain": [
       "array([5, 0, 4, ..., 5, 6, 8], dtype=uint8)"
      ]
     },
     "execution_count": 738,
     "metadata": {},
     "output_type": "execute_result"
    }
   ],
   "source": [
    "y_train"
   ]
  },
  {
   "cell_type": "markdown",
   "metadata": {},
   "source": [
    "Check the distribution of labels to ensure that we are using a balanced training set."
   ]
  },
  {
   "cell_type": "code",
   "execution_count": 739,
   "metadata": {},
   "outputs": [
    {
     "data": {
      "text/plain": [
       "Text(0.5,0,'Label')"
      ]
     },
     "execution_count": 739,
     "metadata": {},
     "output_type": "execute_result"
    },
    {
     "data": {
      "image/png": "[encoded data removed]",
      "text/plain": [
       "<Figure size 432x288 with 1 Axes>"
      ]
     },
     "metadata": {},
     "output_type": "display_data"
    }
   ],
   "source": [
    "pd.Series(y_train).value_counts().reset_index().hist('index')\n",
    "plt.title(\"Distribution of labels\")\n",
    "plt.xlabel('Label')"
   ]
  },
  {
   "cell_type": "markdown",
   "metadata": {},
   "source": [
    "Since the y data has many classes, let's one-hot encode it with sci-kit learn."
   ]
  },
  {
   "cell_type": "code",
   "execution_count": 740,
   "metadata": {},
   "outputs": [
    {
     "data": {
      "text/plain": [
       "OneHotEncoder(categorical_features='all', dtype=<class 'numpy.float64'>,\n",
       "       handle_unknown='error', n_values='auto', sparse=True)"
      ]
     },
     "execution_count": 740,
     "metadata": {},
     "output_type": "execute_result"
    }
   ],
   "source": [
    "oneH = OneHotEncoder()\n",
    "oneH.fit(y_train.reshape(-1, 1))"
   ]
  },
  {
   "cell_type": "code",
   "execution_count": 741,
   "metadata": {},
   "outputs": [],
   "source": [
    "ohYTest = oneH.transform(y_test.reshape(-1,1)).toarray()\n",
    "ohYTrain = oneH.transform(y_train.reshape(-1,1)).toarray()"
   ]
  },
  {
   "cell_type": "markdown",
   "metadata": {},
   "source": [
    "The train and test labels are now stored in sparse matrices. A quick unit test below ensures that the transformation was performed correctly. The printed data should support your intuition as to what the test is doing."
   ]
  },
  {
   "cell_type": "code",
   "execution_count": 742,
   "metadata": {},
   "outputs": [
    {
     "name": "stdout",
     "output_type": "stream",
     "text": [
      "Transformed label:\n",
      "[0. 0. 0. 0. 0. 1. 0. 0. 0. 0.]\n",
      "\n",
      "Original label:\n",
      "5\n"
     ]
    }
   ],
   "source": [
    "print(\"Transformed label:\")\n",
    "print(ohYTrain[0])\n",
    "print()\n",
    "print(\"Original label:\")\n",
    "print(y_train[0])"
   ]
  },
  {
   "cell_type": "code",
   "execution_count": 743,
   "metadata": {},
   "outputs": [],
   "source": [
    "for i in range(y_train.shape[0]):\n",
    "    assert np.argmax(ohYTrain[i]) == y_train[i]"
   ]
  },
  {
   "cell_type": "markdown",
   "metadata": {},
   "source": [
    "Just for a sanity check, let's make sure the first data point is actually a 5. Matplotlib supports plotting images, so let's leverage its power."
   ]
  },
  {
   "cell_type": "code",
   "execution_count": 744,
   "metadata": {},
   "outputs": [
    {
     "data": {
      "image/png": "[encoded data removed]",
      "text/plain": [
       "<Figure size 432x288 with 1 Axes>"
      ]
     },
     "metadata": {},
     "output_type": "display_data"
    }
   ],
   "source": [
    "plt.imshow(x_train[0]);"
   ]
  },
  {
   "cell_type": "markdown",
   "metadata": {},
   "source": [
    "This looks great. Let's examine the shape of each image's matrix to plan for our modelling process."
   ]
  },
  {
   "cell_type": "code",
   "execution_count": 745,
   "metadata": {},
   "outputs": [
    {
     "data": {
      "text/plain": [
       "(28, 28)"
      ]
     },
     "execution_count": 745,
     "metadata": {},
     "output_type": "execute_result"
    }
   ],
   "source": [
    "x_train[0].shape"
   ]
  },
  {
   "cell_type": "markdown",
   "metadata": {},
   "source": [
    "Let's prepare our model in tensorflow, including ensuring that the computational graph is ready to be used from scratch."
   ]
  },
  {
   "cell_type": "code",
   "execution_count": 746,
   "metadata": {},
   "outputs": [],
   "source": [
    "import keras\n",
    "from keras import layers, models\n",
    "from keras import backend as K"
   ]
  },
  {
   "cell_type": "code",
   "execution_count": 747,
   "metadata": {},
   "outputs": [
    {
     "name": "stdout",
     "output_type": "stream",
     "text": [
      "_________________________________________________________________\n",
      "Layer (type)                 Output Shape              Param #   \n",
      "=================================================================\n",
      "flatten_1 (Flatten)          (None, 784)               0         \n",
      "_________________________________________________________________\n",
      "dense_1 (Dense)              (None, 300)               235500    \n",
      "_________________________________________________________________\n",
      "dropout_1 (Dropout)          (None, 300)               0         \n",
      "_________________________________________________________________\n",
      "dense_2 (Dense)              (None, 200)               60200     \n",
      "_________________________________________________________________\n",
      "dropout_2 (Dropout)          (None, 200)               0         \n",
      "_________________________________________________________________\n",
      "dense_3 (Dense)              (None, 100)               20100     \n",
      "_________________________________________________________________\n",
      "dropout_3 (Dropout)          (None, 100)               0         \n",
      "_________________________________________________________________\n",
      "Output (Dense)               (None, 10)                1010      \n",
      "=================================================================\n",
      "Total params: 316,810\n",
      "Trainable params: 316,810\n",
      "Non-trainable params: 0\n",
      "_________________________________________________________________\n"
     ]
    }
   ],
   "source": [
    "tf.reset_default_graph()\n",
    "K.clear_session()\n",
    "\n",
    "sess = tf.Session(graph=tf.get_default_graph())\n",
    "\n",
    "with tf.name_scope(\"Model\"):\n",
    "\n",
    "    model = keras.models.Sequential()\n",
    "\n",
    "    with tf.name_scope(\"Input\"):\n",
    "        model.add(layers.Flatten(input_shape=(28,28,)))\n",
    "\n",
    "    with tf.name_scope(\"Dense1\"):\n",
    "        model.add(layers.Dense(300, input_shape=(784,), activation=tf.nn.leaky_relu))\n",
    "        model.add(layers.Dropout(0.10))\n",
    "\n",
    "    with tf.name_scope(\"Dense2\"):\n",
    "        model.add(layers.Dense(200, activation=tf.nn.leaky_relu))\n",
    "        model.add(layers.Dropout(0.10))\n",
    "\n",
    "    with tf.name_scope(\"Dense3\"):\n",
    "        model.add(layers.Dense(100, activation=tf.nn.leaky_relu))\n",
    "        model.add(layers.Dropout(0.10))\n",
    "\n",
    "    with tf.name_scope(\"Output\"):\n",
    "        model.add(layers.Dense(output_dim = 10 , activation=tf.nn.softmax, name=\"Output\"))\n",
    "\n",
    "model.summary()"
   ]
  },
  {
   "cell_type": "code",
   "execution_count": 748,
   "metadata": {},
   "outputs": [],
   "source": [
    "with tf.name_scope(\"tBoard_Setup\"):\n",
    "    tensorBoard = keras.callbacks.TensorBoard(histogram_freq=1, write_graph=True)\n",
    "    #tensorBoard.set_model(model)"
   ]
  },
  {
   "cell_type": "code",
   "execution_count": 749,
   "metadata": {},
   "outputs": [
    {
     "name": "stdout",
     "output_type": "stream",
     "text": [
      "Path for Tensorboard Logs:\n",
      "/Users/mikelawrence/Documents/School/Data\\ X/HW/HW\\ 10/logs\n"
     ]
    }
   ],
   "source": [
    "logDir = \"logs\"\n",
    "logPath = (os.getcwd() + \"/\" + logDir).replace(\" \", \"\\\\ \")\n",
    "print(\"Path for Tensorboard Logs:\")\n",
    "print(logPath)"
   ]
  },
  {
   "cell_type": "code",
   "execution_count": 750,
   "metadata": {},
   "outputs": [],
   "source": [
    "with tf.name_scope(\"Compilation\"):\n",
    "    model.compile(loss='categorical_crossentropy', optimizer='sgd', metrics=['accuracy'])"
   ]
  },
  {
   "cell_type": "code",
   "execution_count": 751,
   "metadata": {},
   "outputs": [],
   "source": [
    "batchSize = 100\n",
    "epochs = 20"
   ]
  },
  {
   "cell_type": "code",
   "execution_count": 752,
   "metadata": {
    "scrolled": true
   },
   "outputs": [
    {
     "name": "stdout",
     "output_type": "stream",
     "text": [
      "Train on 60000 samples, validate on 10000 samples\n",
      "Epoch 1/20\n",
      "60000/60000 [==============================] - 10s 163us/step - loss: 1.0547 - acc: 0.6996 - val_loss: 0.4403 - val_acc: 0.8805\n",
      "Epoch 2/20\n",
      "60000/60000 [==============================] - 9s 145us/step - loss: 0.4643 - acc: 0.8632 - val_loss: 0.3284 - val_acc: 0.9082\n",
      "Epoch 3/20\n",
      "60000/60000 [==============================] - 9s 146us/step - loss: 0.3832 - acc: 0.8857 - val_loss: 0.2900 - val_acc: 0.9174\n",
      "Epoch 4/20\n",
      "60000/60000 [==============================] - 9s 147us/step - loss: 0.3406 - acc: 0.8996 - val_loss: 0.2638 - val_acc: 0.9250\n",
      "Epoch 5/20\n",
      "60000/60000 [==============================] - 9s 147us/step - loss: 0.3093 - acc: 0.9091 - val_loss: 0.2440 - val_acc: 0.9300\n",
      "Epoch 6/20\n",
      "60000/60000 [==============================] - 9s 149us/step - loss: 0.2845 - acc: 0.9163 - val_loss: 0.2271 - val_acc: 0.9346\n",
      "Epoch 7/20\n",
      "60000/60000 [==============================] - 9s 148us/step - loss: 0.2687 - acc: 0.9218 - val_loss: 0.2129 - val_acc: 0.9384\n",
      "Epoch 8/20\n",
      "60000/60000 [==============================] - 9s 148us/step - loss: 0.2509 - acc: 0.9260 - val_loss: 0.1998 - val_acc: 0.9422\n",
      "Epoch 9/20\n",
      "60000/60000 [==============================] - 9s 148us/step - loss: 0.2367 - acc: 0.9305 - val_loss: 0.1898 - val_acc: 0.9447\n",
      "Epoch 10/20\n",
      "60000/60000 [==============================] - 9s 148us/step - loss: 0.2252 - acc: 0.9351 - val_loss: 0.1795 - val_acc: 0.9472\n",
      "Epoch 11/20\n",
      "60000/60000 [==============================] - 9s 148us/step - loss: 0.2144 - acc: 0.9376 - val_loss: 0.1719 - val_acc: 0.9491\n",
      "Epoch 12/20\n",
      "60000/60000 [==============================] - 9s 148us/step - loss: 0.2025 - acc: 0.9410 - val_loss: 0.1640 - val_acc: 0.9516\n",
      "Epoch 13/20\n",
      "60000/60000 [==============================] - 9s 147us/step - loss: 0.1946 - acc: 0.9435 - val_loss: 0.1578 - val_acc: 0.9541\n",
      "Epoch 14/20\n",
      "60000/60000 [==============================] - 9s 150us/step - loss: 0.1870 - acc: 0.9457 - val_loss: 0.1519 - val_acc: 0.9551\n",
      "Epoch 15/20\n",
      "60000/60000 [==============================] - 9s 151us/step - loss: 0.1805 - acc: 0.9470 - val_loss: 0.1469 - val_acc: 0.9561\n",
      "Epoch 16/20\n",
      "60000/60000 [==============================] - 9s 155us/step - loss: 0.1722 - acc: 0.9498 - val_loss: 0.1421 - val_acc: 0.9578\n",
      "Epoch 17/20\n",
      "60000/60000 [==============================] - 9s 149us/step - loss: 0.1666 - acc: 0.9504 - val_loss: 0.1355 - val_acc: 0.9586\n",
      "Epoch 18/20\n",
      "60000/60000 [==============================] - 9s 149us/step - loss: 0.1597 - acc: 0.9530 - val_loss: 0.1321 - val_acc: 0.9595\n",
      "Epoch 19/20\n",
      "60000/60000 [==============================] - 9s 147us/step - loss: 0.1547 - acc: 0.9540 - val_loss: 0.1290 - val_acc: 0.9602\n",
      "Epoch 20/20\n",
      "60000/60000 [==============================] - 9s 148us/step - loss: 0.1500 - acc: 0.9559 - val_loss: 0.1245 - val_acc: 0.9613\n"
     ]
    }
   ],
   "source": [
    "with tf.name_scope('Training'):\n",
    "    model.fit(x=x_train, y=ohYTrain, verbose=1, shuffle=True, batch_size=batchSize, nb_epoch=epochs,\n",
    "              callbacks=[tensorBoard], validation_data=(x_test, ohYTest))"
   ]
  },
  {
   "cell_type": "code",
   "execution_count": 753,
   "metadata": {},
   "outputs": [
    {
     "name": "stdout",
     "output_type": "stream",
     "text": [
      "Final Train Loss and Accuracy are:\n",
      "[0.11609431128675739, 0.9661333333333333]\n",
      "\n",
      "Final Test Loss and Accuracy are:\n",
      "[0.12453132966682315, 0.9613]\n"
     ]
    }
   ],
   "source": [
    "with tf.name_scope(\"Evaluation\"):\n",
    "    print(\"Final Train Loss and Accuracy are:\")\n",
    "    print(model.evaluate(x_train, ohYTrain, verbose=0))\n",
    "    print()\n",
    "    print(\"Final Test Loss and Accuracy are:\")\n",
    "    print(model.evaluate(x_test, ohYTest, verbose=0))"
   ]
  },
  {
   "cell_type": "code",
   "execution_count": 755,
   "metadata": {},
   "outputs": [
    {
     "name": "stdout",
     "output_type": "stream",
     "text": [
      "/Users/mikelawrence/Documents/School/Data\\ X/HW/HW\\ 10/logs\n"
     ]
    }
   ],
   "source": [
    "print(logPath)"
   ]
  },
  {
   "cell_type": "code",
   "execution_count": 756,
   "metadata": {},
   "outputs": [],
   "source": [
    "!tensorboard --logdir=/Users/mikelawrence/Documents/School/Data\\ X/HW/HW\\ 10/logs #--port=6005"
   ]
  },
  {
   "cell_type": "markdown",
   "metadata": {},
   "source": [
    "Begin improved model"
   ]
  },
  {
   "cell_type": "code",
   "execution_count": null,
   "metadata": {},
   "outputs": [],
   "source": []
  }
 ],
 "metadata": {
  "kernelspec": {
   "display_name": "Python 3",
   "language": "python",
   "name": "python3"
  },
  "language_info": {
   "codemirror_mode": {
    "name": "ipython",
    "version": 3
   },
   "file_extension": ".py",
   "mimetype": "text/x-python",
   "name": "python",
   "nbconvert_exporter": "python",
   "pygments_lexer": "ipython3",
   "version": "3.6.4"
  }
 },
 "nbformat": 4,
 "nbformat_minor": 2
}
