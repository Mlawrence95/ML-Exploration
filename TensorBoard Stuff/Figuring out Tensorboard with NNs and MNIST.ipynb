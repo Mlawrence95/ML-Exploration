{
 "cells": [
  {
   "cell_type": "code",
   "execution_count": 1,
   "metadata": {},
   "outputs": [
    {
     "name": "stderr",
     "output_type": "stream",
     "text": [
      "/anaconda3/lib/python3.6/site-packages/h5py/__init__.py:36: FutureWarning: Conversion of the second argument of issubdtype from `float` to `np.floating` is deprecated. In future, it will be treated as `np.float64 == np.dtype(float).type`.\n",
      "  from ._conv import register_converters as _register_converters\n"
     ]
    }
   ],
   "source": [
    "import numpy as np\n",
    "import matplotlib.pyplot as plt\n",
    "import pandas as pd\n",
    "import sklearn\n",
    "from sklearn.preprocessing import OneHotEncoder\n",
    "\n",
    "import os\n",
    "import tensorflow as tf\n",
    "\n",
    "import warnings\n",
    "warnings.filterwarnings('ignore')\n",
    "\n",
    "from datetime import datetime\n",
    "import os\n",
    "import pathlib\n",
    "import codecs"
   ]
  },
  {
   "cell_type": "markdown",
   "metadata": {},
   "source": [
    "Check which versions of Tensorflow and Sci-kit learn are in use so that documentation is easier to use when we get stuck."
   ]
  },
  {
   "cell_type": "code",
   "execution_count": 2,
   "metadata": {},
   "outputs": [
    {
     "data": {
      "text/plain": [
       "('1.11.0', '0.19.1')"
      ]
     },
     "execution_count": 2,
     "metadata": {},
     "output_type": "execute_result"
    }
   ],
   "source": [
    "tf.__version__, sklearn.__version__"
   ]
  },
  {
   "cell_type": "markdown",
   "metadata": {},
   "source": [
    "Grab MNIST data using tensorflow (this may take a minute)."
   ]
  },
  {
   "cell_type": "code",
   "execution_count": 3,
   "metadata": {},
   "outputs": [],
   "source": [
    "mnist = tf.keras.datasets.mnist\n",
    "\n",
    "(x_train, y_train),(x_test, y_test) = mnist.load_data()\n",
    "x_train, x_test = x_train / 255.0, x_test / 255.0"
   ]
  },
  {
   "cell_type": "markdown",
   "metadata": {},
   "source": [
    "Check out the size of each dataset. It looks like the train:test ratio is 6:1, with the test data being one column."
   ]
  },
  {
   "cell_type": "code",
   "execution_count": 4,
   "metadata": {},
   "outputs": [
    {
     "data": {
      "text/plain": [
       "((60000, 28, 28), (10000, 28, 28), (60000,))"
      ]
     },
     "execution_count": 4,
     "metadata": {},
     "output_type": "execute_result"
    }
   ],
   "source": [
    "x_train.shape, x_test.shape, y_train.shape"
   ]
  },
  {
   "cell_type": "code",
   "execution_count": 5,
   "metadata": {},
   "outputs": [
    {
     "data": {
      "text/plain": [
       "array([5, 0, 4, ..., 5, 6, 8], dtype=uint8)"
      ]
     },
     "execution_count": 5,
     "metadata": {},
     "output_type": "execute_result"
    }
   ],
   "source": [
    "y_train"
   ]
  },
  {
   "cell_type": "markdown",
   "metadata": {},
   "source": [
    "Check the distribution of labels to ensure that we are using a balanced training set."
   ]
  },
  {
   "cell_type": "code",
   "execution_count": 6,
   "metadata": {},
   "outputs": [
    {
     "data": {
      "text/plain": [
       "Text(0.5,0,'Label')"
      ]
     },
     "execution_count": 6,
     "metadata": {},
     "output_type": "execute_result"
    },
    {
     "data": {
      "image/png": "[encoded data removed]",
      "text/plain": [
       "<Figure size 432x288 with 1 Axes>"
      ]
     },
     "metadata": {},
     "output_type": "display_data"
    }
   ],
   "source": [
    "pd.Series(y_train).value_counts().reset_index().hist('index')\n",
    "plt.title(\"Distribution of labels\")\n",
    "plt.xlabel('Label')"
   ]
  },
  {
   "cell_type": "markdown",
   "metadata": {},
   "source": [
    "Since the y data has many classes, let's one-hot encode it with sci-kit learn."
   ]
  },
  {
   "cell_type": "code",
   "execution_count": 7,
   "metadata": {},
   "outputs": [
    {
     "data": {
      "text/plain": [
       "OneHotEncoder(categorical_features='all', dtype=<class 'numpy.float64'>,\n",
       "       handle_unknown='error', n_values='auto', sparse=True)"
      ]
     },
     "execution_count": 7,
     "metadata": {},
     "output_type": "execute_result"
    }
   ],
   "source": [
    "oneH = OneHotEncoder()\n",
    "oneH.fit(y_train.reshape(-1, 1))"
   ]
  },
  {
   "cell_type": "code",
   "execution_count": 8,
   "metadata": {},
   "outputs": [],
   "source": [
    "ohYTest = oneH.transform(y_test.reshape(-1,1)).toarray()\n",
    "ohYTrain = oneH.transform(y_train.reshape(-1,1)).toarray()"
   ]
  },
  {
   "cell_type": "markdown",
   "metadata": {},
   "source": [
    "The train and test labels are now stored in sparse matrices. A quick unit test below ensures that the transformation was performed correctly. The printed data should support your intuition as to what the test is doing."
   ]
  },
  {
   "cell_type": "code",
   "execution_count": 9,
   "metadata": {},
   "outputs": [
    {
     "name": "stdout",
     "output_type": "stream",
     "text": [
      "Transformed label:\n",
      "[0. 0. 0. 0. 0. 1. 0. 0. 0. 0.]\n",
      "\n",
      "Original label:\n",
      "5\n"
     ]
    }
   ],
   "source": [
    "print(\"Transformed label:\")\n",
    "print(ohYTrain[0])\n",
    "print()\n",
    "print(\"Original label:\")\n",
    "print(y_train[0])"
   ]
  },
  {
   "cell_type": "code",
   "execution_count": 10,
   "metadata": {},
   "outputs": [],
   "source": [
    "for i in range(y_train.shape[0]):\n",
    "    assert np.argmax(ohYTrain[i]) == y_train[i]"
   ]
  },
  {
   "cell_type": "markdown",
   "metadata": {},
   "source": [
    "Just for a sanity check, let's make sure the first data point is actually a 5. Matplotlib supports plotting images, so let's leverage its power."
   ]
  },
  {
   "cell_type": "code",
   "execution_count": 11,
   "metadata": {},
   "outputs": [
    {
     "data": {
      "image/png": "[encoded data removed]",
      "text/plain": [
       "<Figure size 432x288 with 1 Axes>"
      ]
     },
     "metadata": {},
     "output_type": "display_data"
    }
   ],
   "source": [
    "plt.imshow(x_train[0]);"
   ]
  },
  {
   "cell_type": "markdown",
   "metadata": {},
   "source": [
    "This looks great. Let's examine the shape of each image's matrix to plan for our modelling process."
   ]
  },
  {
   "cell_type": "code",
   "execution_count": 12,
   "metadata": {},
   "outputs": [
    {
     "data": {
      "text/plain": [
       "(28, 28)"
      ]
     },
     "execution_count": 12,
     "metadata": {},
     "output_type": "execute_result"
    }
   ],
   "source": [
    "x_train[0].shape"
   ]
  },
  {
   "cell_type": "markdown",
   "metadata": {},
   "source": [
    "Let's prepare our model in tensorflow, including ensuring that the computational graph is ready to be used from scratch."
   ]
  },
  {
   "cell_type": "code",
   "execution_count": 13,
   "metadata": {},
   "outputs": [
    {
     "name": "stderr",
     "output_type": "stream",
     "text": [
      "Using TensorFlow backend.\n"
     ]
    }
   ],
   "source": [
    "import keras\n",
    "from keras import layers, models\n",
    "from keras import backend as K"
   ]
  },
  {
   "cell_type": "code",
   "execution_count": 14,
   "metadata": {},
   "outputs": [
    {
     "name": "stdout",
     "output_type": "stream",
     "text": [
      "_________________________________________________________________\n",
      "Layer (type)                 Output Shape              Param #   \n",
      "=================================================================\n",
      "flatten_1 (Flatten)          (None, 784)               0         \n",
      "_________________________________________________________________\n",
      "dense_1 (Dense)              (None, 300)               235500    \n",
      "_________________________________________________________________\n",
      "dropout_1 (Dropout)          (None, 300)               0         \n",
      "_________________________________________________________________\n",
      "dense_2 (Dense)              (None, 200)               60200     \n",
      "_________________________________________________________________\n",
      "dropout_2 (Dropout)          (None, 200)               0         \n",
      "_________________________________________________________________\n",
      "dense_3 (Dense)              (None, 100)               20100     \n",
      "_________________________________________________________________\n",
      "dropout_3 (Dropout)          (None, 100)               0         \n",
      "_________________________________________________________________\n",
      "Output (Dense)               (None, 10)                1010      \n",
      "=================================================================\n",
      "Total params: 316,810\n",
      "Trainable params: 316,810\n",
      "Non-trainable params: 0\n",
      "_________________________________________________________________\n"
     ]
    }
   ],
   "source": [
    "tf.reset_default_graph()\n",
    "K.clear_session()\n",
    "\n",
    "sess = tf.Session(graph=tf.get_default_graph())\n",
    "\n",
    "with tf.name_scope(\"Model\"):\n",
    "\n",
    "    model = keras.models.Sequential()\n",
    "\n",
    "    with tf.name_scope(\"Input\"):\n",
    "        model.add(layers.Flatten(input_shape=(28,28,)))\n",
    "\n",
    "    with tf.name_scope(\"Dense1\"):\n",
    "        model.add(layers.Dense(300, input_shape=(784,), activation=tf.nn.leaky_relu))\n",
    "        model.add(layers.Dropout(0.10))\n",
    "\n",
    "    with tf.name_scope(\"Dense2\"):\n",
    "        model.add(layers.Dense(200, activation=tf.nn.leaky_relu))\n",
    "        model.add(layers.Dropout(0.10))\n",
    "\n",
    "    with tf.name_scope(\"Dense3\"):\n",
    "        model.add(layers.Dense(100, activation=tf.nn.leaky_relu))\n",
    "        model.add(layers.Dropout(0.10))\n",
    "\n",
    "    with tf.name_scope(\"Output\"):\n",
    "        model.add(layers.Dense(output_dim = 10 , activation=tf.nn.softmax, name=\"Output\"))\n",
    "\n",
    "model.summary()"
   ]
  },
  {
   "cell_type": "code",
   "execution_count": 15,
   "metadata": {},
   "outputs": [],
   "source": [
    "with tf.name_scope(\"tBoard_Setup\"):\n",
    "    tensorBoard = keras.callbacks.TensorBoard(histogram_freq=1, write_graph=True)"
   ]
  },
  {
   "cell_type": "code",
   "execution_count": 16,
   "metadata": {},
   "outputs": [
    {
     "name": "stdout",
     "output_type": "stream",
     "text": [
      "Path for Tensorboard Logs:\n",
      "/Users/mikelawrence/Documents/School/Data\\ X/HW/HW\\ 10/logs\n"
     ]
    }
   ],
   "source": [
    "logDir = \"logs\"\n",
    "logPath = (os.getcwd() + \"/\" + logDir).replace(\" \", \"\\\\ \")\n",
    "print(\"Path for Tensorboard Logs:\")\n",
    "print(logPath)"
   ]
  },
  {
   "cell_type": "code",
   "execution_count": 17,
   "metadata": {},
   "outputs": [],
   "source": [
    "with tf.name_scope(\"Compilation\"):\n",
    "    model.compile(loss='categorical_crossentropy', optimizer='sgd', metrics=['accuracy'])"
   ]
  },
  {
   "cell_type": "code",
   "execution_count": 18,
   "metadata": {},
   "outputs": [],
   "source": [
    "batchSize = 50\n",
    "epochs = 10"
   ]
  },
  {
   "cell_type": "code",
   "execution_count": 19,
   "metadata": {
    "scrolled": true
   },
   "outputs": [
    {
     "name": "stdout",
     "output_type": "stream",
     "text": [
      "Train on 60000 samples, validate on 10000 samples\n",
      "Epoch 1/10\n",
      "60000/60000 [==============================] - 15s 246us/step - loss: 0.7867 - acc: 0.7765 - val_loss: 0.3302 - val_acc: 0.9067\n",
      "Epoch 2/10\n",
      "60000/60000 [==============================] - 14s 233us/step - loss: 0.3618 - acc: 0.8931 - val_loss: 0.2635 - val_acc: 0.9231\n",
      "Epoch 3/10\n",
      "60000/60000 [==============================] - 13s 223us/step - loss: 0.2973 - acc: 0.9136 - val_loss: 0.2259 - val_acc: 0.9341\n",
      "Epoch 4/10\n",
      "60000/60000 [==============================] - 14s 230us/step - loss: 0.2600 - acc: 0.9238 - val_loss: 0.1998 - val_acc: 0.9402\n",
      "Epoch 5/10\n",
      "60000/60000 [==============================] - 13s 224us/step - loss: 0.2316 - acc: 0.9323 - val_loss: 0.1801 - val_acc: 0.9453\n",
      "Epoch 6/10\n",
      "60000/60000 [==============================] - 13s 225us/step - loss: 0.2089 - acc: 0.9388 - val_loss: 0.1653 - val_acc: 0.9512\n",
      "Epoch 7/10\n",
      "60000/60000 [==============================] - 14s 229us/step - loss: 0.1902 - acc: 0.9433 - val_loss: 0.1487 - val_acc: 0.9555\n",
      "Epoch 8/10\n",
      "60000/60000 [==============================] - 14s 235us/step - loss: 0.1753 - acc: 0.9477 - val_loss: 0.1389 - val_acc: 0.9585\n",
      "Epoch 9/10\n",
      "60000/60000 [==============================] - 15s 245us/step - loss: 0.1632 - acc: 0.9525 - val_loss: 0.1306 - val_acc: 0.9600\n",
      "Epoch 10/10\n",
      "60000/60000 [==============================] - 16s 271us/step - loss: 0.1526 - acc: 0.9554 - val_loss: 0.1221 - val_acc: 0.9618\n"
     ]
    }
   ],
   "source": [
    "with tf.name_scope('Training'):\n",
    "    model.fit(x=x_train, y=ohYTrain, verbose=1, shuffle=True, batch_size=batchSize, nb_epoch=epochs,\n",
    "              callbacks=[tensorBoard], validation_data=(x_test, ohYTest))"
   ]
  },
  {
   "cell_type": "code",
   "execution_count": 20,
   "metadata": {},
   "outputs": [
    {
     "name": "stdout",
     "output_type": "stream",
     "text": [
      "Final Train Loss and Accuracy are:\n",
      "[0.11450903891324997, 0.9664833333333334]\n",
      "\n",
      "Final Test Loss and Accuracy are:\n",
      "[0.12209438502471893, 0.9618]\n"
     ]
    }
   ],
   "source": [
    "with tf.name_scope(\"Evaluation\"):\n",
    "    print(\"Final Train Loss and Accuracy are:\")\n",
    "    print(model.evaluate(x_train, ohYTrain, verbose=0))\n",
    "    print()\n",
    "    print(\"Final Test Loss and Accuracy are:\")\n",
    "    print(model.evaluate(x_test, ohYTest, verbose=0))"
   ]
  },
  {
   "cell_type": "code",
   "execution_count": 22,
   "metadata": {},
   "outputs": [
    {
     "name": "stdout",
     "output_type": "stream",
     "text": [
      "/Users/mikelawrence/Documents/School/Data\\ X/HW/HW\\ 10/logs\n"
     ]
    }
   ],
   "source": [
    "print(logPath)"
   ]
  },
  {
   "cell_type": "code",
   "execution_count": null,
   "metadata": {},
   "outputs": [],
   "source": []
  }
 ],
 "metadata": {
  "kernelspec": {
   "display_name": "Python 3",
   "language": "python",
   "name": "python3"
  },
  "language_info": {
   "codemirror_mode": {
    "name": "ipython",
    "version": 3
   },
   "file_extension": ".py",
   "mimetype": "text/x-python",
   "name": "python",
   "nbconvert_exporter": "python",
   "pygments_lexer": "ipython3",
   "version": "3.6.4"
  }
 },
 "nbformat": 4,
 "nbformat_minor": 2
}
