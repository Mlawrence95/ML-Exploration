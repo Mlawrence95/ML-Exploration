{
 "cells": [
  {
   "cell_type": "code",
   "execution_count": 245,
   "metadata": {},
   "outputs": [],
   "source": [
    "import numpy as np\n",
    "import matplotlib.pyplot as plt\n",
    "import pandas as pd\n",
    "import sklearn\n",
    "from sklearn.preprocessing import OneHotEncoder\n",
    "\n",
    "import os\n",
    "import tensorflow as tf\n",
    "\n",
    "import warnings\n",
    "warnings.filterwarnings('ignore')\n",
    "\n",
    "from datetime import datetime\n",
    "import os\n",
    "import pathlib\n",
    "import codecs"
   ]
  },
  {
   "cell_type": "markdown",
   "metadata": {},
   "source": [
    "Check which versions of Tensorflow and Sci-kit learn are in use so that documentation is easier to use when we get stuck."
   ]
  },
  {
   "cell_type": "code",
   "execution_count": 246,
   "metadata": {},
   "outputs": [
    {
     "data": {
      "text/plain": [
       "('1.11.0', '0.19.1')"
      ]
     },
     "execution_count": 246,
     "metadata": {},
     "output_type": "execute_result"
    }
   ],
   "source": [
    "tf.__version__, sklearn.__version__"
   ]
  },
  {
   "cell_type": "markdown",
   "metadata": {},
   "source": [
    "Grab MNIST data using tensorflow (this may take a minute)."
   ]
  },
  {
   "cell_type": "code",
   "execution_count": 247,
   "metadata": {},
   "outputs": [],
   "source": [
    "mnist = tf.keras.datasets.mnist\n",
    "\n",
    "(x_train, y_train),(x_test, y_test) = mnist.load_data()\n",
    "x_train, x_test = x_train / 255.0, x_test / 255.0"
   ]
  },
  {
   "cell_type": "markdown",
   "metadata": {},
   "source": [
    "Check out the size of each dataset. It looks like the train:test ratio is 6:1, with the test data being one column."
   ]
  },
  {
   "cell_type": "code",
   "execution_count": 248,
   "metadata": {},
   "outputs": [
    {
     "data": {
      "text/plain": [
       "((60000, 28, 28), (10000, 28, 28), (60000,))"
      ]
     },
     "execution_count": 248,
     "metadata": {},
     "output_type": "execute_result"
    }
   ],
   "source": [
    "x_train.shape, x_test.shape, y_train.shape"
   ]
  },
  {
   "cell_type": "code",
   "execution_count": 249,
   "metadata": {},
   "outputs": [
    {
     "data": {
      "text/plain": [
       "array([5, 0, 4, ..., 5, 6, 8], dtype=uint8)"
      ]
     },
     "execution_count": 249,
     "metadata": {},
     "output_type": "execute_result"
    }
   ],
   "source": [
    "y_train"
   ]
  },
  {
   "cell_type": "markdown",
   "metadata": {},
   "source": [
    "Check the distribution of labels to ensure that we are using a balanced training set."
   ]
  },
  {
   "cell_type": "code",
   "execution_count": 250,
   "metadata": {},
   "outputs": [
    {
     "data": {
      "text/plain": [
       "Text(0.5,0,'Label')"
      ]
     },
     "execution_count": 250,
     "metadata": {},
     "output_type": "execute_result"
    },
    {
     "data": {
      "image/png": "[encoded data removed]",
      "text/plain": [
       "<Figure size 432x288 with 1 Axes>"
      ]
     },
     "metadata": {},
     "output_type": "display_data"
    }
   ],
   "source": [
    "pd.Series(y_train).value_counts().reset_index().hist('index')\n",
    "plt.title(\"Distribution of labels\")\n",
    "plt.xlabel('Label')"
   ]
  },
  {
   "cell_type": "markdown",
   "metadata": {},
   "source": [
    "Since the y data has many classes, let's one-hot encode it with sci-kit learn."
   ]
  },
  {
   "cell_type": "code",
   "execution_count": 251,
   "metadata": {},
   "outputs": [
    {
     "data": {
      "text/plain": [
       "OneHotEncoder(categorical_features='all', dtype=<class 'numpy.float64'>,\n",
       "       handle_unknown='error', n_values='auto', sparse=True)"
      ]
     },
     "execution_count": 251,
     "metadata": {},
     "output_type": "execute_result"
    }
   ],
   "source": [
    "oneH = OneHotEncoder()\n",
    "oneH.fit(y_train.reshape(-1, 1))"
   ]
  },
  {
   "cell_type": "code",
   "execution_count": 252,
   "metadata": {},
   "outputs": [],
   "source": [
    "ohYTest = oneH.transform(y_test.reshape(-1,1)).toarray()\n",
    "ohYTrain = oneH.transform(y_train.reshape(-1,1)).toarray()"
   ]
  },
  {
   "cell_type": "markdown",
   "metadata": {},
   "source": [
    "The train and test labels are now stored in sparse matrices. A quick unit test below ensures that the transformation was performed correctly. The printed data should support your intuition as to what the test is doing."
   ]
  },
  {
   "cell_type": "code",
   "execution_count": 253,
   "metadata": {},
   "outputs": [
    {
     "name": "stdout",
     "output_type": "stream",
     "text": [
      "Transformed label:\n",
      "[0. 0. 0. 0. 0. 1. 0. 0. 0. 0.]\n",
      "\n",
      "Original label:\n",
      "5\n"
     ]
    }
   ],
   "source": [
    "print(\"Transformed label:\")\n",
    "print(ohYTrain[0])\n",
    "print()\n",
    "print(\"Original label:\")\n",
    "print(y_train[0])"
   ]
  },
  {
   "cell_type": "code",
   "execution_count": 254,
   "metadata": {},
   "outputs": [],
   "source": [
    "for i in range(y_train.shape[0]):\n",
    "    assert np.argmax(ohYTrain[i]) == y_train[i]"
   ]
  },
  {
   "cell_type": "markdown",
   "metadata": {},
   "source": [
    "Just for a sanity check, let's make sure the first data point is actually a 5. Matplotlib supports plotting images, so let's leverage its power."
   ]
  },
  {
   "cell_type": "code",
   "execution_count": 255,
   "metadata": {},
   "outputs": [
    {
     "data": {
      "image/png": "[encoded data removed]",
      "text/plain": [
       "<Figure size 432x288 with 1 Axes>"
      ]
     },
     "metadata": {},
     "output_type": "display_data"
    }
   ],
   "source": [
    "plt.imshow(x_train[0]);"
   ]
  },
  {
   "cell_type": "markdown",
   "metadata": {},
   "source": [
    "This looks great. Let's examine the shape of each image's matrix to plan for our modelling process."
   ]
  },
  {
   "cell_type": "code",
   "execution_count": 256,
   "metadata": {},
   "outputs": [
    {
     "data": {
      "text/plain": [
       "(28, 28)"
      ]
     },
     "execution_count": 256,
     "metadata": {},
     "output_type": "execute_result"
    }
   ],
   "source": [
    "x_train[0].shape"
   ]
  },
  {
   "cell_type": "markdown",
   "metadata": {},
   "source": [
    "Let's prepare our model in tensorflow, including ensuring that the computational graph is ready to be used from scratch."
   ]
  },
  {
   "cell_type": "code",
   "execution_count": 346,
   "metadata": {},
   "outputs": [],
   "source": [
    "import keras\n",
    "from keras import layers, models\n",
    "from keras import backend as K\n",
    "from keras.preprocessing.image import ImageDataGenerator"
   ]
  },
  {
   "cell_type": "code",
   "execution_count": 359,
   "metadata": {},
   "outputs": [],
   "source": [
    "## Graveyard of Ideas ##\n",
    "\n",
    "#  with tf.name_scope(\"Dense_L2_Reg\"):\n",
    "#         model.add(layers.Dense(100, activation=tf.nn.))\n",
    "#         model.add(layers.Dropout(0.10))\n",
    "        \n",
    "# with tf.name_scope(\"Batch_Norm\"):\n",
    "#         model.add(layers.BatchNormalization())\n",
    "    \n",
    "# with tf.name_scope(\"Dense_Leaky\"):\n",
    "#     model.add(layers.Dense(2000, activation=tf.nn.leaky_relu))\n",
    "#     model.add(layers.Dropout(0.10))\n",
    "\n",
    "    \n",
    "#     with tf.name_scope(\"Dense_Leaky\"):\n",
    "#         model.add(layers.Dense(800))\n",
    "#         model.add(layers.BatchNormalization())\n",
    "#         model.add(layers.LeakyReLU())\n",
    "#         model.add(layers.Dropout(0.10))\n",
    "\n",
    "#     with tf.name_scope(\"Dense_Leaky\"):\n",
    "#         model.add(layers.Dense(200))\n",
    "#         model.add(layers.BatchNormalization())\n",
    "#         model.add(layers.LeakyReLU())\n",
    "#         model.add(layers.Dropout(0.10))\n",
    "\n",
    "#     with tf.name_scope(\"Dense_Leaky\"):\n",
    "#         model.add(layers.Dense(100))\n",
    "#         model.add(layers.BatchNormalization())\n",
    "#         model.add(layers.LeakyReLU())\n",
    "#         model.add(layers.Dropout(0.10))\n",
    "\n",
    "# with tf.name_scope(\"Image_Augmentation\"):\n",
    "#     imAug = ImageDataGenerator(zoom_range = 0.1,\n",
    "#                             height_shift_range = 0.1,\n",
    "#                             width_shift_range = 0.1,\n",
    "#                             rotation_range = 10)\n",
    "\n",
    "#     model.fit_generator(imAug.flow(x_train, ohYTrain, batch_size=batchSize),\n",
    "#                            steps_per_epoch=500,\n",
    "#                            epochs=epochs, #Increase this when not on Kaggle kernel\n",
    "#                            verbose=2,  #1 for ETA, 0 for silent\n",
    "#                            validation_data=(x_test[:400,:], ohYTest[:400,:]), #For speed\n",
    "#                            callbacks=[tensorBoard, adaptLR])\n"
   ]
  },
  {
   "cell_type": "code",
   "execution_count": 348,
   "metadata": {},
   "outputs": [
    {
     "name": "stdout",
     "output_type": "stream",
     "text": [
      "_________________________________________________________________\n",
      "Layer (type)                 Output Shape              Param #   \n",
      "=================================================================\n",
      "flatten_1 (Flatten)          (None, 784)               0         \n",
      "_________________________________________________________________\n",
      "dense_1 (Dense)              (None, 758)               595030    \n",
      "_________________________________________________________________\n",
      "leaky_re_lu_1 (LeakyReLU)    (None, 758)               0         \n",
      "_________________________________________________________________\n",
      "dense_2 (Dense)              (None, 128)               97152     \n",
      "_________________________________________________________________\n",
      "batch_normalization_1 (Batch (None, 128)               512       \n",
      "_________________________________________________________________\n",
      "leaky_re_lu_2 (LeakyReLU)    (None, 128)               0         \n",
      "_________________________________________________________________\n",
      "dropout_1 (Dropout)          (None, 128)               0         \n",
      "_________________________________________________________________\n",
      "dense_3 (Dense)              (None, 32)                4128      \n",
      "_________________________________________________________________\n",
      "batch_normalization_2 (Batch (None, 32)                128       \n",
      "_________________________________________________________________\n",
      "leaky_re_lu_3 (LeakyReLU)    (None, 32)                0         \n",
      "_________________________________________________________________\n",
      "dropout_2 (Dropout)          (None, 32)                0         \n",
      "_________________________________________________________________\n",
      "Output (Dense)               (None, 10)                330       \n",
      "_________________________________________________________________\n",
      "softmax_1 (Softmax)          (None, 10)                0         \n",
      "=================================================================\n",
      "Total params: 697,280\n",
      "Trainable params: 696,960\n",
      "Non-trainable params: 320\n",
      "_________________________________________________________________\n"
     ]
    }
   ],
   "source": [
    "tf.reset_default_graph()\n",
    "K.clear_session()\n",
    "\n",
    "sess = tf.Session(graph=tf.get_default_graph())\n",
    "\n",
    "with tf.name_scope(\"Improved_Model\"):\n",
    "\n",
    "    model = keras.models.Sequential()\n",
    "\n",
    "    with tf.name_scope(\"Input_Flatten\"):\n",
    "        model.add(layers.Flatten(input_shape=(28,28,)))\n",
    "\n",
    "    with tf.name_scope(\"Dense_Leaky\"):\n",
    "        model.add(layers.Dense(758))\n",
    "        model.add(layers.LeakyReLU())\n",
    "\n",
    "    with tf.name_scope(\"Dense_Leaky\"):\n",
    "        model.add(layers.Dense(128) )\n",
    "        model.add(layers.BatchNormalization())\n",
    "        model.add(layers.LeakyReLU())\n",
    "        model.add(layers.Dropout(0.15))\n",
    "        \n",
    "    with tf.name_scope(\"Dense_Leaky\"):\n",
    "        model.add(layers.Dense(32))\n",
    "        model.add(layers.BatchNormalization())\n",
    "        model.add(layers.LeakyReLU())\n",
    "        model.add(layers.Dropout(0.10))\n",
    "\n",
    "    with tf.name_scope(\"Output\"):\n",
    "        model.add(layers.Dense(output_dim = 10, name=\"Output\"))\n",
    "        model.add(layers.Softmax())\n",
    "\n",
    "model.summary()"
   ]
  },
  {
   "cell_type": "code",
   "execution_count": 349,
   "metadata": {},
   "outputs": [],
   "source": [
    "with tf.name_scope(\"tBoard_Setup\"):\n",
    "    tensorBoard = keras.callbacks.TensorBoard(log_dir=\"./improved_logs\", histogram_freq=1, write_graph=True)\n",
    "    tensorBoard.set_model(model)"
   ]
  },
  {
   "cell_type": "code",
   "execution_count": 350,
   "metadata": {},
   "outputs": [],
   "source": [
    "with tf.name_scope(\"Adaptive_Learning_Rate\"):\n",
    "    \n",
    "    adaptLR = keras.callbacks.LearningRateScheduler(lambda x: 1e-3 * 0.9 ** x, verbose=1)"
   ]
  },
  {
   "cell_type": "code",
   "execution_count": 351,
   "metadata": {},
   "outputs": [
    {
     "name": "stdout",
     "output_type": "stream",
     "text": [
      "Path for Tensorboard Logs:\n",
      "/Users/mikelawrence/Documents/School/Data\\ X/HW/HW\\ 10/improved_logs\n"
     ]
    }
   ],
   "source": [
    "logDir = \"improved_logs\"\n",
    "logPath = (os.getcwd() + \"/\" + logDir).replace(\" \", \"\\\\ \")\n",
    "print(\"Path for Tensorboard Logs:\")\n",
    "print(logPath)"
   ]
  },
  {
   "cell_type": "code",
   "execution_count": 352,
   "metadata": {},
   "outputs": [],
   "source": [
    "with tf.name_scope(\"Compilation\"):\n",
    "    model.compile(loss='categorical_crossentropy', optimizer='adam', metrics=['accuracy'])"
   ]
  },
  {
   "cell_type": "code",
   "execution_count": 353,
   "metadata": {},
   "outputs": [],
   "source": [
    "batchSize = 20\n",
    "epochs = 25"
   ]
  },
  {
   "cell_type": "code",
   "execution_count": 354,
   "metadata": {
    "scrolled": true
   },
   "outputs": [
    {
     "name": "stdout",
     "output_type": "stream",
     "text": [
      "Train on 60000 samples, validate on 10000 samples\n",
      "Epoch 1/25\n",
      "\n",
      "Epoch 00001: LearningRateScheduler reducing learning rate to 0.001.\n",
      "60000/60000 [==============================] - 70s 1ms/step - loss: 0.3093 - acc: 0.9115 - val_loss: 0.1589 - val_acc: 0.9508\n",
      "Epoch 2/25\n",
      "\n",
      "Epoch 00002: LearningRateScheduler reducing learning rate to 0.0009000000000000001.\n",
      "60000/60000 [==============================] - 68s 1ms/step - loss: 0.1626 - acc: 0.9506 - val_loss: 0.1169 - val_acc: 0.9627\n",
      "Epoch 3/25\n",
      "\n",
      "Epoch 00003: LearningRateScheduler reducing learning rate to 0.0008100000000000001.\n",
      "60000/60000 [==============================] - 68s 1ms/step - loss: 0.1282 - acc: 0.9607 - val_loss: 0.0859 - val_acc: 0.9726\n",
      "Epoch 4/25\n",
      "\n",
      "Epoch 00004: LearningRateScheduler reducing learning rate to 0.0007290000000000002.\n",
      "60000/60000 [==============================] - 69s 1ms/step - loss: 0.1010 - acc: 0.9690 - val_loss: 0.0840 - val_acc: 0.9747\n",
      "Epoch 5/25\n",
      "\n",
      "Epoch 00005: LearningRateScheduler reducing learning rate to 0.0006561000000000001.\n",
      "60000/60000 [==============================] - 68s 1ms/step - loss: 0.0869 - acc: 0.9725 - val_loss: 0.0710 - val_acc: 0.9777\n",
      "Epoch 6/25\n",
      "\n",
      "Epoch 00006: LearningRateScheduler reducing learning rate to 0.00059049.\n",
      "60000/60000 [==============================] - 72s 1ms/step - loss: 0.0739 - acc: 0.9767 - val_loss: 0.0721 - val_acc: 0.9777\n",
      "Epoch 7/25\n",
      "\n",
      "Epoch 00007: LearningRateScheduler reducing learning rate to 0.000531441.\n",
      "60000/60000 [==============================] - 83s 1ms/step - loss: 0.0626 - acc: 0.9800 - val_loss: 0.0729 - val_acc: 0.9772\n",
      "Epoch 8/25\n",
      "\n",
      "Epoch 00008: LearningRateScheduler reducing learning rate to 0.0004782969000000001.\n",
      "60000/60000 [==============================] - 79s 1ms/step - loss: 0.0544 - acc: 0.9822 - val_loss: 0.0628 - val_acc: 0.9805\n",
      "Epoch 9/25\n",
      "\n",
      "Epoch 00009: LearningRateScheduler reducing learning rate to 0.0004304672100000001.\n",
      "60000/60000 [==============================] - 77s 1ms/step - loss: 0.0504 - acc: 0.9840 - val_loss: 0.0575 - val_acc: 0.9842\n",
      "Epoch 10/25\n",
      "\n",
      "Epoch 00010: LearningRateScheduler reducing learning rate to 0.0003874204890000001.\n",
      "60000/60000 [==============================] - 71s 1ms/step - loss: 0.0399 - acc: 0.9874 - val_loss: 0.0622 - val_acc: 0.9815\n",
      "Epoch 11/25\n",
      "\n",
      "Epoch 00011: LearningRateScheduler reducing learning rate to 0.0003486784401000001.\n",
      "60000/60000 [==============================] - 69s 1ms/step - loss: 0.0354 - acc: 0.9885 - val_loss: 0.0640 - val_acc: 0.9824\n",
      "Epoch 12/25\n",
      "\n",
      "Epoch 00012: LearningRateScheduler reducing learning rate to 0.0003138105960900001.\n",
      "60000/60000 [==============================] - 81s 1ms/step - loss: 0.0327 - acc: 0.9893 - val_loss: 0.0633 - val_acc: 0.9825\n",
      "Epoch 13/25\n",
      "\n",
      "Epoch 00013: LearningRateScheduler reducing learning rate to 0.0002824295364810001.\n",
      "60000/60000 [==============================] - 74s 1ms/step - loss: 0.0278 - acc: 0.9911 - val_loss: 0.0598 - val_acc: 0.9829\n",
      "Epoch 14/25\n",
      "\n",
      "Epoch 00014: LearningRateScheduler reducing learning rate to 0.0002541865828329001.\n",
      "60000/60000 [==============================] - 74s 1ms/step - loss: 0.0252 - acc: 0.9918 - val_loss: 0.0550 - val_acc: 0.9839\n",
      "Epoch 15/25\n",
      "\n",
      "Epoch 00015: LearningRateScheduler reducing learning rate to 0.0002287679245496101.\n",
      "60000/60000 [==============================] - 78s 1ms/step - loss: 0.0215 - acc: 0.9933 - val_loss: 0.0549 - val_acc: 0.9840\n",
      "Epoch 16/25\n",
      "\n",
      "Epoch 00016: LearningRateScheduler reducing learning rate to 0.0002058911320946491.\n",
      "60000/60000 [==============================] - 78s 1ms/step - loss: 0.0193 - acc: 0.9939 - val_loss: 0.0607 - val_acc: 0.9830\n",
      "Epoch 17/25\n",
      "\n",
      "Epoch 00017: LearningRateScheduler reducing learning rate to 0.00018530201888518417.\n",
      "60000/60000 [==============================] - 73s 1ms/step - loss: 0.0177 - acc: 0.9943 - val_loss: 0.0580 - val_acc: 0.9842\n",
      "Epoch 18/25\n",
      "\n",
      "Epoch 00018: LearningRateScheduler reducing learning rate to 0.00016677181699666576.\n",
      "60000/60000 [==============================] - 72s 1ms/step - loss: 0.0158 - acc: 0.9946 - val_loss: 0.0572 - val_acc: 0.9849\n",
      "Epoch 19/25\n",
      "\n",
      "Epoch 00019: LearningRateScheduler reducing learning rate to 0.00015009463529699917.\n",
      "60000/60000 [==============================] - 79s 1ms/step - loss: 0.0137 - acc: 0.9956 - val_loss: 0.0575 - val_acc: 0.9855\n",
      "Epoch 20/25\n",
      "\n",
      "Epoch 00020: LearningRateScheduler reducing learning rate to 0.0001350851717672993.\n",
      "60000/60000 [==============================] - 84s 1ms/step - loss: 0.0122 - acc: 0.9960 - val_loss: 0.0624 - val_acc: 0.9842\n",
      "Epoch 21/25\n",
      "\n",
      "Epoch 00021: LearningRateScheduler reducing learning rate to 0.00012157665459056935.\n",
      "60000/60000 [==============================] - 73s 1ms/step - loss: 0.0112 - acc: 0.9965 - val_loss: 0.0603 - val_acc: 0.9842\n",
      "Epoch 22/25\n",
      "\n",
      "Epoch 00022: LearningRateScheduler reducing learning rate to 0.00010941898913151242.\n",
      "60000/60000 [==============================] - 75s 1ms/step - loss: 0.0111 - acc: 0.9962 - val_loss: 0.0588 - val_acc: 0.9854\n",
      "Epoch 23/25\n",
      "\n",
      "Epoch 00023: LearningRateScheduler reducing learning rate to 9.847709021836118e-05.\n",
      "60000/60000 [==============================] - 92s 2ms/step - loss: 0.0101 - acc: 0.9969 - val_loss: 0.0586 - val_acc: 0.9850\n",
      "Epoch 24/25\n",
      "\n",
      "Epoch 00024: LearningRateScheduler reducing learning rate to 8.862938119652506e-05.\n",
      "60000/60000 [==============================] - 88s 1ms/step - loss: 0.0088 - acc: 0.9973 - val_loss: 0.0580 - val_acc: 0.9849\n",
      "Epoch 25/25\n",
      "\n",
      "Epoch 00025: LearningRateScheduler reducing learning rate to 7.976644307687256e-05.\n",
      "60000/60000 [==============================] - 83s 1ms/step - loss: 0.0082 - acc: 0.9973 - val_loss: 0.0570 - val_acc: 0.9861\n"
     ]
    }
   ],
   "source": [
    "with tf.name_scope('Training'):\n",
    "    model.fit(x=x_train, y=ohYTrain, verbose=1, shuffle=True, batch_size=batchSize, nb_epoch=epochs,\n",
    "              callbacks=[tensorBoard, adaptLR], validation_data=(x_test, ohYTest))\n"
   ]
  },
  {
   "cell_type": "code",
   "execution_count": 355,
   "metadata": {},
   "outputs": [
    {
     "name": "stdout",
     "output_type": "stream",
     "text": [
      "Final Train Loss and Accuracy are:\n",
      "[0.0010037639418595669, 0.99985]\n",
      "\n",
      "Final Test Loss and Accuracy are:\n",
      "[0.05703200456253835, 0.9861]\n"
     ]
    }
   ],
   "source": [
    "with tf.name_scope(\"Evaluation\"):\n",
    "    print(\"Final Train Loss and Accuracy are:\")\n",
    "    print(model.evaluate(x_train, ohYTrain, verbose=0))\n",
    "    print()\n",
    "    print(\"Final Test Loss and Accuracy are:\")\n",
    "    print(model.evaluate(x_test, ohYTest, verbose=0))"
   ]
  },
  {
   "cell_type": "code",
   "execution_count": 356,
   "metadata": {},
   "outputs": [
    {
     "name": "stdout",
     "output_type": "stream",
     "text": [
      "/Users/mikelawrence/Documents/School/Data\\ X/HW/HW\\ 10/improved_logs\n"
     ]
    }
   ],
   "source": [
    "print(logPath)"
   ]
  },
  {
   "cell_type": "code",
   "execution_count": 358,
   "metadata": {},
   "outputs": [],
   "source": [
    "!tensorboard --logdir=/Users/mikelawrence/Documents/School/Data\\ X/HW/HW\\ 10/improved_logs #--port=6005"
   ]
  },
  {
   "cell_type": "code",
   "execution_count": null,
   "metadata": {},
   "outputs": [],
   "source": []
  }
 ],
 "metadata": {
  "kernelspec": {
   "display_name": "Python 3",
   "language": "python",
   "name": "python3"
  },
  "language_info": {
   "codemirror_mode": {
    "name": "ipython",
    "version": 3
   },
   "file_extension": ".py",
   "mimetype": "text/x-python",
   "name": "python",
   "nbconvert_exporter": "python",
   "pygments_lexer": "ipython3",
   "version": "3.6.4"
  }
 },
 "nbformat": 4,
 "nbformat_minor": 2
}
