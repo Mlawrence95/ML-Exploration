{
 "cells": [
  {
   "cell_type": "code",
   "execution_count": 7,
   "metadata": {},
   "outputs": [],
   "source": [
    "import numpy as np\n",
    "import pandas as pd\n",
    "import scipy \n",
    "\n",
    "import matplotlib.pyplot as plt\n",
    "import seaborn as sns\n",
    "\n",
    "from sklearn.neighbors import KNeighborsClassifier\n",
    "from sklearn.datasets.samples_generator import make_blobs\n",
    "\n",
    "%matplotlib inline"
   ]
  },
  {
   "cell_type": "markdown",
   "metadata": {},
   "source": [
    "When confronted with data that has discrete categories, it is often valuable to consider the problem in which one must sort unseen data into these categories based on some set of attributes common to both the old data and the new, unsorted data. This is formally referred to as a classification problem in machine learning. \n",
    "\n",
    "One solution to this problem is called k-Nearest Neighbors, or kNN. This is a supervised method, which means it's a useful approach when the \"old\" data, or training set, it already labelled. In this notebook we will explore what some clustered data might look like, as well as how to build a kNN classifier from scratch. \n",
    "\n",
    "The prerequisite knowledge to understanding kNN is really only geometry -- knowing the pythagorean theorem. To apply it, you should be familiar with a programming language of your choice, as well as proper data etiquette, meaning respecting the boundary between training data and the data of testing and validation."
   ]
  },
  {
   "cell_type": "code",
   "execution_count": 384,
   "metadata": {},
   "outputs": [],
   "source": [
    "numberOfSamples = 500\n",
    "spread = 6\n",
    "\n",
    "dataSeed = 10"
   ]
  },
  {
   "cell_type": "markdown",
   "metadata": {},
   "source": [
    "Here we call upon Sci-kit Learn to build some blobs for us to play with. Play around with these parameters and see how your results change. Be aware that the data generating process we use here automatically creates a balanced number of classes, which will not generally be the case. You must be careful with this in application."
   ]
  },
  {
   "cell_type": "code",
   "execution_count": 385,
   "metadata": {},
   "outputs": [],
   "source": [
    "# data generation paramaterized by the inputs above. make_blobs is from sci-kit learn.\n",
    "\n",
    "# There are items below dependent on the number of clusters.\n",
    "numberOfClusters = 5\n",
    "\n",
    "points, labels = make_blobs(n_samples=numberOfSamples,centers=numberOfClusters,\n",
    "                            cluster_std=spread,random_state=dataSeed)"
   ]
  },
  {
   "cell_type": "code",
   "execution_count": 386,
   "metadata": {
    "scrolled": true
   },
   "outputs": [],
   "source": [
    "# cleaning up the generated data.\n",
    "# .T is the transpose operation\n",
    "\n",
    "data = {'x':points.T[0],\n",
    "       'y':points.T[1],\n",
    "       'Class':labels}\n",
    "\n",
    "assert(sum([points[i][0] for i in range(10)] == points.T[0][:10]) == 10)"
   ]
  },
  {
   "cell_type": "markdown",
   "metadata": {},
   "source": [
    "Suppose we have some data on categories and their descriptive data. "
   ]
  },
  {
   "cell_type": "code",
   "execution_count": 387,
   "metadata": {
    "scrolled": true
   },
   "outputs": [
    {
     "data": {
      "text/html": [
       "<div>\n",
       "<style scoped>\n",
       "    .dataframe tbody tr th:only-of-type {\n",
       "        vertical-align: middle;\n",
       "    }\n",
       "\n",
       "    .dataframe tbody tr th {\n",
       "        vertical-align: top;\n",
       "    }\n",
       "\n",
       "    .dataframe thead th {\n",
       "        text-align: right;\n",
       "    }\n",
       "</style>\n",
       "<table border=\"1\" class=\"dataframe\">\n",
       "  <thead>\n",
       "    <tr style=\"text-align: right;\">\n",
       "      <th></th>\n",
       "      <th>x</th>\n",
       "      <th>y</th>\n",
       "      <th>Class</th>\n",
       "    </tr>\n",
       "  </thead>\n",
       "  <tbody>\n",
       "    <tr>\n",
       "      <th>0</th>\n",
       "      <td>-13.773491</td>\n",
       "      <td>-0.634583</td>\n",
       "      <td>3</td>\n",
       "    </tr>\n",
       "    <tr>\n",
       "      <th>1</th>\n",
       "      <td>-6.610868</td>\n",
       "      <td>13.044917</td>\n",
       "      <td>1</td>\n",
       "    </tr>\n",
       "    <tr>\n",
       "      <th>2</th>\n",
       "      <td>-2.805094</td>\n",
       "      <td>-4.192714</td>\n",
       "      <td>2</td>\n",
       "    </tr>\n",
       "    <tr>\n",
       "      <th>3</th>\n",
       "      <td>-12.552215</td>\n",
       "      <td>10.921090</td>\n",
       "      <td>3</td>\n",
       "    </tr>\n",
       "    <tr>\n",
       "      <th>4</th>\n",
       "      <td>0.956953</td>\n",
       "      <td>-0.200472</td>\n",
       "      <td>1</td>\n",
       "    </tr>\n",
       "  </tbody>\n",
       "</table>\n",
       "</div>"
      ],
      "text/plain": [
       "           x          y  Class\n",
       "0 -13.773491  -0.634583      3\n",
       "1  -6.610868  13.044917      1\n",
       "2  -2.805094  -4.192714      2\n",
       "3 -12.552215  10.921090      3\n",
       "4   0.956953  -0.200472      1"
      ]
     },
     "execution_count": 387,
     "metadata": {},
     "output_type": "execute_result"
    }
   ],
   "source": [
    "clusterData = pd.DataFrame(data)\n",
    "clusterData.head()"
   ]
  },
  {
   "cell_type": "markdown",
   "metadata": {},
   "source": [
    "None of these classes are particularly rare or excessively common. Our understanding of them is relatively equal."
   ]
  },
  {
   "cell_type": "code",
   "execution_count": 388,
   "metadata": {},
   "outputs": [
    {
     "data": {
      "image/png": "[encoded data removed]",
      "text/plain": [
       "<Figure size 432x288 with 1 Axes>"
      ]
     },
     "metadata": {},
     "output_type": "display_data"
    }
   ],
   "source": [
    "# verifying that the classes are balanced\n",
    "\n",
    "clusterData['Class'].value_counts().plot(kind='bar');\n",
    "plt.xlabel('Category');\n",
    "plt.ylabel('Count');\n",
    "plt.title('Class Balance from Generated Data');"
   ]
  },
  {
   "cell_type": "markdown",
   "metadata": {},
   "source": [
    "Let's call these categories the genre of music associated with an artist. We can describe the artist's genre with data points x and y, but these sound more interesting as \"Fan Intensity\" and \"Track Pace\". \n",
    "\n",
    "We could add many more of these descriptive variables to narrow down the data, but the same principles apply with 2 variables. Let's proceed."
   ]
  },
  {
   "cell_type": "code",
   "execution_count": 389,
   "metadata": {},
   "outputs": [],
   "source": [
    "# Fabricating some interesting labels for our classes\n",
    "\n",
    "classLabels = {0:'Psychedelic Rock',\n",
    "            1:'Doom Metal',\n",
    "            2:'Rap',\n",
    "            3:'Reggae',\n",
    "            4:'Drum and Bass'\n",
    "            }\n",
    "\n",
    "musicLabel = {'Class':classLabels}\n",
    "newColumnNames = {'x':'Fan Intensity',\n",
    "                 'y':'Track Pace',\n",
    "                 'Class':'Genre'}"
   ]
  },
  {
   "cell_type": "code",
   "execution_count": 390,
   "metadata": {
    "scrolled": true
   },
   "outputs": [
    {
     "data": {
      "text/html": [
       "<div>\n",
       "<style scoped>\n",
       "    .dataframe tbody tr th:only-of-type {\n",
       "        vertical-align: middle;\n",
       "    }\n",
       "\n",
       "    .dataframe tbody tr th {\n",
       "        vertical-align: top;\n",
       "    }\n",
       "\n",
       "    .dataframe thead th {\n",
       "        text-align: right;\n",
       "    }\n",
       "</style>\n",
       "<table border=\"1\" class=\"dataframe\">\n",
       "  <thead>\n",
       "    <tr style=\"text-align: right;\">\n",
       "      <th></th>\n",
       "      <th>Fan Intensity</th>\n",
       "      <th>Track Pace</th>\n",
       "      <th>Genre</th>\n",
       "    </tr>\n",
       "  </thead>\n",
       "  <tbody>\n",
       "    <tr>\n",
       "      <th>0</th>\n",
       "      <td>-13.773491</td>\n",
       "      <td>-0.634583</td>\n",
       "      <td>Reggae</td>\n",
       "    </tr>\n",
       "    <tr>\n",
       "      <th>1</th>\n",
       "      <td>-6.610868</td>\n",
       "      <td>13.044917</td>\n",
       "      <td>Doom Metal</td>\n",
       "    </tr>\n",
       "    <tr>\n",
       "      <th>2</th>\n",
       "      <td>-2.805094</td>\n",
       "      <td>-4.192714</td>\n",
       "      <td>Rap</td>\n",
       "    </tr>\n",
       "    <tr>\n",
       "      <th>3</th>\n",
       "      <td>-12.552215</td>\n",
       "      <td>10.921090</td>\n",
       "      <td>Reggae</td>\n",
       "    </tr>\n",
       "    <tr>\n",
       "      <th>4</th>\n",
       "      <td>0.956953</td>\n",
       "      <td>-0.200472</td>\n",
       "      <td>Doom Metal</td>\n",
       "    </tr>\n",
       "  </tbody>\n",
       "</table>\n",
       "</div>"
      ],
      "text/plain": [
       "   Fan Intensity  Track Pace       Genre\n",
       "0     -13.773491   -0.634583      Reggae\n",
       "1      -6.610868   13.044917  Doom Metal\n",
       "2      -2.805094   -4.192714         Rap\n",
       "3     -12.552215   10.921090      Reggae\n",
       "4       0.956953   -0.200472  Doom Metal"
      ]
     },
     "execution_count": 390,
     "metadata": {},
     "output_type": "execute_result"
    }
   ],
   "source": [
    "# Swapping out the old labels for the ones above.\n",
    "# Feel free to create whichever categories you like\n",
    "\n",
    "musicData = clusterData.replace(musicLabel)\n",
    "musicData = musicData.rename(index=str,columns=newColumnNames)\n",
    "musicData.head()"
   ]
  },
  {
   "cell_type": "markdown",
   "metadata": {},
   "source": [
    "With this data in hand, we aim to *classify* a new datapoint that is given to us by a friend. Our friend says that this artist has -10 of Fan Intensity, and -5 of Track Pace. What genre do you think this artist is best described by?"
   ]
  },
  {
   "cell_type": "code",
   "execution_count": 391,
   "metadata": {},
   "outputs": [],
   "source": [
    "unknownArtist = [-10,-5]"
   ]
  },
  {
   "cell_type": "markdown",
   "metadata": {},
   "source": [
    "A natural way to approach this problem is to think about the artists we know and what genre they fall into, then decide where this unknown artist fits with respect to them and their genre classification."
   ]
  },
  {
   "cell_type": "code",
   "execution_count": 392,
   "metadata": {},
   "outputs": [
    {
     "data": {
      "image/png": "[encoded data removed]",
      "text/plain": [
       "<Figure size 576x432 with 1 Axes>"
      ]
     },
     "metadata": {},
     "output_type": "display_data"
    }
   ],
   "source": [
    "plt.figure(figsize=(8,6))\n",
    "\n",
    "sns.scatterplot(x='Fan Intensity',y='Track Pace',hue='Genre',\n",
    "               data=musicData, legend='full')\n",
    "\n",
    "plt.scatter(unknownArtist[0],unknownArtist[1],\n",
    "            color='black',marker='*',s=100,label='Unknown')\n",
    "\n",
    "plt.title('Musical Artists in Track vs Intensity Space');\n",
    "plt.legend(loc='center left', bbox_to_anchor=(1, 0.5));"
   ]
  },
  {
   "cell_type": "markdown",
   "metadata": {},
   "source": [
    "Plotting the traits of the artist our friend gave us versus the other artists we are familiar with, it seems like our data suggests that the unknown artist's genre is something similar to drum and bass, rap, and/or reggae. \n",
    "\n",
    "How can we make a decision? Let's turn our intuition into an algorithm with some math. In particular, let's look at the distance between each point and our unknown point on this plot and check the genre of the artists that are the closest to our unknown artist. If all of the closest point are rap, for example, it would make sense that our new artist is a rapper too.\n",
    "\n",
    "First, let's build a helper function -- a function that allows us to hide some code down the line and does a simple job for us. You may remember that the distance between two coordinates (vectors) is found by using the pythagorean theorem. \n",
    "\n",
    "You may also realize that this distance formula isn't restricted to 2 dimension. \n",
    "\n",
    "Hint: we can build this for as many descriptive dimensions as want,\n",
    "such as x, y, z, a, b, c..."
   ]
  },
  {
   "cell_type": "code",
   "execution_count": 344,
   "metadata": {},
   "outputs": [],
   "source": [
    "def distance(point1, point2):\n",
    "    \"\"\"\n",
    "    Returns the Euclidean distance between two points\n",
    "    \n",
    "    point1: [x1,y1]\n",
    "    point2: [x2,y2]\n",
    "    returns: sqrt( (x1-x2)**2 + (y1-y2)**2 )\n",
    "    \n",
    "    >>>p1 = [0,3]\n",
    "    >>>p2 = [4,0]\n",
    "    >>>distance(p1,p2)\n",
    "    5.0\n",
    "    \"\"\"\n",
    "    x1,y1 = point1[0],point1[1]\n",
    "    x2,y2 = point2[0],point2[1]\n",
    "    \n",
    "    return np.sqrt( (x1-x2)**2 + (y1-y2)**2 )"
   ]
  },
  {
   "cell_type": "code",
   "execution_count": 345,
   "metadata": {},
   "outputs": [],
   "source": [
    "assert(distance([0,3],[4,0]) == 5.0)\n",
    "assert(distance([0,3],[0,1]) == 2.0)"
   ]
  },
  {
   "cell_type": "markdown",
   "metadata": {},
   "source": [
    "Now we have a way to define distance between different artists, and we've tested that it worked the way we think it should with testing. Since this function takes in coordinates as arguments, and the unknown artist was given to us as a coordinate, let's make a new column in the music data table called \"Location\" that creates a coordinate."
   ]
  },
  {
   "cell_type": "code",
   "execution_count": 346,
   "metadata": {
    "scrolled": true
   },
   "outputs": [],
   "source": [
    "musicData['Location'] = [[musicData['Fan Intensity'][i],musicData['Track Pace'][i]] for i in musicData.index]"
   ]
  },
  {
   "cell_type": "code",
   "execution_count": 347,
   "metadata": {},
   "outputs": [
    {
     "data": {
      "text/html": [
       "<div>\n",
       "<style scoped>\n",
       "    .dataframe tbody tr th:only-of-type {\n",
       "        vertical-align: middle;\n",
       "    }\n",
       "\n",
       "    .dataframe tbody tr th {\n",
       "        vertical-align: top;\n",
       "    }\n",
       "\n",
       "    .dataframe thead th {\n",
       "        text-align: right;\n",
       "    }\n",
       "</style>\n",
       "<table border=\"1\" class=\"dataframe\">\n",
       "  <thead>\n",
       "    <tr style=\"text-align: right;\">\n",
       "      <th></th>\n",
       "      <th>Fan Intensity</th>\n",
       "      <th>Track Pace</th>\n",
       "      <th>Genre</th>\n",
       "      <th>Location</th>\n",
       "    </tr>\n",
       "  </thead>\n",
       "  <tbody>\n",
       "    <tr>\n",
       "      <th>0</th>\n",
       "      <td>-12.484366</td>\n",
       "      <td>0.339616</td>\n",
       "      <td>Reggae</td>\n",
       "      <td>[-12.484366211276262, 0.339616282688489]</td>\n",
       "    </tr>\n",
       "    <tr>\n",
       "      <th>1</th>\n",
       "      <td>-5.063562</td>\n",
       "      <td>11.700110</td>\n",
       "      <td>Doom Metal</td>\n",
       "      <td>[-5.063562256062138, 11.700110203913388]</td>\n",
       "    </tr>\n",
       "    <tr>\n",
       "      <th>2</th>\n",
       "      <td>-2.342555</td>\n",
       "      <td>-4.411273</td>\n",
       "      <td>Rap</td>\n",
       "      <td>[-2.3425553402160975, -4.411272929674191]</td>\n",
       "    </tr>\n",
       "    <tr>\n",
       "      <th>3</th>\n",
       "      <td>-11.466636</td>\n",
       "      <td>9.969344</td>\n",
       "      <td>Reggae</td>\n",
       "      <td>[-11.4666358971729, 9.9693440645541]</td>\n",
       "    </tr>\n",
       "    <tr>\n",
       "      <th>4</th>\n",
       "      <td>1.242955</td>\n",
       "      <td>0.662286</td>\n",
       "      <td>Doom Metal</td>\n",
       "      <td>[1.2429546602272374, 0.6622861537871856]</td>\n",
       "    </tr>\n",
       "  </tbody>\n",
       "</table>\n",
       "</div>"
      ],
      "text/plain": [
       "   Fan Intensity  Track Pace       Genre  \\\n",
       "0     -12.484366    0.339616      Reggae   \n",
       "1      -5.063562   11.700110  Doom Metal   \n",
       "2      -2.342555   -4.411273         Rap   \n",
       "3     -11.466636    9.969344      Reggae   \n",
       "4       1.242955    0.662286  Doom Metal   \n",
       "\n",
       "                                    Location  \n",
       "0   [-12.484366211276262, 0.339616282688489]  \n",
       "1   [-5.063562256062138, 11.700110203913388]  \n",
       "2  [-2.3425553402160975, -4.411272929674191]  \n",
       "3       [-11.4666358971729, 9.9693440645541]  \n",
       "4   [1.2429546602272374, 0.6622861537871856]  "
      ]
     },
     "execution_count": 347,
     "metadata": {},
     "output_type": "execute_result"
    }
   ],
   "source": [
    "musicData.head()"
   ]
  },
  {
   "cell_type": "markdown",
   "metadata": {},
   "source": [
    "While the transformation into a coordinate column is not strictly necessary, it's a convenient touch for using our function from above. Let's see how we might use it on the first entry from our musicData table."
   ]
  },
  {
   "cell_type": "code",
   "execution_count": 352,
   "metadata": {},
   "outputs": [
    {
     "data": {
      "text/html": [
       "<div>\n",
       "<style scoped>\n",
       "    .dataframe tbody tr th:only-of-type {\n",
       "        vertical-align: middle;\n",
       "    }\n",
       "\n",
       "    .dataframe tbody tr th {\n",
       "        vertical-align: top;\n",
       "    }\n",
       "\n",
       "    .dataframe thead th {\n",
       "        text-align: right;\n",
       "    }\n",
       "</style>\n",
       "<table border=\"1\" class=\"dataframe\">\n",
       "  <thead>\n",
       "    <tr style=\"text-align: right;\">\n",
       "      <th></th>\n",
       "      <th>Fan Intensity</th>\n",
       "      <th>Track Pace</th>\n",
       "      <th>Genre</th>\n",
       "      <th>Location</th>\n",
       "    </tr>\n",
       "  </thead>\n",
       "  <tbody>\n",
       "    <tr>\n",
       "      <th>0</th>\n",
       "      <td>-12.484366</td>\n",
       "      <td>0.339616</td>\n",
       "      <td>Reggae</td>\n",
       "      <td>[-12.484366211276262, 0.339616282688489]</td>\n",
       "    </tr>\n",
       "  </tbody>\n",
       "</table>\n",
       "</div>"
      ],
      "text/plain": [
       "   Fan Intensity  Track Pace   Genre                                  Location\n",
       "0     -12.484366    0.339616  Reggae  [-12.484366211276262, 0.339616282688489]"
      ]
     },
     "execution_count": 352,
     "metadata": {},
     "output_type": "execute_result"
    }
   ],
   "source": [
    "firstEntry = musicData[:1]\n",
    "firstEntry"
   ]
  },
  {
   "cell_type": "code",
   "execution_count": 360,
   "metadata": {},
   "outputs": [
    {
     "data": {
      "text/plain": [
       "5.889276485111155"
      ]
     },
     "execution_count": 360,
     "metadata": {},
     "output_type": "execute_result"
    }
   ],
   "source": [
    "distance(firstEntry['Location'][0],unknownGenre)"
   ]
  },
  {
   "cell_type": "markdown",
   "metadata": {},
   "source": [
    "It's now clear that the distance function works without too much effort given the location column we've built. Let's create a new column in musicData that corresponds to the distance between each location and the unknown datapoint as we've developed above."
   ]
  },
  {
   "cell_type": "code",
   "execution_count": 361,
   "metadata": {},
   "outputs": [
    {
     "data": {
      "text/html": [
       "<div>\n",
       "<style scoped>\n",
       "    .dataframe tbody tr th:only-of-type {\n",
       "        vertical-align: middle;\n",
       "    }\n",
       "\n",
       "    .dataframe tbody tr th {\n",
       "        vertical-align: top;\n",
       "    }\n",
       "\n",
       "    .dataframe thead th {\n",
       "        text-align: right;\n",
       "    }\n",
       "</style>\n",
       "<table border=\"1\" class=\"dataframe\">\n",
       "  <thead>\n",
       "    <tr style=\"text-align: right;\">\n",
       "      <th></th>\n",
       "      <th>Fan Intensity</th>\n",
       "      <th>Track Pace</th>\n",
       "      <th>Genre</th>\n",
       "      <th>Location</th>\n",
       "      <th>Distance from Unknown Artist</th>\n",
       "    </tr>\n",
       "  </thead>\n",
       "  <tbody>\n",
       "    <tr>\n",
       "      <th>0</th>\n",
       "      <td>-12.484366</td>\n",
       "      <td>0.339616</td>\n",
       "      <td>Reggae</td>\n",
       "      <td>[-12.484366211276262, 0.339616282688489]</td>\n",
       "      <td>5.889276</td>\n",
       "    </tr>\n",
       "    <tr>\n",
       "      <th>1</th>\n",
       "      <td>-5.063562</td>\n",
       "      <td>11.700110</td>\n",
       "      <td>Doom Metal</td>\n",
       "      <td>[-5.063562256062138, 11.700110203913388]</td>\n",
       "      <td>17.414422</td>\n",
       "    </tr>\n",
       "    <tr>\n",
       "      <th>2</th>\n",
       "      <td>-2.342555</td>\n",
       "      <td>-4.411273</td>\n",
       "      <td>Rap</td>\n",
       "      <td>[-2.3425553402160975, -4.411272929674191]</td>\n",
       "      <td>7.680043</td>\n",
       "    </tr>\n",
       "    <tr>\n",
       "      <th>3</th>\n",
       "      <td>-11.466636</td>\n",
       "      <td>9.969344</td>\n",
       "      <td>Reggae</td>\n",
       "      <td>[-11.4666358971729, 9.9693440645541]</td>\n",
       "      <td>15.041020</td>\n",
       "    </tr>\n",
       "    <tr>\n",
       "      <th>4</th>\n",
       "      <td>1.242955</td>\n",
       "      <td>0.662286</td>\n",
       "      <td>Doom Metal</td>\n",
       "      <td>[1.2429546602272374, 0.6622861537871856]</td>\n",
       "      <td>12.588309</td>\n",
       "    </tr>\n",
       "  </tbody>\n",
       "</table>\n",
       "</div>"
      ],
      "text/plain": [
       "   Fan Intensity  Track Pace       Genre  \\\n",
       "0     -12.484366    0.339616      Reggae   \n",
       "1      -5.063562   11.700110  Doom Metal   \n",
       "2      -2.342555   -4.411273         Rap   \n",
       "3     -11.466636    9.969344      Reggae   \n",
       "4       1.242955    0.662286  Doom Metal   \n",
       "\n",
       "                                    Location  Distance from Unknown Artist  \n",
       "0   [-12.484366211276262, 0.339616282688489]                      5.889276  \n",
       "1   [-5.063562256062138, 11.700110203913388]                     17.414422  \n",
       "2  [-2.3425553402160975, -4.411272929674191]                      7.680043  \n",
       "3       [-11.4666358971729, 9.9693440645541]                     15.041020  \n",
       "4   [1.2429546602272374, 0.6622861537871856]                     12.588309  "
      ]
     },
     "execution_count": 361,
     "metadata": {},
     "output_type": "execute_result"
    }
   ],
   "source": [
    "musicData['Distance from Unknown Artist'] = musicData['Location'].apply(lambda loc: distance(unknownArtist,loc))\n",
    "musicData.head()"
   ]
  },
  {
   "cell_type": "markdown",
   "metadata": {},
   "source": [
    "With considerably low effort, we've found the distances! Though this is a great triumph, we only care about the nearest points, so let's sort the table by distance in an ascending fashion."
   ]
  },
  {
   "cell_type": "code",
   "execution_count": 363,
   "metadata": {
    "scrolled": true
   },
   "outputs": [
    {
     "data": {
      "text/html": [
       "<div>\n",
       "<style scoped>\n",
       "    .dataframe tbody tr th:only-of-type {\n",
       "        vertical-align: middle;\n",
       "    }\n",
       "\n",
       "    .dataframe tbody tr th {\n",
       "        vertical-align: top;\n",
       "    }\n",
       "\n",
       "    .dataframe thead th {\n",
       "        text-align: right;\n",
       "    }\n",
       "</style>\n",
       "<table border=\"1\" class=\"dataframe\">\n",
       "  <thead>\n",
       "    <tr style=\"text-align: right;\">\n",
       "      <th></th>\n",
       "      <th>Fan Intensity</th>\n",
       "      <th>Track Pace</th>\n",
       "      <th>Genre</th>\n",
       "      <th>Location</th>\n",
       "      <th>Distance from Unknown Artist</th>\n",
       "    </tr>\n",
       "  </thead>\n",
       "  <tbody>\n",
       "    <tr>\n",
       "      <th>103</th>\n",
       "      <td>-9.267796</td>\n",
       "      <td>-4.955219</td>\n",
       "      <td>Drum and Bass</td>\n",
       "      <td>[-9.26779609006742, -4.955218761711528]</td>\n",
       "      <td>0.733572</td>\n",
       "    </tr>\n",
       "    <tr>\n",
       "      <th>302</th>\n",
       "      <td>-10.325229</td>\n",
       "      <td>-4.264497</td>\n",
       "      <td>Drum and Bass</td>\n",
       "      <td>[-10.325229443147338, -4.2644974754118135]</td>\n",
       "      <td>0.804200</td>\n",
       "    </tr>\n",
       "    <tr>\n",
       "      <th>207</th>\n",
       "      <td>-10.540241</td>\n",
       "      <td>-4.294454</td>\n",
       "      <td>Reggae</td>\n",
       "      <td>[-10.540240509035215, -4.294454435376149]</td>\n",
       "      <td>0.888625</td>\n",
       "    </tr>\n",
       "    <tr>\n",
       "      <th>422</th>\n",
       "      <td>-10.142338</td>\n",
       "      <td>-3.923074</td>\n",
       "      <td>Drum and Bass</td>\n",
       "      <td>[-10.142337736118172, -3.923074470334666]</td>\n",
       "      <td>1.086291</td>\n",
       "    </tr>\n",
       "    <tr>\n",
       "      <th>194</th>\n",
       "      <td>-9.378960</td>\n",
       "      <td>-4.045019</td>\n",
       "      <td>Drum and Bass</td>\n",
       "      <td>[-9.378959651638684, -4.045019114340794]</td>\n",
       "      <td>1.139157</td>\n",
       "    </tr>\n",
       "    <tr>\n",
       "      <th>327</th>\n",
       "      <td>-8.568873</td>\n",
       "      <td>-5.020951</td>\n",
       "      <td>Drum and Bass</td>\n",
       "      <td>[-8.568872588399627, -5.020950594349694]</td>\n",
       "      <td>1.431281</td>\n",
       "    </tr>\n",
       "    <tr>\n",
       "      <th>369</th>\n",
       "      <td>-10.472218</td>\n",
       "      <td>-6.376800</td>\n",
       "      <td>Drum and Bass</td>\n",
       "      <td>[-10.472218364776092, -6.376799553345127]</td>\n",
       "      <td>1.455530</td>\n",
       "    </tr>\n",
       "    <tr>\n",
       "      <th>427</th>\n",
       "      <td>-11.786764</td>\n",
       "      <td>-4.832978</td>\n",
       "      <td>Drum and Bass</td>\n",
       "      <td>[-11.786763606287202, -4.832977726579514]</td>\n",
       "      <td>1.794553</td>\n",
       "    </tr>\n",
       "    <tr>\n",
       "      <th>374</th>\n",
       "      <td>-11.462730</td>\n",
       "      <td>-3.912351</td>\n",
       "      <td>Drum and Bass</td>\n",
       "      <td>[-11.46272952255974, -3.9123509750131795]</td>\n",
       "      <td>1.822789</td>\n",
       "    </tr>\n",
       "    <tr>\n",
       "      <th>256</th>\n",
       "      <td>-9.274883</td>\n",
       "      <td>-6.684393</td>\n",
       "      <td>Drum and Bass</td>\n",
       "      <td>[-9.274883056688315, -6.684392597937748]</td>\n",
       "      <td>1.833841</td>\n",
       "    </tr>\n",
       "  </tbody>\n",
       "</table>\n",
       "</div>"
      ],
      "text/plain": [
       "     Fan Intensity  Track Pace          Genre  \\\n",
       "103      -9.267796   -4.955219  Drum and Bass   \n",
       "302     -10.325229   -4.264497  Drum and Bass   \n",
       "207     -10.540241   -4.294454         Reggae   \n",
       "422     -10.142338   -3.923074  Drum and Bass   \n",
       "194      -9.378960   -4.045019  Drum and Bass   \n",
       "327      -8.568873   -5.020951  Drum and Bass   \n",
       "369     -10.472218   -6.376800  Drum and Bass   \n",
       "427     -11.786764   -4.832978  Drum and Bass   \n",
       "374     -11.462730   -3.912351  Drum and Bass   \n",
       "256      -9.274883   -6.684393  Drum and Bass   \n",
       "\n",
       "                                       Location  Distance from Unknown Artist  \n",
       "103     [-9.26779609006742, -4.955218761711528]                      0.733572  \n",
       "302  [-10.325229443147338, -4.2644974754118135]                      0.804200  \n",
       "207   [-10.540240509035215, -4.294454435376149]                      0.888625  \n",
       "422   [-10.142337736118172, -3.923074470334666]                      1.086291  \n",
       "194    [-9.378959651638684, -4.045019114340794]                      1.139157  \n",
       "327    [-8.568872588399627, -5.020950594349694]                      1.431281  \n",
       "369   [-10.472218364776092, -6.376799553345127]                      1.455530  \n",
       "427   [-11.786763606287202, -4.832977726579514]                      1.794553  \n",
       "374   [-11.46272952255974, -3.9123509750131795]                      1.822789  \n",
       "256    [-9.274883056688315, -6.684392597937748]                      1.833841  "
      ]
     },
     "execution_count": 363,
     "metadata": {},
     "output_type": "execute_result"
    }
   ],
   "source": [
    "sortedDistance = musicData.sort_values('Distance from Unknown Artist')\n",
    "sortedDistance.head(10)"
   ]
  },
  {
   "cell_type": "markdown",
   "metadata": {},
   "source": [
    "It's now clear which artists, and thus which genres, are the closest to our unknown artist. This is where the \"k\" in \"k nearest neighbors\" comes in: how many neighbors, k, should we allow to vote on which genre our unlabeled data actually is?\n",
    "\n",
    "We can pick a random k and see what the first k genre votes are, and maybe that will give a reasonable outcome. There may be problems with this, but let's run with it."
   ]
  },
  {
   "cell_type": "code",
   "execution_count": 402,
   "metadata": {},
   "outputs": [],
   "source": [
    "k = 5"
   ]
  },
  {
   "cell_type": "code",
   "execution_count": 403,
   "metadata": {
    "scrolled": true
   },
   "outputs": [
    {
     "data": {
      "text/html": [
       "<div>\n",
       "<style scoped>\n",
       "    .dataframe tbody tr th:only-of-type {\n",
       "        vertical-align: middle;\n",
       "    }\n",
       "\n",
       "    .dataframe tbody tr th {\n",
       "        vertical-align: top;\n",
       "    }\n",
       "\n",
       "    .dataframe thead th {\n",
       "        text-align: right;\n",
       "    }\n",
       "</style>\n",
       "<table border=\"1\" class=\"dataframe\">\n",
       "  <thead>\n",
       "    <tr style=\"text-align: right;\">\n",
       "      <th></th>\n",
       "      <th>Fan Intensity</th>\n",
       "      <th>Track Pace</th>\n",
       "      <th>Genre</th>\n",
       "      <th>Location</th>\n",
       "      <th>Distance from Unknown Artist</th>\n",
       "    </tr>\n",
       "  </thead>\n",
       "  <tbody>\n",
       "    <tr>\n",
       "      <th>103</th>\n",
       "      <td>-9.267796</td>\n",
       "      <td>-4.955219</td>\n",
       "      <td>Drum and Bass</td>\n",
       "      <td>[-9.26779609006742, -4.955218761711528]</td>\n",
       "      <td>0.733572</td>\n",
       "    </tr>\n",
       "    <tr>\n",
       "      <th>302</th>\n",
       "      <td>-10.325229</td>\n",
       "      <td>-4.264497</td>\n",
       "      <td>Drum and Bass</td>\n",
       "      <td>[-10.325229443147338, -4.2644974754118135]</td>\n",
       "      <td>0.804200</td>\n",
       "    </tr>\n",
       "    <tr>\n",
       "      <th>207</th>\n",
       "      <td>-10.540241</td>\n",
       "      <td>-4.294454</td>\n",
       "      <td>Reggae</td>\n",
       "      <td>[-10.540240509035215, -4.294454435376149]</td>\n",
       "      <td>0.888625</td>\n",
       "    </tr>\n",
       "    <tr>\n",
       "      <th>422</th>\n",
       "      <td>-10.142338</td>\n",
       "      <td>-3.923074</td>\n",
       "      <td>Drum and Bass</td>\n",
       "      <td>[-10.142337736118172, -3.923074470334666]</td>\n",
       "      <td>1.086291</td>\n",
       "    </tr>\n",
       "    <tr>\n",
       "      <th>194</th>\n",
       "      <td>-9.378960</td>\n",
       "      <td>-4.045019</td>\n",
       "      <td>Drum and Bass</td>\n",
       "      <td>[-9.378959651638684, -4.045019114340794]</td>\n",
       "      <td>1.139157</td>\n",
       "    </tr>\n",
       "  </tbody>\n",
       "</table>\n",
       "</div>"
      ],
      "text/plain": [
       "     Fan Intensity  Track Pace          Genre  \\\n",
       "103      -9.267796   -4.955219  Drum and Bass   \n",
       "302     -10.325229   -4.264497  Drum and Bass   \n",
       "207     -10.540241   -4.294454         Reggae   \n",
       "422     -10.142338   -3.923074  Drum and Bass   \n",
       "194      -9.378960   -4.045019  Drum and Bass   \n",
       "\n",
       "                                       Location  Distance from Unknown Artist  \n",
       "103     [-9.26779609006742, -4.955218761711528]                      0.733572  \n",
       "302  [-10.325229443147338, -4.2644974754118135]                      0.804200  \n",
       "207   [-10.540240509035215, -4.294454435376149]                      0.888625  \n",
       "422   [-10.142337736118172, -3.923074470334666]                      1.086291  \n",
       "194    [-9.378959651638684, -4.045019114340794]                      1.139157  "
      ]
     },
     "execution_count": 403,
     "metadata": {},
     "output_type": "execute_result"
    }
   ],
   "source": [
    "sortedDistance[:k]"
   ]
  },
  {
   "cell_type": "code",
   "execution_count": 404,
   "metadata": {},
   "outputs": [
    {
     "data": {
      "text/plain": [
       "<matplotlib.axes._subplots.AxesSubplot at 0x1a278a1cf8>"
      ]
     },
     "execution_count": 404,
     "metadata": {},
     "output_type": "execute_result"
    },
    {
     "data": {
      "image/png": "[encoded data removed]",
      "text/plain": [
       "<Figure size 432x288 with 1 Axes>"
      ]
     },
     "metadata": {},
     "output_type": "display_data"
    }
   ],
   "source": [
    "classVotes = sortedDistance.iloc[:k,:]['Genre'].value_counts()\n",
    "classVotes.plot(kind='bar')"
   ]
  },
  {
   "cell_type": "markdown",
   "metadata": {},
   "source": [
    "Picking the k at random and plotting, it looks like we got a large amount of votes for Drum and Bass, and one for Reggae. This signals that our friend's artist is indeed a Drum and Bass artist. \n",
    "\n",
    "Can we be 100% sure that this is the true answer? What if there is more at risk than mislabelling a genre? \n",
    "\n",
    "While we can't be 100% that our classification procedure did a perfect job, we can perform a *sanity check*. This means that we should look back at the data we already the labels for with some certainty, then try this procedure on those datapoints while pretending that we don't know what their label is. \n",
    "\n",
    "This is a critical task in machine learning, which is frequently called model validation. We care about how strongly the model performs on the data we know, and we use information available to us to make sure that our models generalizes as best as possible to the data we don't know about yet wish to make predictions about."
   ]
  },
  {
   "cell_type": "markdown",
   "metadata": {},
   "source": [
    "<>In progress<>"
   ]
  }
 ],
 "metadata": {
  "kernelspec": {
   "display_name": "Python 3",
   "language": "python",
   "name": "python3"
  },
  "language_info": {
   "codemirror_mode": {
    "name": "ipython",
    "version": 3
   },
   "file_extension": ".py",
   "mimetype": "text/x-python",
   "name": "python",
   "nbconvert_exporter": "python",
   "pygments_lexer": "ipython3",
   "version": "3.6.4"
  }
 },
 "nbformat": 4,
 "nbformat_minor": 2
}
