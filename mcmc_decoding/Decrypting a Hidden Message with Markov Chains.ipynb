{
 "cells": [
  {
   "cell_type": "code",
   "execution_count": 1,
   "metadata": {},
   "outputs": [],
   "source": [
    "import os\n",
    "import re\n",
    "\n",
    "import numpy as np\n",
    "import pandas as pd\n",
    "import matplotlib.pyplot as plt"
   ]
  },
  {
   "cell_type": "markdown",
   "metadata": {},
   "source": [
    "<h1> A Markov matrix (or stochastic matrix) </h1>\n",
    "\n",
    "<p> Gives the probability of reaching a set of states given a set of starting states. Here's a basic example of what such a Markov chain would look if we wanted to model the weather in the evening given the weather in the morning: </p>\n",
    "\n",
    "<img src=\"markov.png\">\n",
    "\n",
    "The starting \"state\" is listed on the left, while the column gives the final outcome. If we wanted to know the probability of Evening Sun given that it there was Morning rain, we would get 0.25 - a 25% chance of that outcome. Note that each row of this matrix is normalized, a statement that if you start in a state, there is a 100% chance that something happens. Nothing tricky here.\n",
    "\n",
    "\n",
    "We can use this concept to build "
   ]
  },
  {
   "cell_type": "code",
   "execution_count": 2,
   "metadata": {},
   "outputs": [],
   "source": [
    "np.random.seed(30)\n",
    "characters = list('abcdefghijklmnopqrstuvwxyz ')\n",
    "cipher     = np.random.permutation(characters)"
   ]
  },
  {
   "cell_type": "code",
   "execution_count": 3,
   "metadata": {
    "scrolled": true
   },
   "outputs": [],
   "source": [
    "# take jumbled code to english\n",
    "correct_map  = {code:   actual for code, actual in zip(cipher, characters)}\n",
    "# take english to jumbled code\n",
    "jumbler      = {actual: code for code, actual in correct_map.items()}\n",
    "# indices of correct english\n",
    "alpha_lookup = {letter: i for i, letter in enumerate(characters)}"
   ]
  },
  {
   "cell_type": "code",
   "execution_count": 4,
   "metadata": {},
   "outputs": [],
   "source": [
    "def clean_chapter(doc):\n",
    "    intermediate = re.sub(r'[^a-z]', ' ', doc)  \n",
    "    return re.sub(r\"\\s\\s+\", \" \", intermediate)"
   ]
  },
  {
   "cell_type": "code",
   "execution_count": 5,
   "metadata": {},
   "outputs": [],
   "source": [
    "def combine_chapters(chapters):\n",
    "    docs = [np.loadtxt(f'./moby_dick/chapter_{chap}.txt', dtype=str) for chap in chapters]\n",
    "    docs = [\" \".join(doc) for doc in docs]\n",
    "    docs = [clean_chapter(doc) for doc in docs]\n",
    "    return \" \".join(docs)"
   ]
  },
  {
   "cell_type": "code",
   "execution_count": 6,
   "metadata": {
    "scrolled": true
   },
   "outputs": [
    {
     "data": {
      "text/plain": [
       "'chapter the hyena there are certain queer times and occasions in this strange mixed affair we call l'"
      ]
     },
     "execution_count": 6,
     "metadata": {},
     "output_type": "execute_result"
    }
   ],
   "source": [
    "train_chapters = combine_chapters(np.arange(1, 40))\n",
    "test_chapters  = combine_chapters([50, 60])\n",
    "\n",
    "test_chapters[:100]"
   ]
  },
  {
   "cell_type": "code",
   "execution_count": 7,
   "metadata": {},
   "outputs": [],
   "source": [
    "def make_cooccurrence_matrix(corpus, smooth_factor=0.01):\n",
    "    \"\"\"\n",
    "    Matrix of counts\n",
    "    \n",
    "    first index is starting char, \n",
    "    second is following char\n",
    "    \"\"\"\n",
    "    counts = np.zeros(shape=(len(characters), len(characters)))\n",
    "    last = None\n",
    "    for index, char in enumerate(corpus):\n",
    "        if index == 0:\n",
    "            last = alpha_lookup[char]\n",
    "            continue\n",
    "            \n",
    "        current = alpha_lookup[char]\n",
    "        counts[last, current] += 1\n",
    "        last = current\n",
    "    \n",
    "    return counts + smooth_factor"
   ]
  },
  {
   "cell_type": "code",
   "execution_count": 8,
   "metadata": {},
   "outputs": [],
   "source": [
    "def make_transition_matrix(corpus, smooth_factor=0.01):\n",
    "    mx = make_cooccurrence_matrix(corpus, smooth_factor)\n",
    "    total_ocs = np.sum(mx, axis=1).reshape(-1, 1)\n",
    "    return mx / total_ocs"
   ]
  },
  {
   "cell_type": "code",
   "execution_count": 9,
   "metadata": {},
   "outputs": [],
   "source": [
    "tm = make_transition_matrix(train_chapters)"
   ]
  },
  {
   "cell_type": "code",
   "execution_count": 10,
   "metadata": {},
   "outputs": [
    {
     "data": {
      "text/plain": [
       "(0.028496143625383514, 0.02849604221635884)"
      ]
     },
     "execution_count": 10,
     "metadata": {},
     "output_type": "execute_result"
    }
   ],
   "source": [
    "# these should be about the same (up to a smoothing factor)\n",
    "# this is the fraction of times 'b' follows 'a'\n",
    "tm[0, 1], train_chapters.count('ab') / train_chapters.count('a')"
   ]
  },
  {
   "cell_type": "code",
   "execution_count": 11,
   "metadata": {},
   "outputs": [],
   "source": [
    "# logprob of observation is np.sum(np.log(make_transition_matrix(english) * make_cooccurrence_matrix(observation)))"
   ]
  },
  {
   "cell_type": "code",
   "execution_count": 12,
   "metadata": {},
   "outputs": [],
   "source": [
    "transition_matrix = make_transition_matrix(train_chapters)"
   ]
  },
  {
   "cell_type": "code",
   "execution_count": 13,
   "metadata": {},
   "outputs": [],
   "source": [
    "def logprob(train_transition_matrix, observation):\n",
    "    observed_data = make_cooccurrence_matrix(observation, smooth_factor=1e-4)\n",
    "    return np.sum(np.log(train_transition_matrix * observed_data))"
   ]
  },
  {
   "cell_type": "code",
   "execution_count": 24,
   "metadata": {},
   "outputs": [
    {
     "data": {
      "text/plain": [
       "-4738.146570173234"
      ]
     },
     "execution_count": 24,
     "metadata": {},
     "output_type": "execute_result"
    }
   ],
   "source": [
    "logprob(transition_matrix, train_chapters)"
   ]
  },
  {
   "cell_type": "code",
   "execution_count": 25,
   "metadata": {},
   "outputs": [
    {
     "data": {
      "text/plain": [
       "-7493.351510127829"
      ]
     },
     "execution_count": 25,
     "metadata": {},
     "output_type": "execute_result"
    }
   ],
   "source": [
    "logprob(transition_matrix, test_chapters)"
   ]
  },
  {
   "cell_type": "code",
   "execution_count": 32,
   "metadata": {},
   "outputs": [
    {
     "ename": "ValueError",
     "evalue": "too many values to unpack (expected 2)",
     "output_type": "error",
     "traceback": [
      "\u001b[0;31m---------------------------------------------------------------------------\u001b[0m",
      "\u001b[0;31mValueError\u001b[0m                                Traceback (most recent call last)",
      "\u001b[0;32m<ipython-input-32-45df978a35bd>\u001b[0m in \u001b[0;36m<module>\u001b[0;34m\u001b[0m\n\u001b[0;32m----> 1\u001b[0;31m \u001b[0;32mfor\u001b[0m \u001b[0mpre\u001b[0m\u001b[0;34m,\u001b[0m \u001b[0mpost\u001b[0m \u001b[0;32min\u001b[0m \u001b[0mnp\u001b[0m\u001b[0;34m.\u001b[0m\u001b[0mwhere\u001b[0m\u001b[0;34m(\u001b[0m\u001b[0mmake_cooccurrence_matrix\u001b[0m\u001b[0;34m(\u001b[0m\u001b[0;34m'hello world'\u001b[0m\u001b[0;34m,\u001b[0m \u001b[0msmooth_factor\u001b[0m\u001b[0;34m=\u001b[0m\u001b[0;36m0\u001b[0m\u001b[0;34m)\u001b[0m\u001b[0;34m)\u001b[0m\u001b[0;34m:\u001b[0m\u001b[0;34m\u001b[0m\u001b[0;34m\u001b[0m\u001b[0m\n\u001b[0m\u001b[1;32m      2\u001b[0m     \u001b[0mprint\u001b[0m\u001b[0;34m(\u001b[0m\u001b[0mcharacters\u001b[0m\u001b[0;34m[\u001b[0m\u001b[0mpre\u001b[0m\u001b[0;34m]\u001b[0m\u001b[0;34m,\u001b[0m \u001b[0mcharacters\u001b[0m\u001b[0;34m[\u001b[0m\u001b[0mpost\u001b[0m\u001b[0;34m]\u001b[0m\u001b[0;34m)\u001b[0m\u001b[0;34m\u001b[0m\u001b[0;34m\u001b[0m\u001b[0m\n",
      "\u001b[0;31mValueError\u001b[0m: too many values to unpack (expected 2)"
     ]
    }
   ],
   "source": [
    "# for pre, post in np.where(make_cooccurrence_matrix('hello world', smooth_factor=0)):\n",
    "#     print(characters[pre], characters[post])"
   ]
  },
  {
   "cell_type": "code",
   "execution_count": 39,
   "metadata": {},
   "outputs": [
    {
     "ename": "AttributeError",
     "evalue": "'tuple' object has no attribute 'ravel'",
     "output_type": "error",
     "traceback": [
      "\u001b[0;31m---------------------------------------------------------------------------\u001b[0m",
      "\u001b[0;31mAttributeError\u001b[0m                            Traceback (most recent call last)",
      "\u001b[0;32m<ipython-input-39-2536a353a953>\u001b[0m in \u001b[0;36m<module>\u001b[0;34m\u001b[0m\n\u001b[0;32m----> 1\u001b[0;31m \u001b[0mnp\u001b[0m\u001b[0;34m.\u001b[0m\u001b[0mwhere\u001b[0m\u001b[0;34m(\u001b[0m\u001b[0mmake_cooccurrence_matrix\u001b[0m\u001b[0;34m(\u001b[0m\u001b[0;34m'hello world'\u001b[0m\u001b[0;34m,\u001b[0m \u001b[0msmooth_factor\u001b[0m\u001b[0;34m=\u001b[0m\u001b[0;36m0\u001b[0m\u001b[0;34m)\u001b[0m\u001b[0;34m)\u001b[0m\u001b[0;34m.\u001b[0m\u001b[0mravel\u001b[0m\u001b[0;34m(\u001b[0m\u001b[0;34m)\u001b[0m\u001b[0;34m\u001b[0m\u001b[0;34m\u001b[0m\u001b[0m\n\u001b[0m",
      "\u001b[0;31mAttributeError\u001b[0m: 'tuple' object has no attribute 'ravel'"
     ]
    }
   ],
   "source": [
    "np.where(make_cooccurrence_matrix('hello world', smooth_factor=0)).r"
   ]
  },
  {
   "cell_type": "markdown",
   "metadata": {},
   "source": [
    "MCMC steps:\n",
    "\n",
    "    1) pick random cipher\n",
    "    Until convergence:\n",
    "        2) decode text\n",
    "        3) calculate log likelihood\n",
    "        4) use MH criterion to decide whether to keep new cipher"
   ]
  },
  {
   "cell_type": "code",
   "execution_count": 16,
   "metadata": {},
   "outputs": [],
   "source": [
    "def decipher_string(ciphered_string, decoder):\n",
    "    \"\"\"\n",
    "    Decode a ciphered text.\n",
    "    \n",
    "    Decoder: dict mapping {ciphered char: unciphered char}\n",
    "    \"\"\"\n",
    "    new_str = ''\n",
    "    \n",
    "    for char in ciphered_string:\n",
    "        new_str += decoder[char]\n",
    "        \n",
    "    return new_str\n"
   ]
  },
  {
   "cell_type": "code",
   "execution_count": 17,
   "metadata": {},
   "outputs": [],
   "source": [
    "def encipher_message(unciphered_string, encoder):\n",
    "    return decipher_string(unciphered_string, encoder)"
   ]
  },
  {
   "cell_type": "code",
   "execution_count": 18,
   "metadata": {},
   "outputs": [],
   "source": [
    "def propose_cipher(original_cipher):\n",
    "    \"\"\"\n",
    "    Swap two elements of the cipher at random\n",
    "    \"\"\"\n",
    "    new_cipher = original_cipher.copy()\n",
    "    char1, char2 = np.random.choice(characters, size=2, replace=False)\n",
    "    \n",
    "    char1_val = original_cipher[char1]\n",
    "    char2_val = original_cipher[char2]\n",
    "    \n",
    "    new_cipher[char1] = char2_val\n",
    "    new_cipher[char2] = char1_val\n",
    "    \n",
    "    return new_cipher"
   ]
  },
  {
   "cell_type": "code",
   "execution_count": 19,
   "metadata": {},
   "outputs": [],
   "source": [
    "start_cipher = {ciph: actual for actual, ciph in \n",
    "                zip(np.random.choice(characters, size=27, replace=False), np.random.choice(characters, size=27, replace=False))}\n",
    "ciphered_doc = encipher_message(test_chapters, start_cipher)"
   ]
  },
  {
   "cell_type": "code",
   "execution_count": 20,
   "metadata": {
    "scrolled": true
   },
   "outputs": [
    {
     "data": {
      "text/plain": [
       "'sthrlqpgltqgtxqkhgltqpqghpqgsqplhwkgceqqpglwzq ghkmgassh wak gwkgltw g lphkdqgzwuqmghoohwpgiqgshbbgb'"
      ]
     },
     "execution_count": 20,
     "metadata": {},
     "output_type": "execute_result"
    }
   ],
   "source": [
    "ciphered_doc[:100]"
   ]
  },
  {
   "cell_type": "code",
   "execution_count": 21,
   "metadata": {},
   "outputs": [],
   "source": [
    "def accept_proposed_cipher(proposed_loglike, original_loglike):\n",
    "    prob_ratio = np.exp(proposed_loglike - original_loglike)\n",
    "    uniform_random = np.random.random()\n",
    "    \n",
    "    return prob_ratio > uniform_random"
   ]
  },
  {
   "cell_type": "code",
   "execution_count": 22,
   "metadata": {
    "scrolled": true
   },
   "outputs": [
    {
     "name": "stdout",
     "output_type": "stream",
     "text": [
      "\n",
      "Cycle: 0  ltpbcrdblcdlucvtdblcrcdtrcd c\n",
      "\n",
      "Cycle: 20 wltihbrvhlbvldbctvhlbrbvtrbvwb\n",
      "\n",
      "Cycle: 40 nctboauvocavcfaxtvocauavtuavna\n",
      "\n",
      "Cycle: 60 ton wzuvwozvojzhnvwozuzvnuzvtz\n",
      "\n",
      "Cycle: 80 zvq tcuntvcnvxcbqntvcucnqucnzc\n",
      "\n",
      "Cycle: 100 yuqlbxvnbuxnudxgqnbuxvxnqvxnyx\n",
      "\n",
      "Cycle: 120 vyqbtrentyrnygrpqntyrernqernvr\n",
      "\n",
      "Cycle: 140 irzqlmxnlrmnrjmpznlrmxmnzxmnim\n",
      "\n",
      "Cycle: 160 eazbguxrgaura upzrgauxurzxureu\n",
      "\n",
      "Cycle: 180 yvzuimbqivmqvdmazqivmbmqzbmqym\n",
      "\n",
      "Cycle: 200 vjeut zitj ijd yeitj z iez iv \n",
      "\n",
      "Cycle: 220 yhomagqiahgihvg oiahgqgioqgiyg\n",
      "\n",
      "Cycle: 240 sujokziakuzauwz jakuzizajizasz\n",
      "\n",
      "Cycle: 260 fdcixzvjxdzjdqztcjxdzvzjcvzjfz\n",
      "\n",
      "Cycle: 280 febihlmjheljeylqbjhelmljbmljfl\n",
      "\n",
      "Cycle: 300 wtvkyqmjytqjtaqsvjytqmqjvmqjwq\n",
      "\n",
      "Cycle: 320 dwhtcqmpcwqpwnqshpcwqmqphmqpdq\n",
      "\n",
      "Cycle: 340 seqtnhlynehyevhfqynehlhyqlhysh\n",
      "\n",
      "Cycle: 360  vlkohqrovhrvthplrovhqhrlqhr h\n",
      "\n",
      "Cycle: 380 rxhdcq bcxqbxlqghbcxq qbh qbrq\n",
      "\n",
      "Cycle: 400 ctboeaiwetawtsagbwetaiawbiawca\n",
      "\n",
      "Cycle: 420 zwspyjhtywjtwojgstywjhjtshjtzj\n",
      "\n",
      "Cycle: 440 zxupyiajyxijxfilujyxiaijuaijzi\n",
      "\n",
      "Cycle: 460 hc aboswbcowcnod wbcosow sowho\n",
      "\n",
      "Cycle: 480 rk zfgslfkglkxgd lfkgsgl sglrg\n",
      "\n",
      "Cycle: 500 mk wanszaknzkinq zaknsnz snzmn\n",
      "\n",
      "Cycle: 520 pmxhynszymnzminqxzymnsnzxsnzpn\n",
      "\n",
      "Cycle: 540 vsmhock osc sicam osckc mkc vc\n",
      "\n",
      "Cycle: 560 vta iepfiteftoebafitepefapefve\n",
      "\n",
      "Cycle: 580 ctze ipr tirtnibzr tipirzpirci\n",
      "\n",
      "Cycle: 600 ph evszrvhsrhnsm rvhszsr zsrps\n",
      "\n",
      "Cycle: 620 jqshwdprwqdrqndisrwqdpdrspdrjd\n",
      "\n",
      "Cycle: 640 izkhrjnmrzjmzcjvkmrzjnjmknjmij\n",
      "\n",
      "Cycle: 660 wqpbyhntyqhtqchvptyqhnhtpnhtwh\n",
      "\n",
      "Cycle: 680 kqwhgcdigqciqbcvwigqcdciwdcikc\n",
      "\n",
      "Cycle: 700 ekidnqgwnkqwkbqviwnkqgqwigqweq\n",
      "\n",
      "Cycle: 720 hqfsakjzaqkzqnkefzaqkjkzfjkzhk\n",
      "\n",
      "Cycle: 740 widsagphaighivgedhaigpghdpghwg\n",
      "\n",
      "Cycle: 760 weyskg akegaevgnyakeg gay gawg\n",
      "\n",
      "Cycle: 780 qscbzfivzsfvsrfncvzsfifvcifvqf\n",
      "\n",
      "Cycle: 800 qdlczkiyzdkydnkflyzdkikylikyqk\n",
      "\n",
      "Cycle: 820 oubhyrigyurgunrfbgyurirgbirgor\n",
      "\n",
      "Cycle: 840  xfnjrpyjxryxorqfyjxrpryfpry r\n",
      "\n",
      "Cycle: 860 fvanjtzojvtovmtsaojvtztoaztoft\n",
      "\n",
      "Cycle: 880 fvtbprjupvruvmrwtupvrjrutjrufr\n",
      "\n",
      "Cycle: 900 fbwdpeukpbekbsehwkpbeuekwuekfe\n",
      "\n",
      "Cycle: 920 et ibcsfbtcftuch fbtcscf scfec\n",
      "\n",
      "Cycle: 940 ztxigsfngtsnteshxngtsfsnxfsnzs\n",
      "\n",
      "Cycle: 960 tqligsungqsnqkshlngqsusnlusnts\n",
      "\n",
      "Cycle: 980 thgiscbnshcnhucqgnshcbcngbcntc\n",
      "\n",
      "Cycle: 1000 wzuitjlntzjnzejvuntzjljnuljnwj\n",
      "\n",
      "Cycle: 1020 wih tjlktijkiejahktijljkhljkwj\n",
      "\n",
      "Cycle: 1040 owxvijueiwjewgjaxeiwjujexujeoj\n",
      "\n",
      "Cycle: 1060 okasizrbikzbkgzlabikzrzbarzboz\n",
      "\n",
      "Cycle: 1080 sbaxlzvolbzobgzyaolbzvzoavzosz\n",
      "\n",
      "Cycle: 1100 sbhxmzvcmbzcbdzphcmbzvzchvzcsz\n",
      "\n",
      "Cycle: 1120 abnxozvgobzgbmzlngobzvzgnvzgaz\n",
      "\n",
      "Cycle: 1140  jgpoaubojabjvalgbojauabguab a\n",
      "\n",
      "Cycle: 1160 rjadugwsujgsjvgiasujgwgsawgsrg\n",
      "\n",
      "Cycle: 1180 hszytln tsl svliz tslnl znl hl\n",
      "\n",
      "Cycle: 1200 bszmjpnhjsphsfpuzhjspnphznphbp\n",
      "\n",
      "Cycle: 1220 lvemwpkowvpovhpzeowvpkpoekpolp\n",
      "\n",
      "Cycle: 1240 eshlw iows osz dhows i ohi oe \n",
      "\n",
      "Cycle: 1260 f qdszois zi mzlqis zoziqozifz\n",
      "\n",
      "Cycle: 1280 bsyduwhvuswvsnw yvuswhwvyhwvbw\n",
      "\n",
      "Cycle: 1300 beydmwxumewuetwnyumewxwuyxwubw\n",
      "\n",
      "Cycle: 1320 sekmrwxarewaeowckarewxwakxwasw\n",
      "\n",
      "Cycle: 1340 uibgrfxdrifdiofcbdrifxfdbxfduf\n",
      "\n",
      "Cycle: 1360 bgufrnzwrgnwgdnkuwrgnznwuznwbn\n",
      "\n",
      "Cycle: 1380 rqtfuiz uqi qmipt uqizi tzi ri\n",
      "\n",
      "Cycle: 1400 cvkuyb wyvbwvjbpkwyvb bwk bwcb\n",
      "\n",
      "Cycle: 1420 dbknstmwsbtwb tfkwsbtmtwkmtwdt\n",
      "\n",
      "Cycle: 1440 eblyspjfsbpfbtpxlfsbpjpfljpfep\n",
      "\n",
      "Cycle: 1460 pvolmwjdmvwdvnwsodmvwjwdojwdpw\n",
      "\n",
      "Cycle: 1480 oixydfbtdiftinfaxtdifbftxbftof\n",
      "\n",
      "Cycle: 1500 oagkdtbhdathaytvghdatbthgbthot\n",
      "\n",
      "Cycle: 1520 rqtgyxbiyqxiqjxntiyqxbxitbxirx\n",
      "\n",
      "Cycle: 1540 qvarpbxipvbivmbtaipvbxbiaxbiqb\n",
      "\n",
      "Cycle: 1560 qwovulxruwlrwplmoruwlxlroxlrql\n",
      "\n",
      "Cycle: 1580 lhnvutjxuhtxhptmnxuhtjtxnjtxlt\n",
      "\n",
      "Cycle: 1600 gbqdrtmirbtibntpqirbtmtiqmtigt\n",
      "\n",
      "Cycle: 1620 xuqpvtfzvutzuktmqzvutftzqftzxt\n",
      "\n",
      "Cycle: 1640  qpzwyiuwqyuqkyxpuwqyiyupiyu y\n",
      "\n",
      "Cycle: 1660 qpz cibtcpitpvijztcpibitzbitqi\n",
      "\n",
      "Cycle: 1680 zps uxdoupxoptxmsoupxdxosdxozx\n",
      "\n",
      "Cycle: 1700 opyhvqnzvpqzpgqsyzvpqnqzynqzoq\n",
      "\n",
      "Cycle: 1720 ofgkjvlzjfvzfuvwgzjfvlvzglvzov\n",
      "\n",
      "Cycle: 1740 szw xvlkxzvkzqvowkxzvlvkwlvksv\n",
      "\n",
      "Cycle: 1760 mptsyvodypvdpjv tdypvovdtovdmv\n",
      "\n",
      "Cycle: 1780 ifbuvymdvfydfrywbdvfymydbmydiy\n",
      "\n",
      "Cycle: 1800 g bdvpmqv pq ipybqv pmpqbmpqgp\n",
      "\n",
      "Cycle: 1820 g ehcrulc rl qryelc rurleurlgr\n",
      "\n",
      "Cycle: 1840 i whjrulj rl vrywlj rurlwurlir\n",
      "\n",
      "Cycle: 1860 glatfoimflomlvoeamfloiomaiomgo\n",
      "\n",
      "Cycle: 1880 xmutfdajfmdjmydeujfmdadjuadjxd\n",
      "\n",
      "Cycle: 1900 fkhtgd jgkdjksdehjgkd djh djfd\n",
      "\n",
      "Cycle: 1920 a xybogjb oj uovxjb ogojxgojao\n",
      "\n",
      "Cycle: 1940 raoebugjbaujacutojbaugujogujru\n",
      "\n",
      "Cycle: 1960 dcg btnjbctjcitkgjbctntjgntjdt\n",
      "\n",
      "Cycle: 1980  cndpvqipcvicxvmnipcvqvinqvi v\n",
      "\n",
      "Cycle: 2000  kudwcqiwkciklcpuiwkcqciuqci c\n",
      "\n",
      "Cycle: 2020 pkod xqi kxikyxaoi kxqxioqxipx\n",
      "\n",
      "Cycle: 2040 vdjtubsiudbidybajiudbsbijsbivb\n",
      "\n",
      "Cycle: 2060 jdpvmysrmdyrdbyfprmdysyrpsyrjy\n",
      "\n",
      "Cycle: 2080 pe imtsumetuedtf umetstu stupt\n",
      "\n",
      "Cycle: 2100 jqpylwsulqwuq wapulqwswupswujw\n",
      "\n",
      "Cycle: 2120 rhdmltzulhtuhwtidulhtztudzturt\n",
      "\n",
      "Cycle: 2140 tqomlh ulqhuqwhsoulqh huo huth\n",
      "\n",
      "Cycle: 2160 zqdlmhtcmqhcqahsdcmqhthcdthczh\n",
      "\n",
      "Cycle: 2180 msblpqrypsqysjqgbypsqrqybrqymq\n",
      "\n",
      "Cycle: 2200 goijpcdkpockovchikpocdckidckgc\n",
      "\n",
      "Cycle: 2220 uvxelmnglvmgvjmtxglvmnmgxnmgum\n",
      "\n",
      "Cycle: 2240 v jbomlho mh nmkjho mlmhjlmhvm\n",
      "\n",
      "Cycle: 2260 vqdbcghmcqgmqngfdmcqghgmdhgmvg\n",
      "\n",
      "Cycle: 2280 vudqcolpcuopunohdpcuolopdlopvo\n",
      "\n",
      "Cycle: 2300 jkdhcrlmckrmkvrqdmckrlrmdlrmjr\n",
      "\n",
      "Cycle: 2320 rmswy hkym kmc eskym h ksh kr \n",
      "\n",
      "Cycle: 2340 hbfwqpcmqbpmbrpefmqbpcpmfcpmhp\n",
      "\n",
      "Cycle: 2360 lfbh erm femfzepbm ferembremle\n",
      "\n",
      "Cycle: 2380 yebskt lketlentjblket tlb tlyt\n",
      "\n",
      "Cycle: 2400 ysbgvh lvshlsmhkblvsh hlb hlyh\n",
      "\n",
      "Cycle: 2420 yofihl bholbomlrfbhol lbf lbyl\n",
      "\n",
      "Cycle: 2440 bdzejsrgjdsgdisvzgjdsrsgzrsgbs\n",
      "\n",
      "Cycle: 2460 vybejarljyalyhadbljyaralbralva\n",
      "\n",
      "Cycle: 2480 aykucsrlcyslyjs klcysrslkrslas\n",
      "\n",
      "Cycle: 2500 afkdrplsrfpsfypbksrfplpsklpsap\n",
      "\n",
      "Cycle: 2520 bwdsrpn rwp wvpad rwpnp dnp bp\n",
      "\n",
      "Cycle: 2540 zxiarponrxpnxjpcinrxpopniopnzp\n",
      "\n",
      "Cycle: 2560 rznuqxaiqzxiztxgniqzxaxinaxirx\n",
      "\n",
      "Cycle: 2580 bozsefakeofkotfxzkeofafkzafkbf\n",
      "\n",
      "Cycle: 2600 xmpuevakemvkmwvrpkemvavkpavkxv\n",
      "\n",
      "Cycle: 2620 qbdeoai oba brayd obaia dia qa\n",
      "\n",
      "Cycle: 2640 crvkxgd xrg rjgyv xrgdg vdg cg\n",
      "\n",
      "Cycle: 2660 qyvrxlspxylpymlkvpxylslpvslpql\n",
      "\n",
      "Cycle: 2680 iyemnfdwnyfwybfzewnyfdfwedfwif\n",
      "\n",
      "Cycle: 2700 phdmzeanzhenhvekdnzheaendaenpe\n",
      "\n",
      "Cycle: 2720 zorftenwtoewokedrwtoenewrnewze\n",
      "\n",
      "Cycle: 2740 ifz telwtfewfqerzwtfelewzlewie\n",
      "\n",
      "Cycle: 2760 mfr igljifgjfqgnrjifglgjrlgjmg\n",
      "\n",
      "Cycle: 2780 murnjghpjugpuig rpjughgprhgpmg\n",
      "\n",
      "Cycle: 2800 uxsdtbhltxblxibcsltxbhblshblub\n",
      "\n",
      "Cycle: 2820 dfp xbzuxfbufnbcpuxfbzbupzbudb\n",
      "\n",
      "Cycle: 2840 dtp xlmwxtlwtnlfpwxtlmlwpmlwdl\n",
      "\n",
      "Cycle: 2860 dfmatenwtfewfhe mwtfenewmnewde\n",
      "\n",
      "Cycle: 2880 gfuhcsnmcfsmfdsaumcfsnsmunsmgs\n",
      "\n",
      "Cycle: 2900 yiphksrakisai sxpakisrsaprsays\n",
      "\n",
      "Cycle: 2920 pc xrgvzrcgzcugh zrcgvgz vgzpg\n",
      "\n",
      "Cycle: 2940 cpxwralqrpaqpzanxqrpalaqxlaqca\n",
      "\n",
      "Cycle: 2960 uvzgrstqrvsqvesxzqrvstsqztsqus\n",
      "\n",
      "Cycle: 2980 rjogasmqajsqjdsloqajsmsqomsqrs\n",
      "\n",
      "Cycle: 3000 l rgkyatk yt cyprtk yaytraytly\n",
      "\n",
      "Cycle: 3020 ntrlswqzstwztuwprzstwqwzrqwznw\n",
      "\n",
      "Cycle: 3040 etxswbhdwtbdtubrxdwtbhbdxhbdeb\n",
      "\n",
      "Cycle: 3060 erxic bdcr drz hxdcr b dxb de \n",
      "\n",
      "Cycle: 3080 mrsiotcuorturdtqsuortctusctumt\n",
      "\n",
      "Cycle: 3100 neplqacrqearesavprqeacarpcarna\n",
      "\n",
      "Cycle: 3120 nkyxglcugklukalvyugklcluyclunl\n",
      "\n",
      "Cycle: 3140 xryzbamgbragr atygbramagymagxa\n",
      "\n",
      "Cycle: 3160 xu hrqveruqeunqz eruqvqe vqexq\n",
      "\n",
      "Cycle: 3180 dgnhrjvbrgjbgijznbrgjvjbnvjbdj\n",
      "\n",
      "Cycle: 3200 xglkbezubgeugjevlubgezeulzeuxe\n",
      "\n",
      "Cycle: 3220 xrlcavzuarvurjvqluarvzvulzvuxv\n",
      "\n",
      "Cycle: 3240 zyikfcahfychyjclihfycachiachzc\n",
      "\n",
      "Cycle: 3260 unikqxa qnx ncxli qnxax iax ux\n",
      "\n",
      "Cycle: 3280 uvcljkqajvkavtkycajvkqkacqkauk\n",
      "\n",
      "Cycle: 3300 fduzmkjimdkid kruimdkjkiujkifk\n",
      "\n",
      "Cycle: 3320 idobhgxshdgsdngqoshdgxgsoxgsig\n",
      "\n",
      "Cycle: 3340 ilxbhqovhlqvlrqexvhlqoqvxoqviq\n",
      "\n",
      "Cycle: 3360 gq bvasnvqanqrae nvqasan sanga\n",
      "\n",
      "Cycle: 3380 klmjzusrzlurlfunmrzlusurmsurku\n",
      "\n",
      "Cycle: 3400 dlmjrezwrlewlnefmwrlezewmzewde\n",
      "\n",
      "Cycle: 3420 ulsxtdqwtldwladfswtldqdwsqdwud\n",
      "\n",
      "Cycle: 3440  lwjynqeylnelinfweylnqnewqne n\n",
      "\n",
      "Cycle: 3460 flyjzxsizlxilgxqyizlxsxiysxifx\n",
      "\n",
      "Cycle: 3480 kjvtocxaojcajfczvaojcxcavxcakc\n",
      "\n",
      "Cycle: 3500 wz sfmdjfzmjzxml jfzmdmj dmjwm\n",
      "\n",
      "Cycle: 3520 kqwglmdalqmaqxmfwalqmdmawdmakm\n",
      "\n",
      "Cycle: 3540 mkwgordjokrjkarfwjokrdrjwdrjmr\n",
      "\n",
      "Cycle: 3560 kjgbwpitwjptjepfgtwjpiptgiptkp\n",
      "\n",
      "Cycle: 3580 npw kxmbkpxbpzxfwbkpxmxbwmxbnx\n",
      "\n",
      "Cycle: 3600 ypwre szep zpt kwzep s zws zy \n",
      "\n",
      "Cycle: 3620 srnclijzlrizrmiknzlrijiznjizsi\n",
      "\n",
      "Cycle: 3640 vqnilprklqpkqbphnklqprpknrpkvp\n",
      "\n",
      "Cycle: 3660 noipbdzybodyosdhiybodzdyizdynd\n",
      "\n",
      "Cycle: 3680 kuzpmboemubeu bhzemubobezobekb\n",
      "\n",
      "Cycle: 3700 suzpibfeiubeukbdzeiubfbezfbesb\n",
      "\n",
      "Cycle: 3720 swopfmnzfwmzw maozfwmnmzonmzsm\n",
      "\n",
      "Cycle: 3740 iwzepmhopwmowsmnzopwmhmozhmoim\n"
     ]
    },
    {
     "name": "stdout",
     "output_type": "stream",
     "text": [
      "\n",
      "Cycle: 3760 ieqt mco emoebmwqo emcmoqcmoim\n",
      "\n",
      "Cycle: 3780 uehyxmctxemtevmwhtxemcmthcmtum\n",
      "\n",
      "Cycle: 3800 uec fhgsfehsenhwcsfehghscghsuh\n",
      "\n",
      "Cycle: 3820 ujckorveojrejfrhceojrvrecvreur\n",
      "\n",
      "Cycle: 3840 ocikq veqc ecw hieqc v eiv eo \n",
      "\n",
      "Cycle: 3860 mxwkq ceqx exg iweqx c ewc em \n",
      "\n",
      "Cycle: 3880 omgkdsiedmsemfsxgedmsisegiseos\n",
      "\n",
      "Cycle: 3900 omgkictbimcbmncxgbimctcbgtcboc\n",
      "\n",
      "Cycle: 3920 snakcofmcnomnpoxamcnofomafomso\n",
      "\n",
      "Cycle: 3940 znbfdc vdncvnpcrbvdnc cvb cvzc\n",
      "\n",
      "Cycle: 3960 snwcdakpdnapnyavwpdnakapwkapsa\n",
      "\n",
      "Cycle: 3980 myvcdakndyanybaovndyakanvkanma\n",
      "\n",
      "Cycle: 4000 mqcudajndqanqvaecndqajancjanma\n",
      "\n",
      "Cycle: 4020 ulxiwaqywlaylgaexywlaqayxqayua\n",
      "\n",
      "Cycle: 4040 tvxiynlcyvncvbnjxcyvnlncxlnctn\n",
      "\n",
      "Cycle: 4060 bylgtdhctydcyndjlctydhdclhdcbd\n",
      "\n",
      "Cycle: 4080 bvxguk euvkevnkhxeuvk kex kebk\n",
      "\n",
      "Cycle: 4100 bozrny knoykowyhzknoy ykz ykby\n",
      "\n",
      "Cycle: 4120 fkzghuajhkujkwuezjhkuaujzaujfu\n",
      "\n",
      "Cycle: 4140 rkpuwqygwkqgkaqspgwkqyqgpyqgrq\n",
      "\n",
      "Cycle: 4160 wthpjivljtiltaidhljtivilhvilwi\n",
      "\n",
      "Cycle: 4180 fthqimvyitmytwmdhyitmvmyhvmyfm\n",
      "\n",
      "Cycle: 4200 pthiqkyfqtkftekohfqtkykfhykfpk\n",
      "\n",
      "Cycle: 4220 jgfntkydtgkdgbkofdtgkykdfykdjk\n",
      "\n",
      "Cycle: 4240 jpc vsyavpsapdstcavpsysacysajs\n",
      "\n",
      "Cycle: 4260 zpf odulopdlpidnflopdudlfudlzd\n",
      "\n",
      "Cycle: 4280 lpq vdhmvpdmpydnqmvpdhdmqhdmld\n",
      "\n",
      "Cycle: 4300 tpemnwhlnpwlpqwjelnpwhwlehwltw\n",
      "\n",
      "Cycle: 4320 tvahscfqsvcqvicjaqsvcfcqafcqtc\n",
      "\n",
      "Cycle: 4340 coarsqmnsoqnoiqfansoqmqnamqncq\n",
      "\n",
      "Cycle: 4360 cvamsrynsvrnvprfansvryrnayrncr\n",
      "\n",
      "Cycle: 4380 gdqmwroywdrydsrtqywdroryqorygr\n",
      "\n",
      "Cycle: 4400 mdp jluqjdlqdslapqjdlulqpulqml\n",
      "\n",
      "Cycle: 4420 fir dwhpdiwpiewarpdiwhwprhwpfw\n",
      "\n",
      "Cycle: 4440 f rqiykhi yh gyarhi ykyhrkyhfy\n",
      "\n",
      "Cycle: 4460 z erbyjpb yp hyaepb yjypejypzy\n",
      "\n",
      "Cycle: 4480 oae yjxpyajpahjsepyajxjpexjpoj\n",
      "\n",
      "Cycle: 4500 fjhdastnajsnj sehnajstsnhtsnfs\n",
      "\n",
      "Cycle: 4520 fhxdaeiwahewhsejxwaheiewxiewfe\n",
      "\n",
      "Cycle: 4540 fevdbupxbeuxesuyvxbeupuxvpuxfu\n",
      "\n",
      "Cycle: 4560 yevqmupbmeube ufvbmeupubvpubyu\n",
      "\n",
      "Cycle: 4580 ey rgujagyuayiuz agyujua juaeu\n",
      "\n",
      "Cycle: 4600 ia ryejgyaegahez gyaejeg jegie\n",
      "\n",
      "Cycle: 4620 pa nmerlmaelakez lmaerel relpe\n",
      "\n",
      "Cycle: 4640 prtnglhygrlyrjlctygrlhlythlypl\n",
      "\n",
      "Cycle: 4660 prohgyswgrywrjykowgrysywosywpy\n",
      "\n",
      "Cycle: 4680 vcwhoygjocyjciyxwjocygyjwgyjvy\n",
      "\n",
      "Cycle: 4700 swucmygjmwyjwtyaujmwygyjugyjsy\n",
      "\n",
      "Cycle: 4720  wuegoljgwojwtoyujgwolojuloj o\n",
      "\n",
      "Cycle: 4740 vsqeahlfashfsuhmqfashlhfqlhfvh\n",
      "\n",
      "Cycle: 4760 rmxiaukfamufmlu xfamukufxkufru\n",
      "\n",
      "Cycle: 4780 dmxibcqwbmcwmlc xwbmcqcwxqcwdc\n",
      "\n",
      "Cycle: 4800  mqhejifemjfmyjlqfemjijfqijf j\n",
      "\n",
      "Cycle: 4820  qyswmpfwqmfqxmayfwqmpmfypmf m\n",
      "\n",
      "Cycle: 4840 fkyvu pjuk jkx qyjuk p jyp jf \n",
      "\n",
      "Cycle: 4860 rveahspjhvsjvxsqejhvspsjepsjrs\n",
      "\n",
      "Cycle: 4880 bvxahtfghvtgvctuxghvtftgxftgbt\n",
      "\n",
      "Cycle: 4900 qvxkzyhwzvywvuygxwzvyhywxhywqy\n",
      "\n",
      "Cycle: 4920 vbjpxqhcxbqcbuqgjcxbqhqcjhqcvq\n",
      "\n",
      "Cycle: 4940 vnjpxqrcxnqcnlqbjcxnqrqcjrqcvq\n",
      "\n",
      "Cycle: 4960 wnzbvqatvnqtnsqmztvnqaqtzaqtwq\n",
      "\n",
      "Cycle: 4980 mif kwqvkiwviswhfvkiwqwvfqwvmw\n"
     ]
    }
   ],
   "source": [
    "n_iterations = 5000\n",
    "current_cipher = start_cipher\n",
    "likes = []\n",
    "\n",
    "for cycle in range(n_iterations):\n",
    "    prop_cipher = propose_cipher(current_cipher)\n",
    "    prop_decoded_text = decipher_string(ciphered_doc, prop_cipher)\n",
    "    \n",
    "    if cycle % 20 == 0:\n",
    "        print(\"\\nCycle:\", cycle, prop_decoded_text[:30])\n",
    "        \n",
    "    og_decoded_text = decipher_string(ciphered_doc, current_cipher)\n",
    "    \n",
    "    prop_loglike = logprob(transition_matrix, prop_decoded_text)\n",
    "    og_loglike  = logprob(transition_matrix, og_decoded_text)\n",
    "    \n",
    "    if accept_proposed_cipher(proposed_loglike=prop_loglike, original_loglike=og_loglike):\n",
    "        current_cipher = prop_cipher\n",
    "        likes += [prop_loglike]\n",
    "    else:\n",
    "        likes += [og_loglike]"
   ]
  },
  {
   "cell_type": "code",
   "execution_count": 23,
   "metadata": {},
   "outputs": [
    {
     "data": {
      "text/plain": [
       "[<matplotlib.lines.Line2D at 0x1a1ad7b1d0>]"
      ]
     },
     "execution_count": 23,
     "metadata": {},
     "output_type": "execute_result"
    },
    {
     "data": {
      "image/png": "[encoded data removed]",
      "text/plain": [
       "<Figure size 432x288 with 1 Axes>"
      ]
     },
     "metadata": {
      "needs_background": "light"
     },
     "output_type": "display_data"
    }
   ],
   "source": [
    "plt.plot(likes)"
   ]
  },
  {
   "cell_type": "code",
   "execution_count": null,
   "metadata": {},
   "outputs": [],
   "source": []
  },
  {
   "cell_type": "code",
   "execution_count": null,
   "metadata": {},
   "outputs": [],
   "source": []
  }
 ],
 "metadata": {
  "kernelspec": {
   "display_name": "Machine learning sandbox",
   "language": "python",
   "name": "data-science-environment"
  },
  "language_info": {
   "codemirror_mode": {
    "name": "ipython",
    "version": 3
   },
   "file_extension": ".py",
   "mimetype": "text/x-python",
   "name": "python",
   "nbconvert_exporter": "python",
   "pygments_lexer": "ipython3",
   "version": "3.7.6"
  }
 },
 "nbformat": 4,
 "nbformat_minor": 2
}
