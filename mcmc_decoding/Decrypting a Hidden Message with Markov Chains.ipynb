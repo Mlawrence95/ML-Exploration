{
 "cells": [
  {
   "cell_type": "code",
   "execution_count": 1,
   "metadata": {},
   "outputs": [],
   "source": [
    "import os\n",
    "import re\n",
    "\n",
    "import numpy as np\n",
    "import pandas as pd\n",
    "import matplotlib.pyplot as plt\n",
    "import seaborn as sns"
   ]
  },
  {
   "cell_type": "markdown",
   "metadata": {},
   "source": [
    "<h1> A Markov matrix (or stochastic matrix) </h1>\n",
    "\n",
    "<p> Gives the probability of reaching a set of states given a set of starting states. Here's a basic example of what such a Markov chain would look if we wanted to model the weather in the evening given the weather in the morning: </p>\n",
    "\n",
    "<img src=\"markov.png\">\n",
    "\n",
    "The starting \"state\" is listed on the left, while the column gives the final outcome. If we wanted to know the probability of Evening Sun given that it there was Morning rain, we would get 0.25 - a 25% chance of that outcome. Note that each row of this matrix is normalized, a statement that if you start in a state, there is a 100% chance that something happens. Nothing tricky here."
   ]
  },
  {
   "cell_type": "code",
   "execution_count": 2,
   "metadata": {},
   "outputs": [
    {
     "data": {
      "text/plain": [
       "27"
      ]
     },
     "execution_count": 2,
     "metadata": {},
     "output_type": "execute_result"
    }
   ],
   "source": [
    "np.random.seed(30)\n",
    "characters = list('abcdefghijklmnopqrstuvwxyz ')\n",
    "cipher     = np.random.permutation(characters)\n",
    "\n",
    "state_space = len(characters)\n",
    "state_space"
   ]
  },
  {
   "cell_type": "code",
   "execution_count": 3,
   "metadata": {
    "scrolled": true
   },
   "outputs": [],
   "source": [
    "# take jumbled code to english\n",
    "correct_map  = {code:   actual for code, actual in zip(cipher, characters)}\n",
    "# take english to jumbled code\n",
    "jumbler      = {actual: code for code, actual in correct_map.items()}\n",
    "# indices of correct english\n",
    "alpha_lookup = {letter: i for i, letter in enumerate(characters)}"
   ]
  },
  {
   "cell_type": "code",
   "execution_count": 4,
   "metadata": {},
   "outputs": [],
   "source": [
    "def clean_chapter(doc):\n",
    "    intermediate = re.sub(r'[^a-z]', ' ', doc)  \n",
    "    return re.sub(r\"\\s\\s+\", \" \", intermediate)\n",
    "\n",
    "def combine_chapters(chapters):\n",
    "    docs = [np.loadtxt(f'./moby_dick/chapter_{chap}.txt', dtype=str) for chap in chapters]\n",
    "    docs = [\" \".join(doc) for doc in docs]\n",
    "    docs = [clean_chapter(doc) for doc in docs]\n",
    "    return \" \".join(docs)"
   ]
  },
  {
   "cell_type": "markdown",
   "metadata": {},
   "source": [
    "#### The reference text is taken to be the first ~40 chapters of Moby Dick. We look to predict on chapters 50 and 60."
   ]
  },
  {
   "cell_type": "code",
   "execution_count": 5,
   "metadata": {
    "scrolled": true
   },
   "outputs": [
    {
     "data": {
      "text/plain": [
       "'chapter the hyena there are certain queer times and occasions in this strange mixed affair we call l'"
      ]
     },
     "execution_count": 5,
     "metadata": {},
     "output_type": "execute_result"
    }
   ],
   "source": [
    "train_chapters = combine_chapters(np.arange(1, 40))\n",
    "test_chapters  = combine_chapters([50, 60])\n",
    "\n",
    "test_chapters[:100]"
   ]
  },
  {
   "cell_type": "code",
   "execution_count": 6,
   "metadata": {},
   "outputs": [],
   "source": [
    "def make_cooccurrence_matrix(corpus, smooth_factor=1./state_space):\n",
    "    \"\"\"\n",
    "    Matrix of counts\n",
    "    \n",
    "    first index is starting char, \n",
    "    second is following char\n",
    "    \"\"\"\n",
    "    counts = np.zeros(shape=(state_space, state_space))\n",
    "    last = None\n",
    "    for index, char in enumerate(corpus):\n",
    "        if index == 0:\n",
    "            last = alpha_lookup[char]\n",
    "            continue\n",
    "            \n",
    "        current = alpha_lookup[char]\n",
    "        counts[last, current] += 1\n",
    "        last = current\n",
    "    \n",
    "    return counts + smooth_factor\n",
    "\n",
    "def make_transition_matrix(corpus, smooth_factor=1./state_space):\n",
    "    \"\"\"\n",
    "    Normalized cooccurrence matrix -> empirical transition matrix\n",
    "    \"\"\"\n",
    "    mx = make_cooccurrence_matrix(corpus, smooth_factor)\n",
    "    total_ocs = np.sum(mx, axis=1).reshape(-1, 1)\n",
    "    return mx / total_ocs"
   ]
  },
  {
   "cell_type": "code",
   "execution_count": 7,
   "metadata": {},
   "outputs": [],
   "source": [
    "transition_matrix = make_transition_matrix(train_chapters)"
   ]
  },
  {
   "cell_type": "markdown",
   "metadata": {},
   "source": [
    "#### This is what the reference transition matrix, T, looks like.\n"
   ]
  },
  {
   "cell_type": "code",
   "execution_count": 8,
   "metadata": {},
   "outputs": [
    {
     "data": {
      "text/html": [
       "<div>\n",
       "<style scoped>\n",
       "    .dataframe tbody tr th:only-of-type {\n",
       "        vertical-align: middle;\n",
       "    }\n",
       "\n",
       "    .dataframe tbody tr th {\n",
       "        vertical-align: top;\n",
       "    }\n",
       "\n",
       "    .dataframe thead th {\n",
       "        text-align: right;\n",
       "    }\n",
       "</style>\n",
       "<table border=\"1\" class=\"dataframe\">\n",
       "  <thead>\n",
       "    <tr style=\"text-align: right;\">\n",
       "      <th></th>\n",
       "      <th>a</th>\n",
       "      <th>b</th>\n",
       "      <th>c</th>\n",
       "      <th>d</th>\n",
       "      <th>e</th>\n",
       "      <th>f</th>\n",
       "      <th>g</th>\n",
       "      <th>h</th>\n",
       "      <th>i</th>\n",
       "      <th>j</th>\n",
       "      <th>...</th>\n",
       "      <th>r</th>\n",
       "      <th>s</th>\n",
       "      <th>t</th>\n",
       "      <th>u</th>\n",
       "      <th>v</th>\n",
       "      <th>w</th>\n",
       "      <th>x</th>\n",
       "      <th>y</th>\n",
       "      <th>z</th>\n",
       "      <th></th>\n",
       "    </tr>\n",
       "  </thead>\n",
       "  <tbody>\n",
       "    <tr>\n",
       "      <th>a</th>\n",
       "      <td>0.000090</td>\n",
       "      <td>0.028496</td>\n",
       "      <td>0.029420</td>\n",
       "      <td>0.038434</td>\n",
       "      <td>0.000617</td>\n",
       "      <td>0.007961</td>\n",
       "      <td>0.020933</td>\n",
       "      <td>0.009984</td>\n",
       "      <td>0.045734</td>\n",
       "      <td>0.000221</td>\n",
       "      <td>...</td>\n",
       "      <td>0.097007</td>\n",
       "      <td>0.089663</td>\n",
       "      <td>0.126337</td>\n",
       "      <td>0.006774</td>\n",
       "      <td>0.022780</td>\n",
       "      <td>0.009016</td>\n",
       "      <td>0.000485</td>\n",
       "      <td>0.027705</td>\n",
       "      <td>0.002420</td>\n",
       "      <td>0.081616</td>\n",
       "    </tr>\n",
       "    <tr>\n",
       "      <th>b</th>\n",
       "      <td>0.065578</td>\n",
       "      <td>0.018742</td>\n",
       "      <td>0.000008</td>\n",
       "      <td>0.000424</td>\n",
       "      <td>0.267493</td>\n",
       "      <td>0.000008</td>\n",
       "      <td>0.000008</td>\n",
       "      <td>0.000008</td>\n",
       "      <td>0.051840</td>\n",
       "      <td>0.003546</td>\n",
       "      <td>...</td>\n",
       "      <td>0.052464</td>\n",
       "      <td>0.016036</td>\n",
       "      <td>0.006669</td>\n",
       "      <td>0.158209</td>\n",
       "      <td>0.001049</td>\n",
       "      <td>0.000008</td>\n",
       "      <td>0.000008</td>\n",
       "      <td>0.068076</td>\n",
       "      <td>0.000008</td>\n",
       "      <td>0.040599</td>\n",
       "    </tr>\n",
       "    <tr>\n",
       "      <th>c</th>\n",
       "      <td>0.145010</td>\n",
       "      <td>0.000006</td>\n",
       "      <td>0.015508</td>\n",
       "      <td>0.000006</td>\n",
       "      <td>0.155659</td>\n",
       "      <td>0.000006</td>\n",
       "      <td>0.000006</td>\n",
       "      <td>0.168813</td>\n",
       "      <td>0.046984</td>\n",
       "      <td>0.000006</td>\n",
       "      <td>...</td>\n",
       "      <td>0.046827</td>\n",
       "      <td>0.001102</td>\n",
       "      <td>0.049802</td>\n",
       "      <td>0.030541</td>\n",
       "      <td>0.000006</td>\n",
       "      <td>0.000006</td>\n",
       "      <td>0.000006</td>\n",
       "      <td>0.005330</td>\n",
       "      <td>0.000789</td>\n",
       "      <td>0.017857</td>\n",
       "    </tr>\n",
       "    <tr>\n",
       "      <th>d</th>\n",
       "      <td>0.027830</td>\n",
       "      <td>0.000003</td>\n",
       "      <td>0.000092</td>\n",
       "      <td>0.009160</td>\n",
       "      <td>0.122781</td>\n",
       "      <td>0.003559</td>\n",
       "      <td>0.003559</td>\n",
       "      <td>0.000270</td>\n",
       "      <td>0.066059</td>\n",
       "      <td>0.000359</td>\n",
       "      <td>...</td>\n",
       "      <td>0.017695</td>\n",
       "      <td>0.031209</td>\n",
       "      <td>0.000270</td>\n",
       "      <td>0.009427</td>\n",
       "      <td>0.002226</td>\n",
       "      <td>0.000981</td>\n",
       "      <td>0.000003</td>\n",
       "      <td>0.009072</td>\n",
       "      <td>0.000003</td>\n",
       "      <td>0.624470</td>\n",
       "    </tr>\n",
       "    <tr>\n",
       "      <th>e</th>\n",
       "      <td>0.052742</td>\n",
       "      <td>0.001399</td>\n",
       "      <td>0.014904</td>\n",
       "      <td>0.079098</td>\n",
       "      <td>0.045216</td>\n",
       "      <td>0.007854</td>\n",
       "      <td>0.013357</td>\n",
       "      <td>0.002649</td>\n",
       "      <td>0.010948</td>\n",
       "      <td>0.000239</td>\n",
       "      <td>...</td>\n",
       "      <td>0.129102</td>\n",
       "      <td>0.068984</td>\n",
       "      <td>0.029837</td>\n",
       "      <td>0.000715</td>\n",
       "      <td>0.016689</td>\n",
       "      <td>0.006664</td>\n",
       "      <td>0.005980</td>\n",
       "      <td>0.010353</td>\n",
       "      <td>0.000239</td>\n",
       "      <td>0.354435</td>\n",
       "    </tr>\n",
       "  </tbody>\n",
       "</table>\n",
       "<p>5 rows × 27 columns</p>\n",
       "</div>"
      ],
      "text/plain": [
       "          a         b         c         d         e         f         g  \\\n",
       "a  0.000090  0.028496  0.029420  0.038434  0.000617  0.007961  0.020933   \n",
       "b  0.065578  0.018742  0.000008  0.000424  0.267493  0.000008  0.000008   \n",
       "c  0.145010  0.000006  0.015508  0.000006  0.155659  0.000006  0.000006   \n",
       "d  0.027830  0.000003  0.000092  0.009160  0.122781  0.003559  0.003559   \n",
       "e  0.052742  0.001399  0.014904  0.079098  0.045216  0.007854  0.013357   \n",
       "\n",
       "          h         i         j  ...         r         s         t         u  \\\n",
       "a  0.009984  0.045734  0.000221  ...  0.097007  0.089663  0.126337  0.006774   \n",
       "b  0.000008  0.051840  0.003546  ...  0.052464  0.016036  0.006669  0.158209   \n",
       "c  0.168813  0.046984  0.000006  ...  0.046827  0.001102  0.049802  0.030541   \n",
       "d  0.000270  0.066059  0.000359  ...  0.017695  0.031209  0.000270  0.009427   \n",
       "e  0.002649  0.010948  0.000239  ...  0.129102  0.068984  0.029837  0.000715   \n",
       "\n",
       "          v         w         x         y         z            \n",
       "a  0.022780  0.009016  0.000485  0.027705  0.002420  0.081616  \n",
       "b  0.001049  0.000008  0.000008  0.068076  0.000008  0.040599  \n",
       "c  0.000006  0.000006  0.000006  0.005330  0.000789  0.017857  \n",
       "d  0.002226  0.000981  0.000003  0.009072  0.000003  0.624470  \n",
       "e  0.016689  0.006664  0.005980  0.010353  0.000239  0.354435  \n",
       "\n",
       "[5 rows x 27 columns]"
      ]
     },
     "execution_count": 8,
     "metadata": {},
     "output_type": "execute_result"
    }
   ],
   "source": [
    "transition_df = pd.DataFrame(transition_matrix)\n",
    "transition_df.columns = characters\n",
    "transition_df.index   = characters\n",
    "assert np.all(np.isclose(transition_df.sum(axis=1), 1.0)), \"transition matrix should be normalized by row\"\n",
    "transition_df.head()"
   ]
  },
  {
   "cell_type": "code",
   "execution_count": 9,
   "metadata": {},
   "outputs": [
    {
     "data": {
      "text/plain": [
       "(0.028496417793282488, 0.02849604221635884)"
      ]
     },
     "execution_count": 9,
     "metadata": {},
     "output_type": "execute_result"
    }
   ],
   "source": [
    "# these should be about the same (up to a smoothing factor)\n",
    "# this is the fraction of times 'b' follows 'a'\n",
    "transition_matrix[0, 1], train_chapters.count('ab') / train_chapters.count('a')"
   ]
  },
  {
   "cell_type": "markdown",
   "metadata": {},
   "source": [
    "# Metropolis Step\n",
    "\n",
    "The acceptance probability of a proposed cipher can be calculated as:\n",
    "\n",
    "$$\n",
    "\\begin{align}\n",
    "P(accept)\\ =\\ min(1, \\frac{\\pi(x^*)Q(x -> x^*)}{\\pi(x)Q(x* -> x)} )\n",
    "\\end{align}\n",
    "$$\n",
    "\n",
    "In our case, the proposed cipher is generated by randomly swapping two characters in the cipher. This means that the odds of proposing a cipher are symmetric, so the ratio of Qs is just 1. This means that the probability of accepting a cipher is,\n",
    "\n",
    "$$\n",
    "\\begin{align}\n",
    "P(accept)\\ =\\ min(1, \\frac{\\pi(x^*)}{\\pi(x)} )\n",
    "\\end{align}\n",
    "$$\n",
    "\n",
    "Where $\\pi(x)$ indicates the probability of observation `x` under the target distribution using its respective cipher. We take the target distribution to be the empirical transition matrix of some reference text, which we call `T`. This means that the log-likelihood of a deciphered observation under the target distribution is approximately,\n",
    "\n",
    "$$\n",
    "\\begin{align}\n",
    "LL(x) \\approx \\sum_{i=1}^{len(x)} T[word_{i - 1}, word_{i}]\n",
    "\\end{align}\n",
    "$$\n",
    "\n",
    "This is only approximate because it ignores the probability of the first character, but the advantage is that the likelihood can be efficiently calculated with a our cooccurence matrix. The overall likelihood is simply the sum of the log transition matrix multiplied by the cooccurrence (count) matrix."
   ]
  },
  {
   "cell_type": "code",
   "execution_count": 10,
   "metadata": {},
   "outputs": [],
   "source": [
    "def logprob(train_transition_matrix, observation):\n",
    "    observed_counts = make_cooccurrence_matrix(observation, smooth_factor=0)\n",
    "    i, j = np.where(observed_counts > 0)\n",
    "    return np.sum(np.log(train_transition_matrix[i, j]) * observed_counts[i, j])"
   ]
  },
  {
   "cell_type": "code",
   "execution_count": 11,
   "metadata": {
    "scrolled": true
   },
   "outputs": [
    {
     "data": {
      "text/plain": [
       "(-782418.2145711083, -23044.78347109547)"
      ]
     },
     "execution_count": 11,
     "metadata": {},
     "output_type": "execute_result"
    }
   ],
   "source": [
    "logprob(transition_matrix, train_chapters), logprob(transition_matrix, test_chapters)"
   ]
  },
  {
   "cell_type": "code",
   "execution_count": 12,
   "metadata": {},
   "outputs": [],
   "source": [
    "def decipher_string(ciphered_string, decoder):\n",
    "    \"\"\"\n",
    "    Decode a ciphered text.\n",
    "    \n",
    "    Decoder: dict mapping {ciphered char: unciphered char}\n",
    "    \"\"\"\n",
    "    new_str = ''\n",
    "    \n",
    "    for char in ciphered_string:\n",
    "        new_str += decoder[char]\n",
    "        \n",
    "    return new_str\n",
    "\n",
    "def cipher_message(unciphered_string, encoder):\n",
    "    return decipher_string(unciphered_string, encoder)"
   ]
  },
  {
   "cell_type": "code",
   "execution_count": 13,
   "metadata": {},
   "outputs": [],
   "source": [
    "def propose_cipher(original_cipher):\n",
    "    \"\"\"\n",
    "    Swap two elements of the cipher at random\n",
    "    \n",
    "    Since this is done uniformly over letters, \n",
    "    the acceptance probability is easy to calculate \n",
    "    \"\"\"\n",
    "    new_cipher = original_cipher.copy()\n",
    "    char1, char2 = np.random.choice(characters, size=2, replace=False)\n",
    "    \n",
    "    char1_val = original_cipher[char1]\n",
    "    char2_val = original_cipher[char2]\n",
    "    \n",
    "    new_cipher[char1] = char2_val\n",
    "    new_cipher[char2] = char1_val\n",
    "    \n",
    "    return new_cipher"
   ]
  },
  {
   "cell_type": "code",
   "execution_count": 14,
   "metadata": {},
   "outputs": [],
   "source": [
    "start_cipher = {ciph: actual for actual, ciph in \n",
    "                zip(np.random.choice(characters, size=27, replace=False), np.random.choice(characters, size=state_space, replace=False))}\n",
    "ciphered_doc = cipher_message(test_chapters, start_cipher)"
   ]
  },
  {
   "cell_type": "code",
   "execution_count": 15,
   "metadata": {},
   "outputs": [
    {
     "name": "stdout",
     "output_type": "stream",
     "text": [
      "We want to recover:\n",
      "-> chapter the hyena there are certain queer times and occasions in this strange mixed affair we call l ...\n",
      "\n",
      "From the jumbled text:\n",
      "-> sthrlqpgltqgtxqkhgltqpqghpqgsqplhwkgceqqpglwzq ghkmgassh wak gwkgltw g lphkdqgzwuqmghoohwpgiqgshbbgb ...\n"
     ]
    }
   ],
   "source": [
    "print('We want to recover:\\n->',      test_chapters[:100], '...')\n",
    "print('\\nFrom the jumbled text:\\n->', ciphered_doc[:100],  '...')"
   ]
  },
  {
   "cell_type": "code",
   "execution_count": 16,
   "metadata": {},
   "outputs": [],
   "source": [
    "def accept_proposed_cipher(proposed_loglike, original_loglike):\n",
    "    prob_ratio = np.exp(proposed_loglike - original_loglike)\n",
    "    uniform_random = np.random.random()\n",
    "    \n",
    "    return prob_ratio > uniform_random"
   ]
  },
  {
   "cell_type": "code",
   "execution_count": 17,
   "metadata": {
    "scrolled": true
   },
   "outputs": [
    {
     "name": "stdout",
     "output_type": "stream",
     "text": [
      "\n",
      "Cycle 0:  ltpbcrdblcdlucvtdblcrcdtrcd crbtivdsqccrdbifcgdtvzdy  tgiyvgdivdbligdgbrtvmcdfieczdtaatirdwcd thhdh\n"
     ]
    },
    {
     "name": "stderr",
     "output_type": "stream",
     "text": [
      "/anaconda2/envs/dsm_env/lib/python3.7/site-packages/ipykernel_launcher.py:2: RuntimeWarning: overflow encountered in exp\n",
      "  \n"
     ]
    },
    {
     "name": "stdout",
     "output_type": "stream",
     "text": [
      "\n",
      "Cycle 50: tc fqiruqciucdih uqciriu riutirq ahunoiiruqabilu hzuytt layhluahuqcalulqr hmiubagizu pp arujiut ssus\n",
      "\n",
      "Cycle 100: nrefuic uri rhipe urici eci nicueap toiic uazil epb ynnelaypl ap ural lucepmi zakib eddeac ji ness s\n",
      "\n",
      "Cycle 150: nwabtir twi wkipa twiri ari nirtaep moiir tezis apf ynnaseyps ep twes strapui zevif addaer hi nall l\n",
      "\n",
      "Cycle 200: dwabtir twi wkina twiri ari dirtaen uoiir tezis anf yddaseyns en twes stranji zexif appaer hi dall l\n",
      "\n",
      "Cycle 250: dyabtir tyi yfioa tyiri ari dirtaeo wniir temis aok uddaseuos eo tyes straogi mexik appaer hi dall l\n",
      "\n",
      "Cycle 300: kwabtir twi wfina twiri ari kirtaen zoiir temis and ukkaseuns en twes strangi meqid appaer hi kall l\n",
      "\n",
      "Cycle 350: fwabtir twi wkina twiri ari firtaen zuiir temis and xffasexns en twes strangi meoid appaer hi fall l\n",
      "\n",
      "Cycle 400: ph btirathiahkin athiria riapirt enaquiiratemisa ndaopp seonsaenathesastr ngiamexida ff erawiap llal\n",
      "\n",
      "Cycle 450: pjabter tje jkena tjere are pertain queer times and oppasions in tjis strange mixed affair we pall l\n",
      "\n",
      "Cycle 500: phabter the hkena there are pertain queer times and oppasions in this strange mixed affair ce pall l\n",
      "\n",
      "Cycle 550: phabtdr thd hkdna thdrd ard pdrtain quddr timds ane oppasions in this strangd mixde affair wd pall l\n",
      "\n",
      "Cycle 600: phabtex the hkena thexe axe pextain queex times and oppasions in this stxange mired affaix we pall l\n",
      "\n",
      "Cycle 650: phabter the hkena there are pertain mueer tiqes and oppasions in this strange qixed affair we pall l\n",
      "\n",
      "Cycle 700: phwbter the hkenw there wre pertwin queer times wnd oppwsions in this strwnge mixed wffwir ae pwll l\n",
      "\n",
      "Cycle 750: phabter the hkena there are pertain queer times and oppasions in this stranze mixed affair we pall l\n",
      "\n",
      "Cycle 800: pzabter tze zkena tzere are pertain queer times and oppasions in tzis strange mixed affair we pall l\n",
      "\n",
      "Cycle 850: puabter tue ukena tuere are pertain qheer times and oppasions in tuis strange mixed affair we pall l\n",
      "\n",
      "Cycle 900: phabtwr thw hkwna thwrw arw pwrtain quwwr timws and oppasions in this strangw mixwd affair ew pall l\n",
      "\n",
      "Cycle 950: chabter the hkena there are certain queer times and occasions in this strange mixed affair we call l\n",
      "\n",
      "Cycle 1000: vhabter the hyena there are vertain queer times and ovvasions in this strange mixed affair we vall l\n",
      "\n",
      "Cycle 1050: chnpter the hyean there nre certnia queer times nad occnsioas ia this strnage mixed nffnir we cnll l\n",
      "\n",
      "Cycle 1100: chapter the hyena there are certain queer times and occasions in this strange mixed affair we cazz z\n",
      "\n",
      "Cycle 1150: cheptar tha hyane thara era cartein quaar timas end occesions in this strenga mixad effeir wa cell l\n",
      "\n",
      "Cycle 1200: mhapter the hyena there are mertain queer tices and ommasions in this strange cixed affair we mall l\n",
      "\n",
      "Cycle 1250: ctapher hte tyena htere are cerhain queer himes and occasions in htis shrange mixed affair we call l\n",
      "\n",
      "Cycle 1300: chapter the hyena there are certaqn iueer tqmes and occasqons qn thqs strange mqxed affaqr we call l\n",
      "\n",
      "Cycle 1350: chapter the hyena there are certain queer timef and occafionf in thif ftrange mixed assair we call l\n",
      "\n",
      "Cycle 1400: chapter the hyena there are certain queer times and occasions in this strange mixed affair we call l\n",
      "\n",
      "Cycle 1450: chapter the hyexa there are certaix queer times axd occasioxs ix this straxge mined affair we call l\n",
      "\n",
      "Cycle 1500: chaptergtheghyenagtheregaregcertaingqueergtimesgandgoccasionsgingthisgstran egmixedgaffairgwegcallgl\n",
      "\n",
      "Cycle 1550: chapder dhe hyena dhere are cerdain queer dimes ant occasions in dhis sdrange mixet affair we call l\n",
      "\n",
      "Cycle 1600: chqpter the hyenq there qre certqin aueer times qnd occqsions in this strqnge mixed qffqir we cqll l\n",
      "\n",
      "Cycle 1650: chapter the hyena there are certain qxeer times and occasions in this strange miued affair we call l\n",
      "\n",
      "Cycle 1700: chaptsr ths hysna thsrs ars csrtain qussr timse and occaeione in thie etrangs mixsd affair ws call l\n",
      "\n",
      "Cycle 1750: chaqter the hyena there are certain pueer times and occasions in this strange mixed affair we call l\n",
      "\n",
      "Cycle 1800: chapter the hyena there are certain queer timed ans occadiond in thid dtrange mixes affair we call l\n",
      "\n",
      "Cycle 1850: chapter the hyena there are certazn queer tzmes and occaszons zn thzs strange mzxed affazr we call l\n",
      "\n",
      "Cycle 1900: yhapter the hcena there are yertain queer times and oyyasions in this strange mixed affair we yall l\n",
      "\n",
      "Cycle 1950: chnpter the hyean there nre certnia queer times nad occnsioas ia this strnage mixed nffnir we cnll l\n",
      "\n",
      "Cycle 2000: chapter the hyena there are certain queer times and occasions in this stranje mixed affair we call l\n",
      "\n",
      "Cycle 2050: chapter the hyena there are certajn queer tjmes and occasjons jn thjs strange mjxed affajr we call l\n",
      "\n",
      "Cycle 2100: chawter the hyena there are certain queer times and occasions in this strange mixed affair pe call l\n",
      "\n",
      "Cycle 2150: chapter the hyena there are certain queer times and occasions in this strange mixed awwair fe call l\n",
      "\n",
      "Cycle 2200: chapteo the hyena theoe aoe ceotain queeo times and rccasirns in this stoange mixed affaio we call l\n",
      "\n",
      "Cycle 2250: chwpter the hyenw there wre certwin queer times wnd occwsions in this strwnge mixed wffwir ae cwll l\n",
      "\n",
      "Cycle 2300: chapterdthedhyenadtheredaredcertaindqueerdtimesdan doccasionsdindthisdstrangedmixe daffairdwedcalldl\n",
      "\n",
      "Cycle 2350: chapter the hyena there are certain queer times and bccasibns in this strange mixed affair we call l\n",
      "\n",
      "Cycle 2400: chapter the hyena there are certain queer times and occasions in this strange mijed affair we call l\n",
      "\n",
      "Cycle 2450: chapber bhe hyena bhere are cerbain queer bimes and occasions in bhis sbrange mixed affair we call l\n",
      "\n",
      " Final Cycle: chapter the hyena there are certain queer times and occasions in this strange mixed affair we call l\n"
     ]
    }
   ],
   "source": [
    "n_iterations = 2500\n",
    "current_cipher = start_cipher\n",
    "likes = []\n",
    "\n",
    "for cycle in range(n_iterations):\n",
    "    \"\"\"\n",
    "    MCMC steps:\n",
    "\n",
    "    1) pick random cipher\n",
    "    \n",
    "    Until convergence/n iterations:\n",
    "        2) decode text\n",
    "        3) calculate log likelihood\n",
    "        4) use MH criterion to decide whether to keep new cipher\n",
    "        \n",
    "    \"\"\"\n",
    "    prop_cipher = propose_cipher(current_cipher)\n",
    "    prop_decoded_text = decipher_string(ciphered_doc, prop_cipher)\n",
    "    \n",
    "    if cycle % 50 == 0:\n",
    "        print(f\"\\nCycle {cycle}:\", prop_decoded_text[:100])\n",
    "        \n",
    "    og_decoded_text = decipher_string(ciphered_doc, current_cipher)\n",
    "    \n",
    "    prop_loglike = logprob(transition_matrix, prop_decoded_text)\n",
    "    og_loglike   = logprob(transition_matrix, og_decoded_text)\n",
    "    \n",
    "    if accept_proposed_cipher(proposed_loglike=prop_loglike, original_loglike=og_loglike):\n",
    "        current_cipher = prop_cipher\n",
    "        likes += [prop_loglike]\n",
    "    else:\n",
    "        likes += [og_loglike]\n",
    "\n",
    "print(f\"\\n Final Cycle:\", prop_decoded_text[:100])"
   ]
  },
  {
   "cell_type": "code",
   "execution_count": 18,
   "metadata": {
    "scrolled": true
   },
   "outputs": [
    {
     "data": {
      "text/plain": [
       "'chapter the hyena there are certain queer times and occasions in this strange mixed affair we call life when a man takes this whole universe for a vast practical joke though the wit thereof he but dimly discerns and more than suspects that the joke is at nobody s expense but his own however nothing dispirits and nothing seems worth while disputing he bolts down all events all creeds and beliefs and persuasions all hard things visible and invisible never mind how knobby as an ostrich of potent digestion gobbles down bullets and gun flints and as for small difficulties and worryings prospects of sudden disaster peril of life and limb all these and death itself seem to him only sly good natured hits and jolly punches in the side bestowed by the unseen and unaccountable old joker that odd sort of wayward mood i am speaking of comes over a man only in some time of extreme tribulation it comes in the very midst of his earnestness so that what just before might have seemed to him a thing most momentous now seems but a part of the general joke there is nothing like the perils of whaling to breed this free and easy sort of genial desperado philosophy and with it i now regarded this whole voyage of the pequod and the great white whale its object queequeg said i when they had dragged me the last man to the deck and i was still shaking myself in my jacket to fling off the water queequeg my fine friend does this sort of thing often happen without much emotion though soaked through just like me he gave me to understand that such things did often happen mr stubb said i turning to that worthy who buttoned up in his oil jacket was now calmly smoking his pipe in the rain mr stubb i think i have heard you say that of all whalemen you ever met our chief mate mr starbuck is by far the most careful and prudent i suppose then that going plump on a flying whale with your sail set in a foggy squall is the height of a whaleman s discretion certain i ve lowered for whales from a leaking ship in a gale off cape horn mr flask said i turning to little king post who was standing close by you are experienced in these things and i am not will you tell me whether it is an unalterable law in this fishery mr flask for an oarsman to break his own back pulling himself back foremost into death s jaws can t you twist that smaller said flask yes that s the law i should like to see a boat s crew backing water up to a whale face foremost ha ha the whale would give them squint for squint mind that here then from three impartial witnesses i had a deliberate statement of the entire case considering therefore that squalls and capsizings in the water and consequent bivouacks on the deep were matters of common occurrence in this kind of life considering that at the superlatively critical instant of going on to the whale i must resign my life into the hands of him who steered the boat oftentimes a fellow who at that very moment is in his impetuousness upon the point of scuttling the craft with his own frantic stampings considering that the particular disaster to our own particular boat was chiefly to be imputed to starbuck s driving on to his whale almost in the teeth of a squall and considering that starbuck notwithstanding was famous for his great heedfulness in the fishery considering that i belonged to this uncommonly prudent starbuck s boat and finally considering in what a devil s chase i was implicated touching the white whale taking all things together i say i thought i might as well go below and make a rough draft of my will queequeg said i come along you shall be my lawyer executor and legatee it may seem strange that of all men sailors should be tinkering at their last wills and testaments but there are no people in the world more fond of that diversion this was the fourth time in my nautical life that i had done the same thing after the ceremony was concluded upon the present occasion i felt all the easier a stone was rolled away from my heart besides all the days i should now live would be as good as the days that lazarus lived after his resurrection a supplementary clean gain of so many months or weeks as the case might be i survived myself my death and burial were locked up in my chest i looked round me tranquilly and contentedly like a quiet ghost with a clean conscience sitting inside the bars of a snug family vault now then thought i unconsciously rolling up the sleeves of my frock here goes for a cool collected dive at death and destruction and the devil fetch the hindmost chapter of whales in paint in teeth in wood in sheet iron in stone in mountains in stars on tower hill as you go down to the london docks you may have seen a crippled beggar or kedger as the sailors say holding a painted board before him representing the tragic scene in which he lost his leg there are three whales and three boats and one of the boats presumed to contain the missing leg in all its original integrity is being crunched by the jaws of the foremost whale any time these ten years they tell me has that man held up that picture and exhibited that stump to an incredulous world but the time of his justification has now come his three whales are as good whales as were ever published in wapping at any rate and his stump as unquestionable a stump as any you will find in the western clearings but though for ever mounted on that stump never a stump speech does the poor whaleman make but with downcast eyes stands ruefully contemplating his own amputation throughout the pacific and also in nantucket and new bedford and sag harbor you will come across lively sketches of whales and whaling scenes graven by the fishermen themselves on sperm whale teeth or ladies busks wrought out of the right whale bone and other like skrimshander articles as the whalemen call the numerous little ingenious contrivances they elaborately carve out of the rough material in their hours of ocean leisure some of them have little boxes of dentistical looking implements specially intended for the skrimshandering business but in general they toil with their jack knives alone and with that almost omnipotent tool of the sailor they will turn you out anything you please in the way of a mariner s fancy long exile from christendom and civilization inevitably restores a man to that condition in which god placed him i e what is called savagery your true whale hunter is as much a savage as an iroquois i myself am a savage owning no allegiance but to the king of the cannibals and ready at any moment to rebel against him now one of the peculiar characteristics of the savage in his domestic hours is his wonderful patience of industry an ancient hawaiian war club or spear paddle in its full multiplicity and elaboration of carving is as great a trophy of human perseverance as a latin lexicon for with but a bit of broken sea shell or a shark s tooth that miraculous intricacy of wooden net work has been achieved and it has cost steady years of steady application as with the hawaiian savage so with the white sailor savage with the same marvellous patience and with the same single shark s tooth of his one poor jack knife he will carve you a bit of bone sculpture not quite as workmanlike but as close packed in its maziness of design as the greek savage achilles s shield and full of barbaric spirit and suggestiveness as the prints of that fine old dutch savage albert durer wooden whales or whales cut in profile out of the small dark slabs of the noble south sea war wood are frequently met with in the forecastles of american whalers some of them are done with much accuracy at some old gable roofed country houses you will see brass whales hung by the tail for knockers to the road side door when the porter is sleepy the anvil headed whale would be best but these knocking whales are seldom remarkable as faithful essays on the spires of some old fashioned churches you will see sheet iron whales placed there for weather cocks but they are so elevated and besides that are to all intents and purposes so labelled with hands off you cannot examine them closely enough to decide upon their merit in bony ribby regions of the earth where at the base of high broken cliffs masses of rock lie strewn in fantastic groupings upon the plain you will often discover images as of the petrified forms of the leviathan partly merged in grass which of a windy day breaks against them in a surf of green surges then again in mountainous countries where the traveller is continually girdled by amphitheatrical heights here and there from some lucky point of view you will catch passing glimpses of the profiles of whales defined along the undulating ridges but you must be a thorough whaleman to see these sights and not only that but if you wish to return to such a sight again you must be sure and take the exact intersecting latitude and longitude of your first stand point else so chance like are such observations of the hills that your precise previous stand point would require a laborious re discovery like the soloma islands which still remain incognita though once high ruffed mendanna trod them and old figuera chronicled them nor when expandingly lifted by your subject can you fail to trace out great whales in the starry heavens and boats in pursuit of them as when long filled with thoughts of war the eastern nations saw armies locked in battle among the clouds thus at the north have i chased leviathan round and round the pole with the revolutions of the bright points that first defined him to me and beneath the effulgent antarctic skies i have boarded the argo navis and joined the chase against the starry cetus far beyond the utmost stretch of hydrus and the flying fish with a frigate s anchors for my bridle bitts and fasces of harpoons for spurs would i could mount that whale and leap the topmost skies to see whether the fabled heavens with all their countless tents really lie encamped beyond my mortal sight'"
      ]
     },
     "execution_count": 18,
     "metadata": {},
     "output_type": "execute_result"
    }
   ],
   "source": [
    "decipher_string(ciphered_doc, current_cipher)"
   ]
  },
  {
   "cell_type": "code",
   "execution_count": 19,
   "metadata": {},
   "outputs": [
    {
     "name": "stdout",
     "output_type": "stream",
     "text": [
      "\n",
      "Actual doc:\n",
      " chapter the hyena there are certain queer times and occasions in this strange mixed affair we call l\n",
      "\n",
      "Ciphered doc:\n",
      " sthrlqpgltqgtxqkhgltqpqghpqgsqplhwkgceqqpglwzq ghkmgassh wak gwkgltw g lphkdqgzwuqmghoohwpgiqgshbbgb\n"
     ]
    }
   ],
   "source": [
    "print('\\nActual doc:\\n', test_chapters[:100])\n",
    "print('\\nCiphered doc:\\n', ciphered_doc[:100])"
   ]
  },
  {
   "cell_type": "code",
   "execution_count": 20,
   "metadata": {},
   "outputs": [
    {
     "data": {
      "image/png": "[encoded data removed]",
      "text/plain": [
       "<Figure size 576x432 with 1 Axes>"
      ]
     },
     "metadata": {
      "needs_background": "light"
     },
     "output_type": "display_data"
    }
   ],
   "source": [
    "actual_loglike = logprob(transition_matrix, test_chapters)\n",
    "\n",
    "plt.figure(figsize=(8, 6))\n",
    "plt.plot(likes)\n",
    "plt.hlines(actual_loglike, 0, n_iterations, label='unciphered likelihood')\n",
    "plt.xlabel('Iteration')\n",
    "plt.ylabel('Log Likelihood')\n",
    "plt.legend(loc=[1, 0.95]);"
   ]
  },
  {
   "cell_type": "code",
   "execution_count": 21,
   "metadata": {},
   "outputs": [
    {
     "data": {
      "image/png": "[encoded data removed]",
      "text/plain": [
       "<Figure size 1296x720 with 6 Axes>"
      ]
     },
     "metadata": {
      "needs_background": "light"
     },
     "output_type": "display_data"
    }
   ],
   "source": [
    "f, axes = plt.subplots(2, 2, figsize=(18, 10), sharex=True, sharey=True)\n",
    "\n",
    "cipher_axes   = (0, 0)\n",
    "target_axes   = (0, 1)\n",
    "solution_axes = (1, 1) \n",
    "\n",
    "# target\n",
    "sns.heatmap(transition_matrix, ax=axes[target_axes])\n",
    "# solution\n",
    "sns.heatmap(make_transition_matrix(corpus=decipher_string(ciphered_doc, current_cipher)), ax=axes[solution_axes])\n",
    "# Ciphered\n",
    "sns.heatmap(make_transition_matrix(corpus=ciphered_doc), ax=axes[cipher_axes])\n",
    "\n",
    "axes[target_axes].set_title('Target Transition Matrix')\n",
    "axes[solution_axes].set_title('MCMC Solution Cipher');\n",
    "axes[cipher_axes].set_title('Ciphered Text')\n",
    "\n",
    "axes[1,0].remove()"
   ]
  }
 ],
 "metadata": {
  "kernelspec": {
   "display_name": "dsm_env",
   "language": "python",
   "name": "dsm_env"
  },
  "language_info": {
   "codemirror_mode": {
    "name": "ipython",
    "version": 3
   },
   "file_extension": ".py",
   "mimetype": "text/x-python",
   "name": "python",
   "nbconvert_exporter": "python",
   "pygments_lexer": "ipython3",
   "version": "3.7.3"
  }
 },
 "nbformat": 4,
 "nbformat_minor": 2
}
