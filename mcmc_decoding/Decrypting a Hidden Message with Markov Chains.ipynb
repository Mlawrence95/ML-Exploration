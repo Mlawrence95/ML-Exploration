{
 "cells": [
  {
   "cell_type": "code",
   "execution_count": 1,
   "metadata": {},
   "outputs": [],
   "source": [
    "import os\n",
    "import re\n",
    "\n",
    "import numpy as np\n",
    "import pandas as pd\n",
    "import matplotlib.pyplot as plt"
   ]
  },
  {
   "cell_type": "markdown",
   "metadata": {},
   "source": [
    "<h1> A Markov matrix (or stochastic matrix) </h1>\n",
    "\n",
    "<p> Gives the probability of reaching a set of states given a set of starting states. Here's a basic example of what such a Markov chain would look if we wanted to model the weather in the evening given the weather in the morning: </p>\n",
    "\n",
    "<img src=\"markov.png\">\n",
    "\n",
    "The starting \"state\" is listed on the left, while the column gives the final outcome. If we wanted to know the probability of Evening Sun given that it there was Morning rain, we would get 0.25 - a 25% chance of that outcome. Note that each row of this matrix is normalized, a statement that if you start in a state, there is a 100% chance that something happens. Nothing tricky here.\n",
    "\n",
    "\n",
    "We can use this concept to build "
   ]
  },
  {
   "cell_type": "code",
   "execution_count": 2,
   "metadata": {},
   "outputs": [],
   "source": [
    "np.random.seed(30)\n",
    "characters = list('abcdefghijklmnopqrstuvwxyz ')\n",
    "cipher     = np.random.permutation(characters)"
   ]
  },
  {
   "cell_type": "code",
   "execution_count": 3,
   "metadata": {
    "scrolled": true
   },
   "outputs": [],
   "source": [
    "# take jumbled code to english\n",
    "correct_map  = {code:   actual for code, actual in zip(cipher, characters)}\n",
    "# take english to jumbled code\n",
    "jumbler      = {actual: code for code, actual in correct_map.items()}\n",
    "# indices of correct english\n",
    "alpha_lookup = {letter: i for i, letter in enumerate(characters)}"
   ]
  },
  {
   "cell_type": "code",
   "execution_count": 4,
   "metadata": {},
   "outputs": [],
   "source": [
    "def clean_chapter(doc):\n",
    "    intermediate = re.sub(r'[^a-z]', ' ', doc)  \n",
    "    return re.sub(r\"\\s\\s+\", \" \", intermediate)"
   ]
  },
  {
   "cell_type": "code",
   "execution_count": 5,
   "metadata": {},
   "outputs": [],
   "source": [
    "def combine_chapters(chapters):\n",
    "    docs = [np.loadtxt(f'./moby_dick/chapter_{chap}.txt', dtype=str) for chap in chapters]\n",
    "    docs = [\" \".join(doc) for doc in docs]\n",
    "    docs = [clean_chapter(doc) for doc in docs]\n",
    "    return \" \".join(docs)"
   ]
  },
  {
   "cell_type": "code",
   "execution_count": 6,
   "metadata": {
    "scrolled": true
   },
   "outputs": [
    {
     "data": {
      "text/plain": [
       "'chapter the hyena there are certain queer times and occasions in this strange mixed affair we call l'"
      ]
     },
     "execution_count": 6,
     "metadata": {},
     "output_type": "execute_result"
    }
   ],
   "source": [
    "train_chapters = combine_chapters(np.arange(1, 40))\n",
    "test_chapters  = combine_chapters([50, 60])\n",
    "\n",
    "test_chapters[:100]"
   ]
  },
  {
   "cell_type": "code",
   "execution_count": 7,
   "metadata": {},
   "outputs": [],
   "source": [
    "def make_cooccurrence_matrix(corpus, smooth_factor=0.01):\n",
    "    \"\"\"\n",
    "    Matrix of counts\n",
    "    \n",
    "    first index is starting char, \n",
    "    second is following char\n",
    "    \"\"\"\n",
    "    counts = np.zeros(shape=(len(characters), len(characters)))\n",
    "    last = None\n",
    "    for index, char in enumerate(corpus):\n",
    "        if index == 0:\n",
    "            last = alpha_lookup[char]\n",
    "            continue\n",
    "            \n",
    "        current = alpha_lookup[char]\n",
    "        counts[last, current] += 1\n",
    "        last = current\n",
    "    \n",
    "    return counts + smooth_factor"
   ]
  },
  {
   "cell_type": "code",
   "execution_count": 8,
   "metadata": {},
   "outputs": [],
   "source": [
    "def make_transition_matrix(corpus, smooth_factor=0.01):\n",
    "    mx = make_cooccurrence_matrix(corpus, smooth_factor)\n",
    "    total_ocs = np.sum(mx, axis=1).reshape(-1, 1)\n",
    "    return mx / total_ocs"
   ]
  },
  {
   "cell_type": "code",
   "execution_count": 9,
   "metadata": {},
   "outputs": [],
   "source": [
    "transition_matrix = make_transition_matrix(train_chapters)"
   ]
  },
  {
   "cell_type": "code",
   "execution_count": 10,
   "metadata": {},
   "outputs": [
    {
     "data": {
      "text/plain": [
       "(0.028496143625383514, 0.02849604221635884)"
      ]
     },
     "execution_count": 10,
     "metadata": {},
     "output_type": "execute_result"
    }
   ],
   "source": [
    "# these should be about the same (up to a smoothing factor)\n",
    "# this is the fraction of times 'b' follows 'a'\n",
    "transition_matrix[0, 1], train_chapters.count('ab') / train_chapters.count('a')"
   ]
  },
  {
   "cell_type": "code",
   "execution_count": 11,
   "metadata": {},
   "outputs": [],
   "source": [
    "def logprob(train_transition_matrix, observation):\n",
    "    observed_counts = make_cooccurrence_matrix(observation, smooth_factor=0)\n",
    "    i, j = np.where(observed_counts)\n",
    "    return np.sum(np.log(train_transition_matrix[i, j]) * observed_counts[i, j])"
   ]
  },
  {
   "cell_type": "code",
   "execution_count": 12,
   "metadata": {},
   "outputs": [
    {
     "data": {
      "text/plain": [
       "-782412.05505489"
      ]
     },
     "execution_count": 12,
     "metadata": {},
     "output_type": "execute_result"
    }
   ],
   "source": [
    "logprob(transition_matrix, train_chapters)"
   ]
  },
  {
   "cell_type": "code",
   "execution_count": 13,
   "metadata": {},
   "outputs": [
    {
     "data": {
      "text/plain": [
       "-23044.594824000356"
      ]
     },
     "execution_count": 13,
     "metadata": {},
     "output_type": "execute_result"
    }
   ],
   "source": [
    "logprob(transition_matrix, test_chapters)"
   ]
  },
  {
   "cell_type": "markdown",
   "metadata": {},
   "source": [
    "MCMC steps:\n",
    "\n",
    "    1) pick random cipher\n",
    "    Until convergence:\n",
    "        2) decode text\n",
    "        3) calculate log likelihood\n",
    "        4) use MH criterion to decide whether to keep new cipher"
   ]
  },
  {
   "cell_type": "code",
   "execution_count": 14,
   "metadata": {},
   "outputs": [],
   "source": [
    "def decipher_string(ciphered_string, decoder):\n",
    "    \"\"\"\n",
    "    Decode a ciphered text.\n",
    "    \n",
    "    Decoder: dict mapping {ciphered char: unciphered char}\n",
    "    \"\"\"\n",
    "    new_str = ''\n",
    "    \n",
    "    for char in ciphered_string:\n",
    "        new_str += decoder[char]\n",
    "        \n",
    "    return new_str\n"
   ]
  },
  {
   "cell_type": "code",
   "execution_count": 15,
   "metadata": {},
   "outputs": [],
   "source": [
    "def encipher_message(unciphered_string, encoder):\n",
    "    return decipher_string(unciphered_string, encoder)"
   ]
  },
  {
   "cell_type": "code",
   "execution_count": 16,
   "metadata": {},
   "outputs": [],
   "source": [
    "def propose_cipher(original_cipher):\n",
    "    \"\"\"\n",
    "    Swap two elements of the cipher at random\n",
    "    \"\"\"\n",
    "    new_cipher = original_cipher.copy()\n",
    "    char1, char2 = np.random.choice(characters, size=2, replace=False)\n",
    "    \n",
    "    char1_val = original_cipher[char1]\n",
    "    char2_val = original_cipher[char2]\n",
    "    \n",
    "    new_cipher[char1] = char2_val\n",
    "    new_cipher[char2] = char1_val\n",
    "    \n",
    "    return new_cipher"
   ]
  },
  {
   "cell_type": "code",
   "execution_count": 17,
   "metadata": {},
   "outputs": [],
   "source": [
    "start_cipher = {ciph: actual for actual, ciph in \n",
    "                zip(np.random.choice(characters, size=27, replace=False), np.random.choice(characters, size=27, replace=False))}\n",
    "ciphered_doc = encipher_message(test_chapters, start_cipher)"
   ]
  },
  {
   "cell_type": "code",
   "execution_count": 18,
   "metadata": {},
   "outputs": [
    {
     "data": {
      "text/plain": [
       "'chapter the hyena there are certain queer times and occasions in this strange mixed affair we call l'"
      ]
     },
     "execution_count": 18,
     "metadata": {},
     "output_type": "execute_result"
    }
   ],
   "source": [
    "test_chapters[:100]"
   ]
  },
  {
   "cell_type": "code",
   "execution_count": 19,
   "metadata": {
    "scrolled": true
   },
   "outputs": [
    {
     "data": {
      "text/plain": [
       "'sthrlqpgltqgtxqkhgltqpqghpqgsqplhwkgceqqpglwzq ghkmgassh wak gwkgltw g lphkdqgzwuqmghoohwpgiqgshbbgb'"
      ]
     },
     "execution_count": 19,
     "metadata": {},
     "output_type": "execute_result"
    }
   ],
   "source": [
    "ciphered_doc[:100]"
   ]
  },
  {
   "cell_type": "code",
   "execution_count": 20,
   "metadata": {},
   "outputs": [],
   "source": [
    "def accept_proposed_cipher(proposed_loglike, original_loglike):\n",
    "    prob_ratio = np.exp(proposed_loglike - original_loglike)\n",
    "    uniform_random = np.random.random()\n",
    "    \n",
    "    return prob_ratio > uniform_random"
   ]
  },
  {
   "cell_type": "code",
   "execution_count": 21,
   "metadata": {
    "scrolled": true
   },
   "outputs": [
    {
     "name": "stdout",
     "output_type": "stream",
     "text": [
      "\n",
      "Cycle: 0  ltpbcrdblcdlucvtdblcrcdtrcd crbtivdsqccrdbifcgdtvzdy  tgiyvgdivdbligdgbrtvmcdfieczdtaatirdwcd thhdh\n"
     ]
    },
    {
     "name": "stderr",
     "output_type": "stream",
     "text": [
      "/usr/local/anaconda3/envs/data-science-environment/lib/python3.7/site-packages/ipykernel_launcher.py:2: RuntimeWarning: overflow encountered in exp\n",
      "  \n"
     ]
    },
    {
     "name": "stdout",
     "output_type": "stream",
     "text": [
      "\n",
      "Cycle: 20  ltbcirucliuldihtucliriutriu irctshunoiirucsfieuthzuy  tesyheushuclseuecrthmiufsgizutpptsrujiu taaua\n",
      "\n",
      "Cycle: 40  etbciruceiuedihtuceiriutriu irctshunoiirucsfiluthzuy  tlsyhlushuceslulcrthmiufsgizutpptsrujiu taaua\n",
      "\n",
      "Cycle: 60 tc feirueciucdih ueciriu riutire ahunoiirueabilu hzuytt layhluahuecaluler hkiubagizu pp arujiut ssus\n",
      "\n",
      "Cycle: 80 ncqfuir uci cpihq uciri qri niruqah toiir uazil qhb ynnqlayhl ah ucal lurqhmi zagib qddqar ji nqss s\n",
      "\n",
      "Cycle: 100 nrefuic uri rhipe urici eci nicueap toiic uazil epb ynnelaypl ap ural lucepmi zakib eddeac ji ness s\n",
      "\n",
      "Cycle: 120 ncewuir uci cpike uciri eri nirueak toiir uazis ekb ynnesayks ak ucas surekmi zahib eddear ji nell l\n",
      "\n",
      "Cycle: 140 ncahlir lci ckipa lciri ari nirlaep moiir lezis apb ynnaseyps ep lces slrapti zevib addaer ji nauu u\n",
      "\n",
      "Cycle: 160 kcahtir tci cnipa tciri ari kirtaep moiir tezis apb ykkaseyps ep tces strapui zevib addaer wi kall l\n",
      "\n",
      "Cycle: 180 ncaftis tci ckipa tcisi asi nistaep moiis tezir apb ynnareypr ep tcer rtsapui zevib addaes wi nall l\n",
      "\n",
      "Cycle: 200 pcaftir tci ckina tciri ari pirtaen moiir tezis anb yppaseyns en tces stranji zexib addaer wi pall l\n",
      "\n",
      "Cycle: 220 dmafuir umi mkina umiri ari diruaen coiir uehis anb yddaseyns en umes suranti hexib appaer wi dall l\n",
      "\n",
      "Cycle: 240 dmaftcr tmc mkcna tmcrc arc dcrtaen ioccr tehcs anb yddaseyns en tmes stranuc hexcb awwaer pc dall l\n",
      "\n",
      "Cycle: 260 dmaftirntminmbi antmirinarindirtae ncoiirntehisna knyddasey sne ntmesnstra ginhexiknawwaernpindallnl\n",
      "\n",
      "Cycle: 280 dmaftir tmi mzina tmiri ari dirtaen coiir tehis ank yddaseyns en tmes strangi hexik awwaer pi dall l\n",
      "\n",
      "Cycle: 300 kmaftir tmi muina tmiri ari kirtaen coiir tehis and ykkaseyns en tmes strangi heqid awwaer pi kall l\n",
      "\n",
      "Cycle: 320 clabtir tli luina tliri ari cirtaen koiir tehis and yccaseyns en tles strangi hemid awwaer pi caxx x\n",
      "\n",
      "Cycle: 340 clibtap tla luani tlapa ipa captien koaap tehas ind ycciseyns en tles stpinga hexad iwwiep ra cimm m\n",
      "\n",
      "Cycle: 360 dliwtar tla luani tlara ira dartien kyaar tehas inc oddiseons en tles stringa hexac ibbier pa dimm m\n",
      "\n",
      "Cycle: 380 cliwtardtladluanidtlaradiradcartiendkyaardtehasdin docciseonsdendtlesdstringadhexa dibbierdpadcimmdm\n",
      "\n",
      "Cycle: 400 cl wtaritlailuan itlarai raicart enikyaaritehasi ndiocc seonsienitlesistr ngaihexadi bb eripaic mmim\n",
      "\n",
      "Cycle: 420 cliwtae tla luani tlaea iea caetirn kyaae trhas ind occisrons rn tlrs steinga hrxad ibbire pa cimm m\n",
      "\n",
      "Cycle: 440 cviwter tve vyeni tvere ire certian kueer tales ind occisaons an tvas stringe laxed ibbiar pe cimm m\n",
      "\n",
      "Cycle: 460 chiwted the hyeni thede ide cedtian fueed tales inr occisaons an thas stdinge laxer ibbiad pe cimm m\n",
      "\n",
      "Cycle: 480 cbiwter tbe byeni tbere ire certian fueer tales ind occisaons an tbas stringe laxed ihhiar pe cimm m\n",
      "\n",
      "Cycle: 500 chiwter the hyeni there ire certian bueer tales ind occisaons an thas stringe laxed iffiar ke cimm m\n",
      "\n",
      "Cycle: 520 chiwter the hyeni there ire certikn jueer tkles ind occiskons kn thks stringe lkxed iffikr pe cimm m\n",
      "\n",
      "Cycle: 540 chawter the hyena there are certain queer tiles and gccasigns in this stranoe lixed affair pe camm m\n",
      "\n",
      "Cycle: 560 chaster the hyena there are certain queer tilew and occawionw in thiw wtrange lixed affair pe camm m\n",
      "\n",
      "Cycle: 580 uhawter the hyena there are uertain qceer tiles and ouuasions in this strange lixed affair pe uamm m\n",
      "\n",
      "Cycle: 600 chawtex the hyena thexe axe cextain queex tiles and occasions in this stxange lired affaix pe camm m\n",
      "\n",
      "Cycle: 620 chawter the hyena there are certain queer tiles and occasions in this strange lixed affair me capp p\n",
      "\n",
      "Cycle: 640 chawtex the hyena thexe axe cextain queex tiles and occasions in this stxange lired affaix pe camm m\n",
      "\n",
      "Cycle: 660 chawler lhe hyena lhere are cerlain queer lites and occasions in lhis slrange tixed affair pe camm m\n",
      "\n",
      "Cycle: 680 chuwter the hyenu there ure certuin qaeer tiles und occusions in this strunge lixed uffuir pe cumm m\n",
      "\n",
      "Cycle: 700 chpwter the hyenp there pre certpin queer tiles pnd occpsions in this strpnge lixed pffpir ae cpmm m\n",
      "\n",
      "Cycle: 720 chaw ert hethyenat heretaretcer aintqueert ilestandtoccasionstint hists rangetlixedtaffairtpetcammtm\n",
      "\n",
      "Cycle: 740 cyawter tye yhena tyere are certain queer tiles and occasions in tyis strange lixed affair pe camm m\n",
      "\n",
      "Cycle: 760 chawter the hyena there are certain queer tifes and occasions in this strange fixed allair pe camm m\n",
      "\n",
      "Cycle: 780 yhawter the hcena there are yertain queer tiles and oyyasions in this strange lixed affair pe yamm m\n",
      "\n",
      "Cycle: 800 cjawter tje jyena tjere are certain queer tiles and occasions in tjis strange lixed affair pe camm m\n",
      "\n",
      "Cycle: 820 chawter the hvena there are certain queer tiles and occasions in this strange lixed affair pe camm m\n",
      "\n",
      "Cycle: 840 chawter the hyeqa there are certaiq nueer times aqd occasioqs iq this straqge mixed affair pe call l\n",
      "\n",
      "Cycle: 860 chawter the hyena there are certain queer times and occasions in this strange mixed affair pe call l\n",
      "\n",
      "Cycle: 880 chabter the hyena there are certain queer timex and occaxionx in thix xtrange mised affair pe call l\n",
      "\n",
      "Cycle: 900 chabtpr thp hypna thprp arp cprtain quppr timps and occasions in this strangp mixpd affair ep call l\n",
      "\n",
      "Cycle: 920 ctabher hte tyena htere are cerhain queer himes and occasions in htis shrange mixed affair pe call l\n",
      "\n",
      "Cycle: 940 chabter the hyena there are certain qoeer times and uccasiuns in this strange mixed affair pe call l\n",
      "\n",
      "Cycle: 960 chabter the hjena there are certain queer times and occasions in this strange mixed affair pe call l\n",
      "\n",
      "Cycle: 980 chabver vhe hyena vhere are cervain queer vimes and occasions in vhis svrange mixed affair pe call l\n",
      "\n",
      "Cycle: 1000 whabter the hyena there are wertain queer times and owwasions in this strange mixed affair pe wall l\n",
      "\n",
      "Cycle: 1020 c abterht eh yenaht ereharehcertainhqueerhtimeshandhoccasionshinht ishstrangehmixedhaffairhpehcallhl\n",
      "\n",
      "Cycle: 1040 chkbter the hyenk there kre certkin queer times knd occksions in this strknge mixed kffkir pe ckll l\n",
      "\n",
      "Cycle: 1060 chabtwr thw hywna thwrw arw cwrtain quwwr timws and occasions in this strangw mixwd affair ew call l\n",
      "\n",
      "Cycle: 1080 hcabter tce cyena tcere are hertain queer times and ohhasions in tcis strange mixed affair we hall l\n",
      "\n",
      "Cycle: 1100 chabter the hyena there are certain queer times and occasions in this strange mixed affair we cajj j\n",
      "\n",
      "Cycle: 1120 chabter the hyena there are certain qveer times and occasions in this strange mixed affair we call l\n",
      "\n",
      "Cycle: 1140 chabter the hyena there are certain queer times ano dccasidns in this strange mixeo affair we call l\n",
      "\n",
      "Cycle: 1160 chabter the hyena there are certain queer tioes and mccasimns in this strange oixed affair we call l\n",
      "\n",
      "Cycle: 1180 chabter the hyena there are certaun qieer tumes and occasuons un thus strange muxed affaur we call l\n",
      "\n",
      "Cycle: 1200 mhabter the hyena there are mertain queer tices and ommasions in this strange cixed affair we mall l\n",
      "\n",
      "Cycle: 1220 chabter the hyena there are certain zueer times and occasions in this strange mixed affair we call l\n",
      "\n",
      "Cycle: 1240 chayter the hbena there are certain queer times and occasions in this strange mixed affair we call l\n",
      "\n",
      "Cycle: 1260 chabter the hxena there are certain queer times and occasions in this strange miyed affair we call l\n",
      "\n",
      "Cycle: 1280 chabuer uhe hyena uhere are ceruain qteer uimes and occasions in uhis surange mixed affair we call l\n",
      "\n",
      "Cycle: 1300 chabter the hyena there are certaqn iueer tqmes and occasqons qn thqs strange mqxed affaqr we call l\n",
      "\n",
      "Cycle: 1320 chatber bhe hyena bhere are cerbain queer bimes and occasions in bhis sbrange mixed affair we call l\n",
      "\n",
      "Cycle: 1340 chabter the hyena there are certapn queer tpmes and occaspons pn thps strange mpxed affapr we call l\n",
      "\n",
      "Cycle: 1360 chadter the hyena there are certain queer times anb occasions in this strange mixeb affair we call l\n",
      "\n",
      "Cycle: 1380 chabter the hyena there are certain qgeer times and occasions in this stranue mixed affair we call l\n",
      "\n",
      "Cycle: 1400 chabter the hyena there are certain queer times and occasions in this strange mixed affair we call l\n",
      "\n",
      "Cycle: 1420 chabter the hyeua there are certaiu qneer times aud occasious iu this strauge mixed affair we call l\n",
      "\n",
      "Cycle: 1440 chabtergtheghyenagtheregaregcertaingqueergtimesgandgoccasionsgingthisgstran egmixedgaffairgwegcallgl\n",
      "\n",
      "Cycle: 1460 chabter the hyena there are certain qoeer times and uccasiuns in this strange mixed affair we call l\n"
     ]
    },
    {
     "name": "stdout",
     "output_type": "stream",
     "text": [
      "\n",
      "Cycle: 1480 chabterstheshyenastheresarescertainsqueerstime sandsocca ion sinsthi s trangesmixedsaffairswescallsl\n",
      "\n",
      "Cycle: 1500 chabtergtheghyenagtheregaregcertaingqueergtimesgandgoccasionsgingthisgstran egmixedgaffairgwegcallgl\n",
      "\n",
      "Cycle: 1520 yhabter the hcena there are yertain queer times and oyyasions in this strange mixed affair we yall l\n",
      "\n",
      "Cycle: 1540 chaptre thr hyrna threr aer cretain qurre timrs and occasions in this steangr mixrd affaie wr call l\n",
      "\n",
      "Cycle: 1560 chdpter the hyend there dre certdin queer times dna occdsions in this strdnge mixea dffdir we cdll l\n",
      "\n",
      "Cycle: 1580 chapter the hyena there are certadn queer tdmes ani occasdons dn thds strange mdxei affadr we call l\n",
      "\n",
      "Cycle: 1600 chqpter the hyenq there qre certqin aueer times qnd occqsions in this strqnge mixed qffqir we cqll l\n",
      "\n",
      "Cycle: 1620 chapter the hyena there are certain queer timex and occaxionx in thix xtrange mised affair we call l\n",
      "\n",
      "Cycle: 1640 chaptev the hyena theve ave cevtain queev times and occasions in this stvange mixed affaiv we call l\n",
      "\n",
      "Cycle: 1660 ahcpter the hyenc there cre aertcin queer times cnd oaacsions in this strcnge mixed cffcir we acll l\n",
      "\n",
      "Cycle: 1680 chapter the hyena there are certakn queer tkmes and occaskons kn thks strange mkxed affakr we call l\n",
      "\n",
      "Cycle: 1700 chaptsr ths hysna thsrs ars csrtain qussr timse and occaeione in thie etrangs mixsd affair ws call l\n",
      "\n",
      "Cycle: 1720 chgpter the hyeng there gre certgin queer times gnd occgsions in this strgnae mixed gffgir we cgll l\n",
      "\n",
      "Cycle: 1740 chapter the hyena there are certain queer times and occasions in this stranwe mixed affair ge call l\n",
      "\n",
      "Cycle: 1760 chypter the haeny there yre certyin queer times ynd occysions in this strynge mixed yffyir we cyll l\n",
      "\n",
      "Cycle: 1780 chapter the hyena there are certain queer times anw occasions in this strange mixew affair de call l\n",
      "\n",
      "Cycle: 1800 chapter the hyena there are certain queer timed ans occadiond in thid dtrange mixes affair we call l\n",
      "\n",
      "Cycle: 1820 chapterzthezhyenaztherezarezcertainzqueerztimeszandzoccasionszinzthiszstrangezmixedzaffairzwezcallzl\n",
      "\n",
      "Cycle: 1840 chapter the hyena there are certain qweer times and occasions in this strange mixed affair ue call l\n",
      "\n",
      "Cycle: 1860 chapter the hyena there are certain queer times anf occasions in this strange mixef addair we call l\n",
      "\n",
      "Cycle: 1880 chipter the hyeni there ire certian queer tames ind occisaons an thas stringe maxed iffiar we cill l\n",
      "\n",
      "Cycle: 1900 yhapter the hcena there are yertain queer times and oyyasions in this strange mixed affair we yall l\n",
      "\n",
      "Cycle: 1920 ohapter the hyena there are oertain queer times and cooasicns in this strange mixed affair we oall l\n",
      "\n",
      "Cycle: 1940 chapter the hyena there are certain queer times and occasions in this strange mixed affair be call l\n",
      "\n",
      "Cycle: 1960 chaptre thr hyrna threr aer cretain qurre timrs and occasions in this steangr mixrd affaie wr call l\n",
      "\n",
      "Cycle: 1980 chapter the hvena there are certain queer times and occasions in this strange mixed affair we call l\n",
      "\n",
      "Cycle: 2000 chapter the hyena there are certain queer times and occasions in this stranje mixed affair we call l\n",
      "\n",
      "Cycle: 2020 chapqer qhe hyena qhere are cerqain tueer qimes and occasions in qhis sqrange mixed affair we call l\n",
      "\n",
      "Cycle: 2040 chapter the hyena there are certain qgeer times and occasions in this stranue mixed affair we call l\n",
      "\n",
      "Cycle: 2060 chaptyr thy heyna thyry ary cyrtain quyyr timys and occasions in this strangy mixyd affair wy call l\n",
      "\n",
      "Cycle: 2080 chaptkr thk hykna thkrk ark ckrtain qukkr timks and occasions in this strangk mixkd affair wk call l\n",
      "\n",
      "Cycle: 2100 chawter the hyena there are certain queer times and occasions in this strange mixed affair pe call l\n",
      "\n",
      "Cycle: 2120 cyapter tye yhena tyere are certain queer times and occasions in tyis strange mixed affair we call l\n",
      "\n",
      "Cycle: 2140 chapter the hyeda there are certaid queer times adn occasiods id this stradge mixen affair we call l\n",
      "\n",
      "Cycle: 2160 chapter the hyena there are certain queer times ang occasions in this strande mixeg affair we call l\n",
      "\n",
      "Cycle: 2180 chaptir thi hyina thiri ari cirtaen quiir temis and occaseons en thes strangi mexid affaer wi call l\n",
      "\n",
      "Cycle: 2200 chapteo the hyena theoe aoe ceotain queeo times and rccasirns in this stoange mixed affaio we call l\n",
      "\n",
      "Cycle: 2220 chapter the hyexa there are certaix queer times axd occasioxs ix this straxge mined affair we call l\n",
      "\n",
      "Cycle: 2240 chapter the hyena there are certain queer times and jccasijns in this strange mixed affair we call l\n",
      "\n",
      "Cycle: 2260 cqapter tqe qyena tqere are certain hueer times and occasions in tqis strange mixed affair we call l\n",
      "\n",
      "Cycle: 2280 chazter the hyena there are certain queer times and occasions in this strange mixed affair we call l\n",
      "\n",
      "Cycle: 2300 chapterdthedhyenadtheredaredcertaindqueerdtimesdan doccasionsdindthisdstrangedmixe daffairdwedcalldl\n",
      "\n",
      "Cycle: 2320 chapter the hyena there are certain queer times and kccasikns in this strange mixed affair we call l\n",
      "\n",
      "Cycle: 2340 chapter the hyena there are certain qweer times and occasions in this strange mixed affair ue call l\n",
      "\n",
      "Cycle: 2360 yhapter the hcena there are yertain queer times and oyyasions in this strange mixed affair we yall l\n",
      "\n",
      "Cycle: 2380 chauter the hyena there are certain qpeer times and occasions in this strange mixed affair we call l\n",
      "\n",
      "Cycle: 2400 chapter the hyena there are certain queer times and occasions in this strange mijed affair we call l\n",
      "\n",
      "Cycle: 2420 chapterlthelhyenaltherelarelcertainlqueerltimeslandloccasionslinlthislstrangelmixedlaffairlwelca  l \n",
      "\n",
      "Cycle: 2440 chaptdr thd hydna thdrd ard cdrtain quddr timds ane occasions in this strangd mixde affair wd call l\n",
      "\n",
      "Cycle: 2460 chaptdr thd hydna thdrd ard cdrtain quddr timds ane occasions in this strangd mixde affair wd call l\n",
      "\n",
      "Cycle: 2480 chapyer yhe htena yhere are ceryain queer yimes and occasions in yhis syrange mixed affair we call l\n"
     ]
    }
   ],
   "source": [
    "n_iterations = 2500\n",
    "current_cipher = start_cipher\n",
    "likes = []\n",
    "\n",
    "for cycle in range(n_iterations):\n",
    "    prop_cipher = propose_cipher(current_cipher)\n",
    "    prop_decoded_text = decipher_string(ciphered_doc, prop_cipher)\n",
    "    \n",
    "    if cycle % 20 == 0:\n",
    "        print(\"\\nCycle:\", cycle, prop_decoded_text[:100])\n",
    "        \n",
    "    og_decoded_text = decipher_string(ciphered_doc, current_cipher)\n",
    "    \n",
    "    prop_loglike = logprob(transition_matrix, prop_decoded_text)\n",
    "    og_loglike  = logprob(transition_matrix, og_decoded_text)\n",
    "    \n",
    "    if accept_proposed_cipher(proposed_loglike=prop_loglike, original_loglike=og_loglike):\n",
    "        current_cipher = prop_cipher\n",
    "        likes += [prop_loglike]\n",
    "    else:\n",
    "        likes += [og_loglike]"
   ]
  },
  {
   "cell_type": "code",
   "execution_count": 22,
   "metadata": {},
   "outputs": [
    {
     "data": {
      "image/png": "[encoded data removed]",
      "text/plain": [
       "<Figure size 432x288 with 1 Axes>"
      ]
     },
     "metadata": {
      "needs_background": "light"
     },
     "output_type": "display_data"
    }
   ],
   "source": [
    "plt.plot(likes);"
   ]
  },
  {
   "cell_type": "code",
   "execution_count": 24,
   "metadata": {},
   "outputs": [
    {
     "data": {
      "text/plain": [
       "'chapter the hyena there are certain queer times and occasions in this strange mixed affair we call life when a man takes this whole universe for a vast practical joke though the wit thereof he but dimly discerns and more than suspects that the joke is at nobody s expense but his own however nothing dispirits and nothing seems worth while disputing he bolts down all events all creeds and beliefs and persuasions all hard things visible and invisible never mind how knobby as an ostrich of potent digestion gobbles down bullets and gun flints and as for small difficulties and worryings prospects of sudden disaster peril of life and limb all these and death itself seem to him only sly good natured hits and jolly punches in the side bestowed by the unseen and unaccountable old joker that odd sort of wayward mood i am speaking of comes over a man only in some time of extreme tribulation it comes in the very midst of his earnestness so that what just before might have seemed to him a thing most momentous now seems but a part of the general joke there is nothing like the perils of whaling to breed this free and easy sort of genial desperado philosophy and with it i now regarded this whole voyage of the pequod and the great white whale its object queequeg said i when they had dragged me the last man to the deck and i was still shaking myself in my jacket to fling off the water queequeg my fine friend does this sort of thing often happen without much emotion though soaked through just like me he gave me to understand that such things did often happen mr stubb said i turning to that worthy who buttoned up in his oil jacket was now calmly smoking his pipe in the rain mr stubb i think i have heard you say that of all whalemen you ever met our chief mate mr starbuck is by far the most careful and prudent i suppose then that going plump on a flying whale with your sail set in a foggy squall is the height of a whaleman s discretion certain i ve lowered for whales from a leaking ship in a gale off cape horn mr flask said i turning to little king post who was standing close by you are experienced in these things and i am not will you tell me whether it is an unalterable law in this fishery mr flask for an oarsman to break his own back pulling himself back foremost into death s jaws can t you twist that smaller said flask yes that s the law i should like to see a boat s crew backing water up to a whale face foremost ha ha the whale would give them squint for squint mind that here then from three impartial witnesses i had a deliberate statement of the entire case considering therefore that squalls and capsizings in the water and consequent bivouacks on the deep were matters of common occurrence in this kind of life considering that at the superlatively critical instant of going on to the whale i must resign my life into the hands of him who steered the boat oftentimes a fellow who at that very moment is in his impetuousness upon the point of scuttling the craft with his own frantic stampings considering that the particular disaster to our own particular boat was chiefly to be imputed to starbuck s driving on to his whale almost in the teeth of a squall and considering that starbuck notwithstanding was famous for his great heedfulness in the fishery considering that i belonged to this uncommonly prudent starbuck s boat and finally considering in what a devil s chase i was implicated touching the white whale taking all things together i say i thought i might as well go below and make a rough draft of my will queequeg said i come along you shall be my lawyer executor and legatee it may seem strange that of all men sailors should be tinkering at their last wills and testaments but there are no people in the world more fond of that diversion this was the fourth time in my nautical life that i had done the same thing after the ceremony was concluded upon the present occasion i felt all the easier a stone was rolled away from my heart besides all the days i should now live would be as good as the days that lazarus lived after his resurrection a supplementary clean gain of so many months or weeks as the case might be i survived myself my death and burial were locked up in my chest i looked round me tranquilly and contentedly like a quiet ghost with a clean conscience sitting inside the bars of a snug family vault now then thought i unconsciously rolling up the sleeves of my frock here goes for a cool collected dive at death and destruction and the devil fetch the hindmost chapter of whales in paint in teeth in wood in sheet iron in stone in mountains in stars on tower hill as you go down to the london docks you may have seen a crippled beggar or kedger as the sailors say holding a painted board before him representing the tragic scene in which he lost his leg there are three whales and three boats and one of the boats presumed to contain the missing leg in all its original integrity is being crunched by the jaws of the foremost whale any time these ten years they tell me has that man held up that picture and exhibited that stump to an incredulous world but the time of his justification has now come his three whales are as good whales as were ever published in wapping at any rate and his stump as unquestionable a stump as any you will find in the western clearings but though for ever mounted on that stump never a stump speech does the poor whaleman make but with downcast eyes stands ruefully contemplating his own amputation throughout the pacific and also in nantucket and new bedford and sag harbor you will come across lively sketches of whales and whaling scenes graven by the fishermen themselves on sperm whale teeth or ladies busks wrought out of the right whale bone and other like skrimshander articles as the whalemen call the numerous little ingenious contrivances they elaborately carve out of the rough material in their hours of ocean leisure some of them have little boxes of dentistical looking implements specially intended for the skrimshandering business but in general they toil with their jack knives alone and with that almost omnipotent tool of the sailor they will turn you out anything you please in the way of a mariner s fancy long exile from christendom and civilization inevitably restores a man to that condition in which god placed him i e what is called savagery your true whale hunter is as much a savage as an iroquois i myself am a savage owning no allegiance but to the king of the cannibals and ready at any moment to rebel against him now one of the peculiar characteristics of the savage in his domestic hours is his wonderful patience of industry an ancient hawaiian war club or spear paddle in its full multiplicity and elaboration of carving is as great a trophy of human perseverance as a latin lexicon for with but a bit of broken sea shell or a shark s tooth that miraculous intricacy of wooden net work has been achieved and it has cost steady years of steady application as with the hawaiian savage so with the white sailor savage with the same marvellous patience and with the same single shark s tooth of his one poor jack knife he will carve you a bit of bone sculpture not quite as workmanlike but as close packed in its maziness of design as the greek savage achilles s shield and full of barbaric spirit and suggestiveness as the prints of that fine old dutch savage albert durer wooden whales or whales cut in profile out of the small dark slabs of the noble south sea war wood are frequently met with in the forecastles of american whalers some of them are done with much accuracy at some old gable roofed country houses you will see brass whales hung by the tail for knockers to the road side door when the porter is sleepy the anvil headed whale would be best but these knocking whales are seldom remarkable as faithful essays on the spires of some old fashioned churches you will see sheet iron whales placed there for weather cocks but they are so elevated and besides that are to all intents and purposes so labelled with hands off you cannot examine them closely enough to decide upon their merit in bony ribby regions of the earth where at the base of high broken cliffs masses of rock lie strewn in fantastic groupings upon the plain you will often discover images as of the petrified forms of the leviathan partly merged in grass which of a windy day breaks against them in a surf of green surges then again in mountainous countries where the traveller is continually girdled by amphitheatrical heights here and there from some lucky point of view you will catch passing glimpses of the profiles of whales defined along the undulating ridges but you must be a thorough whaleman to see these sights and not only that but if you wish to return to such a sight again you must be sure and take the exact intersecting latitude and longitude of your first stand point else so chance like are such observations of the hills that your precise previous stand point would require a laborious re discovery like the soloma islands which still remain incognita though once high ruffed mendanna trod them and old figuera chronicled them nor when expandingly lifted by your subject can you fail to trace out great whales in the starry heavens and boats in pursuit of them as when long filled with thoughts of war the eastern nations saw armies locked in battle among the clouds thus at the north have i chased leviathan round and round the pole with the revolutions of the bright points that first defined him to me and beneath the effulgent antarctic skies i have boarded the argo navis and joined the chase against the starry cetus far beyond the utmost stretch of hydrus and the flying fish with a frigate s anchors for my bridle bitts and fasces of harpoons for spurs would i could mount that whale and leap the topmost skies to see whether the fabled heavens with all their countless tents really lie encamped beyond my mortal sight'"
      ]
     },
     "execution_count": 24,
     "metadata": {},
     "output_type": "execute_result"
    }
   ],
   "source": [
    "decipher_string(ciphered_doc, current_cipher)"
   ]
  },
  {
   "cell_type": "code",
   "execution_count": null,
   "metadata": {},
   "outputs": [],
   "source": []
  }
 ],
 "metadata": {
  "kernelspec": {
   "display_name": "Machine learning sandbox",
   "language": "python",
   "name": "data-science-environment"
  },
  "language_info": {
   "codemirror_mode": {
    "name": "ipython",
    "version": 3
   },
   "file_extension": ".py",
   "mimetype": "text/x-python",
   "name": "python",
   "nbconvert_exporter": "python",
   "pygments_lexer": "ipython3",
   "version": "3.7.6"
  }
 },
 "nbformat": 4,
 "nbformat_minor": 2
}
